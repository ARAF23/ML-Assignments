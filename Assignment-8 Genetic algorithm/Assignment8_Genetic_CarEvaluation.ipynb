{
  "nbformat": 4,
  "nbformat_minor": 0,
  "metadata": {
    "colab": {
      "provenance": [],
      "collapsed_sections": [
        "qbP-xjmONja9",
        "7hz2N-tr62zo",
        "UxRsznf94OrX",
        "KVb30_VMJJAX",
        "CtT3L3Y0nLuD",
        "g0-KpGotnOaI",
        "Df5QnsI9Zc9n",
        "LBPHaW-WZkfJ",
        "exhPRWVNct6j",
        "tIkucCwbcYXT"
      ]
    },
    "kernelspec": {
      "name": "python3",
      "display_name": "Python 3"
    }
  },
  "cells": [
    {
      "cell_type": "code",
      "source": [
        "''''Assignment #8\n",
        "Rezwan-Ul-Alam (ID: 2011659042)\n",
        "Md. Nur Alam Jowel (ID: 2012355042)\n",
        "Raian Ruku (ID: 2013409642)'''"
      ],
      "metadata": {
        "id": "8YgVCV9Z3vnz"
      },
      "execution_count": null,
      "outputs": []
    },
    {
      "cell_type": "code",
      "source": [
        "from google.colab import drive"
      ],
      "metadata": {
        "id": "mtfvz65o3MTg"
      },
      "execution_count": 1,
      "outputs": []
    },
    {
      "cell_type": "code",
      "source": [
        "drive.mount('/content/gdrive')"
      ],
      "metadata": {
        "colab": {
          "base_uri": "https://localhost:8080/"
        },
        "id": "5iiqwv6d3fNu",
        "outputId": "438f5e82-20fe-4eaf-a451-f3bc312e5ea3"
      },
      "execution_count": 2,
      "outputs": [
        {
          "output_type": "stream",
          "name": "stdout",
          "text": [
            "Mounted at /content/gdrive\n"
          ]
        }
      ]
    },
    {
      "metadata": {
        "id": "u3rIkXy8wJQg"
      },
      "cell_type": "code",
      "source": [
        "import numpy as np\n",
        "import pandas as pd\n",
        "from sklearn.model_selection import train_test_split\n",
        "from sklearn.metrics import accuracy_score\n",
        "from sklearn.tree import DecisionTreeClassifier\n",
        "from sklearn.linear_model import LogisticRegression\n",
        "from sklearn.svm import SVC"
      ],
      "execution_count": 3,
      "outputs": []
    },
    {
      "metadata": {
        "id": "qbP-xjmONja9"
      },
      "cell_type": "markdown",
      "source": [
        "# Data Visualization"
      ]
    },
    {
      "metadata": {
        "id": "VFpfrCsmzV2J",
        "outputId": "db52e28f-75cf-4761-8c9d-3f51c27c2356",
        "colab": {
          "base_uri": "https://localhost:8080/",
          "height": 206
        }
      },
      "cell_type": "code",
      "source": [
        "data = pd.read_csv('/content/gdrive/MyDrive/data/car.csv', header = None)\n",
        "data.head()\n"
      ],
      "execution_count": 4,
      "outputs": [
        {
          "output_type": "execute_result",
          "data": {
            "text/plain": [
              "       0      1  2  3      4     5      6\n",
              "0  vhigh  vhigh  2  2  small   low  unacc\n",
              "1  vhigh  vhigh  2  2  small   med  unacc\n",
              "2  vhigh  vhigh  2  2  small  high  unacc\n",
              "3  vhigh  vhigh  2  2    med   low  unacc\n",
              "4  vhigh  vhigh  2  2    med   med  unacc"
            ],
            "text/html": [
              "\n",
              "  <div id=\"df-c7797022-a8b6-40f3-a15a-c49d15f51807\" class=\"colab-df-container\">\n",
              "    <div>\n",
              "<style scoped>\n",
              "    .dataframe tbody tr th:only-of-type {\n",
              "        vertical-align: middle;\n",
              "    }\n",
              "\n",
              "    .dataframe tbody tr th {\n",
              "        vertical-align: top;\n",
              "    }\n",
              "\n",
              "    .dataframe thead th {\n",
              "        text-align: right;\n",
              "    }\n",
              "</style>\n",
              "<table border=\"1\" class=\"dataframe\">\n",
              "  <thead>\n",
              "    <tr style=\"text-align: right;\">\n",
              "      <th></th>\n",
              "      <th>0</th>\n",
              "      <th>1</th>\n",
              "      <th>2</th>\n",
              "      <th>3</th>\n",
              "      <th>4</th>\n",
              "      <th>5</th>\n",
              "      <th>6</th>\n",
              "    </tr>\n",
              "  </thead>\n",
              "  <tbody>\n",
              "    <tr>\n",
              "      <th>0</th>\n",
              "      <td>vhigh</td>\n",
              "      <td>vhigh</td>\n",
              "      <td>2</td>\n",
              "      <td>2</td>\n",
              "      <td>small</td>\n",
              "      <td>low</td>\n",
              "      <td>unacc</td>\n",
              "    </tr>\n",
              "    <tr>\n",
              "      <th>1</th>\n",
              "      <td>vhigh</td>\n",
              "      <td>vhigh</td>\n",
              "      <td>2</td>\n",
              "      <td>2</td>\n",
              "      <td>small</td>\n",
              "      <td>med</td>\n",
              "      <td>unacc</td>\n",
              "    </tr>\n",
              "    <tr>\n",
              "      <th>2</th>\n",
              "      <td>vhigh</td>\n",
              "      <td>vhigh</td>\n",
              "      <td>2</td>\n",
              "      <td>2</td>\n",
              "      <td>small</td>\n",
              "      <td>high</td>\n",
              "      <td>unacc</td>\n",
              "    </tr>\n",
              "    <tr>\n",
              "      <th>3</th>\n",
              "      <td>vhigh</td>\n",
              "      <td>vhigh</td>\n",
              "      <td>2</td>\n",
              "      <td>2</td>\n",
              "      <td>med</td>\n",
              "      <td>low</td>\n",
              "      <td>unacc</td>\n",
              "    </tr>\n",
              "    <tr>\n",
              "      <th>4</th>\n",
              "      <td>vhigh</td>\n",
              "      <td>vhigh</td>\n",
              "      <td>2</td>\n",
              "      <td>2</td>\n",
              "      <td>med</td>\n",
              "      <td>med</td>\n",
              "      <td>unacc</td>\n",
              "    </tr>\n",
              "  </tbody>\n",
              "</table>\n",
              "</div>\n",
              "    <div class=\"colab-df-buttons\">\n",
              "\n",
              "  <div class=\"colab-df-container\">\n",
              "    <button class=\"colab-df-convert\" onclick=\"convertToInteractive('df-c7797022-a8b6-40f3-a15a-c49d15f51807')\"\n",
              "            title=\"Convert this dataframe to an interactive table.\"\n",
              "            style=\"display:none;\">\n",
              "\n",
              "  <svg xmlns=\"http://www.w3.org/2000/svg\" height=\"24px\" viewBox=\"0 -960 960 960\">\n",
              "    <path d=\"M120-120v-720h720v720H120Zm60-500h600v-160H180v160Zm220 220h160v-160H400v160Zm0 220h160v-160H400v160ZM180-400h160v-160H180v160Zm440 0h160v-160H620v160ZM180-180h160v-160H180v160Zm440 0h160v-160H620v160Z\"/>\n",
              "  </svg>\n",
              "    </button>\n",
              "\n",
              "  <style>\n",
              "    .colab-df-container {\n",
              "      display:flex;\n",
              "      gap: 12px;\n",
              "    }\n",
              "\n",
              "    .colab-df-convert {\n",
              "      background-color: #E8F0FE;\n",
              "      border: none;\n",
              "      border-radius: 50%;\n",
              "      cursor: pointer;\n",
              "      display: none;\n",
              "      fill: #1967D2;\n",
              "      height: 32px;\n",
              "      padding: 0 0 0 0;\n",
              "      width: 32px;\n",
              "    }\n",
              "\n",
              "    .colab-df-convert:hover {\n",
              "      background-color: #E2EBFA;\n",
              "      box-shadow: 0px 1px 2px rgba(60, 64, 67, 0.3), 0px 1px 3px 1px rgba(60, 64, 67, 0.15);\n",
              "      fill: #174EA6;\n",
              "    }\n",
              "\n",
              "    .colab-df-buttons div {\n",
              "      margin-bottom: 4px;\n",
              "    }\n",
              "\n",
              "    [theme=dark] .colab-df-convert {\n",
              "      background-color: #3B4455;\n",
              "      fill: #D2E3FC;\n",
              "    }\n",
              "\n",
              "    [theme=dark] .colab-df-convert:hover {\n",
              "      background-color: #434B5C;\n",
              "      box-shadow: 0px 1px 3px 1px rgba(0, 0, 0, 0.15);\n",
              "      filter: drop-shadow(0px 1px 2px rgba(0, 0, 0, 0.3));\n",
              "      fill: #FFFFFF;\n",
              "    }\n",
              "  </style>\n",
              "\n",
              "    <script>\n",
              "      const buttonEl =\n",
              "        document.querySelector('#df-c7797022-a8b6-40f3-a15a-c49d15f51807 button.colab-df-convert');\n",
              "      buttonEl.style.display =\n",
              "        google.colab.kernel.accessAllowed ? 'block' : 'none';\n",
              "\n",
              "      async function convertToInteractive(key) {\n",
              "        const element = document.querySelector('#df-c7797022-a8b6-40f3-a15a-c49d15f51807');\n",
              "        const dataTable =\n",
              "          await google.colab.kernel.invokeFunction('convertToInteractive',\n",
              "                                                    [key], {});\n",
              "        if (!dataTable) return;\n",
              "\n",
              "        const docLinkHtml = 'Like what you see? Visit the ' +\n",
              "          '<a target=\"_blank\" href=https://colab.research.google.com/notebooks/data_table.ipynb>data table notebook</a>'\n",
              "          + ' to learn more about interactive tables.';\n",
              "        element.innerHTML = '';\n",
              "        dataTable['output_type'] = 'display_data';\n",
              "        await google.colab.output.renderOutput(dataTable, element);\n",
              "        const docLink = document.createElement('div');\n",
              "        docLink.innerHTML = docLinkHtml;\n",
              "        element.appendChild(docLink);\n",
              "      }\n",
              "    </script>\n",
              "  </div>\n",
              "\n",
              "\n",
              "<div id=\"df-adc361ea-0e48-4df3-83cd-802e59123bd5\">\n",
              "  <button class=\"colab-df-quickchart\" onclick=\"quickchart('df-adc361ea-0e48-4df3-83cd-802e59123bd5')\"\n",
              "            title=\"Suggest charts\"\n",
              "            style=\"display:none;\">\n",
              "\n",
              "<svg xmlns=\"http://www.w3.org/2000/svg\" height=\"24px\"viewBox=\"0 0 24 24\"\n",
              "     width=\"24px\">\n",
              "    <g>\n",
              "        <path d=\"M19 3H5c-1.1 0-2 .9-2 2v14c0 1.1.9 2 2 2h14c1.1 0 2-.9 2-2V5c0-1.1-.9-2-2-2zM9 17H7v-7h2v7zm4 0h-2V7h2v10zm4 0h-2v-4h2v4z\"/>\n",
              "    </g>\n",
              "</svg>\n",
              "  </button>\n",
              "\n",
              "<style>\n",
              "  .colab-df-quickchart {\n",
              "      --bg-color: #E8F0FE;\n",
              "      --fill-color: #1967D2;\n",
              "      --hover-bg-color: #E2EBFA;\n",
              "      --hover-fill-color: #174EA6;\n",
              "      --disabled-fill-color: #AAA;\n",
              "      --disabled-bg-color: #DDD;\n",
              "  }\n",
              "\n",
              "  [theme=dark] .colab-df-quickchart {\n",
              "      --bg-color: #3B4455;\n",
              "      --fill-color: #D2E3FC;\n",
              "      --hover-bg-color: #434B5C;\n",
              "      --hover-fill-color: #FFFFFF;\n",
              "      --disabled-bg-color: #3B4455;\n",
              "      --disabled-fill-color: #666;\n",
              "  }\n",
              "\n",
              "  .colab-df-quickchart {\n",
              "    background-color: var(--bg-color);\n",
              "    border: none;\n",
              "    border-radius: 50%;\n",
              "    cursor: pointer;\n",
              "    display: none;\n",
              "    fill: var(--fill-color);\n",
              "    height: 32px;\n",
              "    padding: 0;\n",
              "    width: 32px;\n",
              "  }\n",
              "\n",
              "  .colab-df-quickchart:hover {\n",
              "    background-color: var(--hover-bg-color);\n",
              "    box-shadow: 0 1px 2px rgba(60, 64, 67, 0.3), 0 1px 3px 1px rgba(60, 64, 67, 0.15);\n",
              "    fill: var(--button-hover-fill-color);\n",
              "  }\n",
              "\n",
              "  .colab-df-quickchart-complete:disabled,\n",
              "  .colab-df-quickchart-complete:disabled:hover {\n",
              "    background-color: var(--disabled-bg-color);\n",
              "    fill: var(--disabled-fill-color);\n",
              "    box-shadow: none;\n",
              "  }\n",
              "\n",
              "  .colab-df-spinner {\n",
              "    border: 2px solid var(--fill-color);\n",
              "    border-color: transparent;\n",
              "    border-bottom-color: var(--fill-color);\n",
              "    animation:\n",
              "      spin 1s steps(1) infinite;\n",
              "  }\n",
              "\n",
              "  @keyframes spin {\n",
              "    0% {\n",
              "      border-color: transparent;\n",
              "      border-bottom-color: var(--fill-color);\n",
              "      border-left-color: var(--fill-color);\n",
              "    }\n",
              "    20% {\n",
              "      border-color: transparent;\n",
              "      border-left-color: var(--fill-color);\n",
              "      border-top-color: var(--fill-color);\n",
              "    }\n",
              "    30% {\n",
              "      border-color: transparent;\n",
              "      border-left-color: var(--fill-color);\n",
              "      border-top-color: var(--fill-color);\n",
              "      border-right-color: var(--fill-color);\n",
              "    }\n",
              "    40% {\n",
              "      border-color: transparent;\n",
              "      border-right-color: var(--fill-color);\n",
              "      border-top-color: var(--fill-color);\n",
              "    }\n",
              "    60% {\n",
              "      border-color: transparent;\n",
              "      border-right-color: var(--fill-color);\n",
              "    }\n",
              "    80% {\n",
              "      border-color: transparent;\n",
              "      border-right-color: var(--fill-color);\n",
              "      border-bottom-color: var(--fill-color);\n",
              "    }\n",
              "    90% {\n",
              "      border-color: transparent;\n",
              "      border-bottom-color: var(--fill-color);\n",
              "    }\n",
              "  }\n",
              "</style>\n",
              "\n",
              "  <script>\n",
              "    async function quickchart(key) {\n",
              "      const quickchartButtonEl =\n",
              "        document.querySelector('#' + key + ' button');\n",
              "      quickchartButtonEl.disabled = true;  // To prevent multiple clicks.\n",
              "      quickchartButtonEl.classList.add('colab-df-spinner');\n",
              "      try {\n",
              "        const charts = await google.colab.kernel.invokeFunction(\n",
              "            'suggestCharts', [key], {});\n",
              "      } catch (error) {\n",
              "        console.error('Error during call to suggestCharts:', error);\n",
              "      }\n",
              "      quickchartButtonEl.classList.remove('colab-df-spinner');\n",
              "      quickchartButtonEl.classList.add('colab-df-quickchart-complete');\n",
              "    }\n",
              "    (() => {\n",
              "      let quickchartButtonEl =\n",
              "        document.querySelector('#df-adc361ea-0e48-4df3-83cd-802e59123bd5 button');\n",
              "      quickchartButtonEl.style.display =\n",
              "        google.colab.kernel.accessAllowed ? 'block' : 'none';\n",
              "    })();\n",
              "  </script>\n",
              "</div>\n",
              "    </div>\n",
              "  </div>\n"
            ],
            "application/vnd.google.colaboratory.intrinsic+json": {
              "type": "dataframe",
              "variable_name": "data",
              "summary": "{\n  \"name\": \"data\",\n  \"rows\": 1728,\n  \"fields\": [\n    {\n      \"column\": 0,\n      \"properties\": {\n        \"dtype\": \"category\",\n        \"num_unique_values\": 4,\n        \"samples\": [\n          \"high\",\n          \"low\",\n          \"vhigh\"\n        ],\n        \"semantic_type\": \"\",\n        \"description\": \"\"\n      }\n    },\n    {\n      \"column\": 1,\n      \"properties\": {\n        \"dtype\": \"category\",\n        \"num_unique_values\": 4,\n        \"samples\": [\n          \"high\",\n          \"low\",\n          \"vhigh\"\n        ],\n        \"semantic_type\": \"\",\n        \"description\": \"\"\n      }\n    },\n    {\n      \"column\": 2,\n      \"properties\": {\n        \"dtype\": \"category\",\n        \"num_unique_values\": 4,\n        \"samples\": [\n          \"3\",\n          \"5more\",\n          \"2\"\n        ],\n        \"semantic_type\": \"\",\n        \"description\": \"\"\n      }\n    },\n    {\n      \"column\": 3,\n      \"properties\": {\n        \"dtype\": \"category\",\n        \"num_unique_values\": 3,\n        \"samples\": [\n          \"2\",\n          \"4\",\n          \"more\"\n        ],\n        \"semantic_type\": \"\",\n        \"description\": \"\"\n      }\n    },\n    {\n      \"column\": 4,\n      \"properties\": {\n        \"dtype\": \"category\",\n        \"num_unique_values\": 3,\n        \"samples\": [\n          \"small\",\n          \"med\",\n          \"big\"\n        ],\n        \"semantic_type\": \"\",\n        \"description\": \"\"\n      }\n    },\n    {\n      \"column\": 5,\n      \"properties\": {\n        \"dtype\": \"category\",\n        \"num_unique_values\": 3,\n        \"samples\": [\n          \"low\",\n          \"med\",\n          \"high\"\n        ],\n        \"semantic_type\": \"\",\n        \"description\": \"\"\n      }\n    },\n    {\n      \"column\": 6,\n      \"properties\": {\n        \"dtype\": \"category\",\n        \"num_unique_values\": 4,\n        \"samples\": [\n          \"acc\",\n          \"good\",\n          \"unacc\"\n        ],\n        \"semantic_type\": \"\",\n        \"description\": \"\"\n      }\n    }\n  ]\n}"
            }
          },
          "metadata": {},
          "execution_count": 4
        }
      ]
    },
    {
      "cell_type": "code",
      "source": [
        "print(\"Shape of the Data: \", data.shape )"
      ],
      "metadata": {
        "colab": {
          "base_uri": "https://localhost:8080/"
        },
        "id": "Tgn_rhCU3tLh",
        "outputId": "2f6d263f-7d6a-430d-eec0-5e0381158005"
      },
      "execution_count": 5,
      "outputs": [
        {
          "output_type": "stream",
          "name": "stdout",
          "text": [
            "Shape of the Data:  (1728, 7)\n"
          ]
        }
      ]
    },
    {
      "metadata": {
        "id": "wDMyyYFlbuL2"
      },
      "cell_type": "code",
      "source": [
        "\n",
        "data.columns = ['Price', 'Maintenance', 'Number of Doors', 'Capacity', 'Size of Luggage Boot', 'estimated safety', 'classes']\n"
      ],
      "execution_count": 6,
      "outputs": []
    },
    {
      "metadata": {
        "id": "yHuo1Wn9YF8C",
        "colab": {
          "base_uri": "https://localhost:8080/",
          "height": 206
        },
        "outputId": "a952a336-6278-474a-beb1-635bb202dc71"
      },
      "cell_type": "code",
      "source": [
        "data.head()"
      ],
      "execution_count": 7,
      "outputs": [
        {
          "output_type": "execute_result",
          "data": {
            "text/plain": [
              "   Price Maintenance Number of Doors Capacity Size of Luggage Boot  \\\n",
              "0  vhigh       vhigh               2        2                small   \n",
              "1  vhigh       vhigh               2        2                small   \n",
              "2  vhigh       vhigh               2        2                small   \n",
              "3  vhigh       vhigh               2        2                  med   \n",
              "4  vhigh       vhigh               2        2                  med   \n",
              "\n",
              "  estimated safety classes  \n",
              "0              low   unacc  \n",
              "1              med   unacc  \n",
              "2             high   unacc  \n",
              "3              low   unacc  \n",
              "4              med   unacc  "
            ],
            "text/html": [
              "\n",
              "  <div id=\"df-b0bbc339-1f7f-4cc3-826d-77f7c2f3d4ce\" class=\"colab-df-container\">\n",
              "    <div>\n",
              "<style scoped>\n",
              "    .dataframe tbody tr th:only-of-type {\n",
              "        vertical-align: middle;\n",
              "    }\n",
              "\n",
              "    .dataframe tbody tr th {\n",
              "        vertical-align: top;\n",
              "    }\n",
              "\n",
              "    .dataframe thead th {\n",
              "        text-align: right;\n",
              "    }\n",
              "</style>\n",
              "<table border=\"1\" class=\"dataframe\">\n",
              "  <thead>\n",
              "    <tr style=\"text-align: right;\">\n",
              "      <th></th>\n",
              "      <th>Price</th>\n",
              "      <th>Maintenance</th>\n",
              "      <th>Number of Doors</th>\n",
              "      <th>Capacity</th>\n",
              "      <th>Size of Luggage Boot</th>\n",
              "      <th>estimated safety</th>\n",
              "      <th>classes</th>\n",
              "    </tr>\n",
              "  </thead>\n",
              "  <tbody>\n",
              "    <tr>\n",
              "      <th>0</th>\n",
              "      <td>vhigh</td>\n",
              "      <td>vhigh</td>\n",
              "      <td>2</td>\n",
              "      <td>2</td>\n",
              "      <td>small</td>\n",
              "      <td>low</td>\n",
              "      <td>unacc</td>\n",
              "    </tr>\n",
              "    <tr>\n",
              "      <th>1</th>\n",
              "      <td>vhigh</td>\n",
              "      <td>vhigh</td>\n",
              "      <td>2</td>\n",
              "      <td>2</td>\n",
              "      <td>small</td>\n",
              "      <td>med</td>\n",
              "      <td>unacc</td>\n",
              "    </tr>\n",
              "    <tr>\n",
              "      <th>2</th>\n",
              "      <td>vhigh</td>\n",
              "      <td>vhigh</td>\n",
              "      <td>2</td>\n",
              "      <td>2</td>\n",
              "      <td>small</td>\n",
              "      <td>high</td>\n",
              "      <td>unacc</td>\n",
              "    </tr>\n",
              "    <tr>\n",
              "      <th>3</th>\n",
              "      <td>vhigh</td>\n",
              "      <td>vhigh</td>\n",
              "      <td>2</td>\n",
              "      <td>2</td>\n",
              "      <td>med</td>\n",
              "      <td>low</td>\n",
              "      <td>unacc</td>\n",
              "    </tr>\n",
              "    <tr>\n",
              "      <th>4</th>\n",
              "      <td>vhigh</td>\n",
              "      <td>vhigh</td>\n",
              "      <td>2</td>\n",
              "      <td>2</td>\n",
              "      <td>med</td>\n",
              "      <td>med</td>\n",
              "      <td>unacc</td>\n",
              "    </tr>\n",
              "  </tbody>\n",
              "</table>\n",
              "</div>\n",
              "    <div class=\"colab-df-buttons\">\n",
              "\n",
              "  <div class=\"colab-df-container\">\n",
              "    <button class=\"colab-df-convert\" onclick=\"convertToInteractive('df-b0bbc339-1f7f-4cc3-826d-77f7c2f3d4ce')\"\n",
              "            title=\"Convert this dataframe to an interactive table.\"\n",
              "            style=\"display:none;\">\n",
              "\n",
              "  <svg xmlns=\"http://www.w3.org/2000/svg\" height=\"24px\" viewBox=\"0 -960 960 960\">\n",
              "    <path d=\"M120-120v-720h720v720H120Zm60-500h600v-160H180v160Zm220 220h160v-160H400v160Zm0 220h160v-160H400v160ZM180-400h160v-160H180v160Zm440 0h160v-160H620v160ZM180-180h160v-160H180v160Zm440 0h160v-160H620v160Z\"/>\n",
              "  </svg>\n",
              "    </button>\n",
              "\n",
              "  <style>\n",
              "    .colab-df-container {\n",
              "      display:flex;\n",
              "      gap: 12px;\n",
              "    }\n",
              "\n",
              "    .colab-df-convert {\n",
              "      background-color: #E8F0FE;\n",
              "      border: none;\n",
              "      border-radius: 50%;\n",
              "      cursor: pointer;\n",
              "      display: none;\n",
              "      fill: #1967D2;\n",
              "      height: 32px;\n",
              "      padding: 0 0 0 0;\n",
              "      width: 32px;\n",
              "    }\n",
              "\n",
              "    .colab-df-convert:hover {\n",
              "      background-color: #E2EBFA;\n",
              "      box-shadow: 0px 1px 2px rgba(60, 64, 67, 0.3), 0px 1px 3px 1px rgba(60, 64, 67, 0.15);\n",
              "      fill: #174EA6;\n",
              "    }\n",
              "\n",
              "    .colab-df-buttons div {\n",
              "      margin-bottom: 4px;\n",
              "    }\n",
              "\n",
              "    [theme=dark] .colab-df-convert {\n",
              "      background-color: #3B4455;\n",
              "      fill: #D2E3FC;\n",
              "    }\n",
              "\n",
              "    [theme=dark] .colab-df-convert:hover {\n",
              "      background-color: #434B5C;\n",
              "      box-shadow: 0px 1px 3px 1px rgba(0, 0, 0, 0.15);\n",
              "      filter: drop-shadow(0px 1px 2px rgba(0, 0, 0, 0.3));\n",
              "      fill: #FFFFFF;\n",
              "    }\n",
              "  </style>\n",
              "\n",
              "    <script>\n",
              "      const buttonEl =\n",
              "        document.querySelector('#df-b0bbc339-1f7f-4cc3-826d-77f7c2f3d4ce button.colab-df-convert');\n",
              "      buttonEl.style.display =\n",
              "        google.colab.kernel.accessAllowed ? 'block' : 'none';\n",
              "\n",
              "      async function convertToInteractive(key) {\n",
              "        const element = document.querySelector('#df-b0bbc339-1f7f-4cc3-826d-77f7c2f3d4ce');\n",
              "        const dataTable =\n",
              "          await google.colab.kernel.invokeFunction('convertToInteractive',\n",
              "                                                    [key], {});\n",
              "        if (!dataTable) return;\n",
              "\n",
              "        const docLinkHtml = 'Like what you see? Visit the ' +\n",
              "          '<a target=\"_blank\" href=https://colab.research.google.com/notebooks/data_table.ipynb>data table notebook</a>'\n",
              "          + ' to learn more about interactive tables.';\n",
              "        element.innerHTML = '';\n",
              "        dataTable['output_type'] = 'display_data';\n",
              "        await google.colab.output.renderOutput(dataTable, element);\n",
              "        const docLink = document.createElement('div');\n",
              "        docLink.innerHTML = docLinkHtml;\n",
              "        element.appendChild(docLink);\n",
              "      }\n",
              "    </script>\n",
              "  </div>\n",
              "\n",
              "\n",
              "<div id=\"df-8095b24f-d238-4767-8ea6-fedca00add4c\">\n",
              "  <button class=\"colab-df-quickchart\" onclick=\"quickchart('df-8095b24f-d238-4767-8ea6-fedca00add4c')\"\n",
              "            title=\"Suggest charts\"\n",
              "            style=\"display:none;\">\n",
              "\n",
              "<svg xmlns=\"http://www.w3.org/2000/svg\" height=\"24px\"viewBox=\"0 0 24 24\"\n",
              "     width=\"24px\">\n",
              "    <g>\n",
              "        <path d=\"M19 3H5c-1.1 0-2 .9-2 2v14c0 1.1.9 2 2 2h14c1.1 0 2-.9 2-2V5c0-1.1-.9-2-2-2zM9 17H7v-7h2v7zm4 0h-2V7h2v10zm4 0h-2v-4h2v4z\"/>\n",
              "    </g>\n",
              "</svg>\n",
              "  </button>\n",
              "\n",
              "<style>\n",
              "  .colab-df-quickchart {\n",
              "      --bg-color: #E8F0FE;\n",
              "      --fill-color: #1967D2;\n",
              "      --hover-bg-color: #E2EBFA;\n",
              "      --hover-fill-color: #174EA6;\n",
              "      --disabled-fill-color: #AAA;\n",
              "      --disabled-bg-color: #DDD;\n",
              "  }\n",
              "\n",
              "  [theme=dark] .colab-df-quickchart {\n",
              "      --bg-color: #3B4455;\n",
              "      --fill-color: #D2E3FC;\n",
              "      --hover-bg-color: #434B5C;\n",
              "      --hover-fill-color: #FFFFFF;\n",
              "      --disabled-bg-color: #3B4455;\n",
              "      --disabled-fill-color: #666;\n",
              "  }\n",
              "\n",
              "  .colab-df-quickchart {\n",
              "    background-color: var(--bg-color);\n",
              "    border: none;\n",
              "    border-radius: 50%;\n",
              "    cursor: pointer;\n",
              "    display: none;\n",
              "    fill: var(--fill-color);\n",
              "    height: 32px;\n",
              "    padding: 0;\n",
              "    width: 32px;\n",
              "  }\n",
              "\n",
              "  .colab-df-quickchart:hover {\n",
              "    background-color: var(--hover-bg-color);\n",
              "    box-shadow: 0 1px 2px rgba(60, 64, 67, 0.3), 0 1px 3px 1px rgba(60, 64, 67, 0.15);\n",
              "    fill: var(--button-hover-fill-color);\n",
              "  }\n",
              "\n",
              "  .colab-df-quickchart-complete:disabled,\n",
              "  .colab-df-quickchart-complete:disabled:hover {\n",
              "    background-color: var(--disabled-bg-color);\n",
              "    fill: var(--disabled-fill-color);\n",
              "    box-shadow: none;\n",
              "  }\n",
              "\n",
              "  .colab-df-spinner {\n",
              "    border: 2px solid var(--fill-color);\n",
              "    border-color: transparent;\n",
              "    border-bottom-color: var(--fill-color);\n",
              "    animation:\n",
              "      spin 1s steps(1) infinite;\n",
              "  }\n",
              "\n",
              "  @keyframes spin {\n",
              "    0% {\n",
              "      border-color: transparent;\n",
              "      border-bottom-color: var(--fill-color);\n",
              "      border-left-color: var(--fill-color);\n",
              "    }\n",
              "    20% {\n",
              "      border-color: transparent;\n",
              "      border-left-color: var(--fill-color);\n",
              "      border-top-color: var(--fill-color);\n",
              "    }\n",
              "    30% {\n",
              "      border-color: transparent;\n",
              "      border-left-color: var(--fill-color);\n",
              "      border-top-color: var(--fill-color);\n",
              "      border-right-color: var(--fill-color);\n",
              "    }\n",
              "    40% {\n",
              "      border-color: transparent;\n",
              "      border-right-color: var(--fill-color);\n",
              "      border-top-color: var(--fill-color);\n",
              "    }\n",
              "    60% {\n",
              "      border-color: transparent;\n",
              "      border-right-color: var(--fill-color);\n",
              "    }\n",
              "    80% {\n",
              "      border-color: transparent;\n",
              "      border-right-color: var(--fill-color);\n",
              "      border-bottom-color: var(--fill-color);\n",
              "    }\n",
              "    90% {\n",
              "      border-color: transparent;\n",
              "      border-bottom-color: var(--fill-color);\n",
              "    }\n",
              "  }\n",
              "</style>\n",
              "\n",
              "  <script>\n",
              "    async function quickchart(key) {\n",
              "      const quickchartButtonEl =\n",
              "        document.querySelector('#' + key + ' button');\n",
              "      quickchartButtonEl.disabled = true;  // To prevent multiple clicks.\n",
              "      quickchartButtonEl.classList.add('colab-df-spinner');\n",
              "      try {\n",
              "        const charts = await google.colab.kernel.invokeFunction(\n",
              "            'suggestCharts', [key], {});\n",
              "      } catch (error) {\n",
              "        console.error('Error during call to suggestCharts:', error);\n",
              "      }\n",
              "      quickchartButtonEl.classList.remove('colab-df-spinner');\n",
              "      quickchartButtonEl.classList.add('colab-df-quickchart-complete');\n",
              "    }\n",
              "    (() => {\n",
              "      let quickchartButtonEl =\n",
              "        document.querySelector('#df-8095b24f-d238-4767-8ea6-fedca00add4c button');\n",
              "      quickchartButtonEl.style.display =\n",
              "        google.colab.kernel.accessAllowed ? 'block' : 'none';\n",
              "    })();\n",
              "  </script>\n",
              "</div>\n",
              "    </div>\n",
              "  </div>\n"
            ],
            "application/vnd.google.colaboratory.intrinsic+json": {
              "type": "dataframe",
              "variable_name": "data",
              "summary": "{\n  \"name\": \"data\",\n  \"rows\": 1728,\n  \"fields\": [\n    {\n      \"column\": \"Price\",\n      \"properties\": {\n        \"dtype\": \"category\",\n        \"num_unique_values\": 4,\n        \"samples\": [\n          \"high\",\n          \"low\",\n          \"vhigh\"\n        ],\n        \"semantic_type\": \"\",\n        \"description\": \"\"\n      }\n    },\n    {\n      \"column\": \"Maintenance\",\n      \"properties\": {\n        \"dtype\": \"category\",\n        \"num_unique_values\": 4,\n        \"samples\": [\n          \"high\",\n          \"low\",\n          \"vhigh\"\n        ],\n        \"semantic_type\": \"\",\n        \"description\": \"\"\n      }\n    },\n    {\n      \"column\": \"Number of Doors\",\n      \"properties\": {\n        \"dtype\": \"category\",\n        \"num_unique_values\": 4,\n        \"samples\": [\n          \"3\",\n          \"5more\",\n          \"2\"\n        ],\n        \"semantic_type\": \"\",\n        \"description\": \"\"\n      }\n    },\n    {\n      \"column\": \"Capacity\",\n      \"properties\": {\n        \"dtype\": \"category\",\n        \"num_unique_values\": 3,\n        \"samples\": [\n          \"2\",\n          \"4\",\n          \"more\"\n        ],\n        \"semantic_type\": \"\",\n        \"description\": \"\"\n      }\n    },\n    {\n      \"column\": \"Size of Luggage Boot\",\n      \"properties\": {\n        \"dtype\": \"category\",\n        \"num_unique_values\": 3,\n        \"samples\": [\n          \"small\",\n          \"med\",\n          \"big\"\n        ],\n        \"semantic_type\": \"\",\n        \"description\": \"\"\n      }\n    },\n    {\n      \"column\": \"estimated safety\",\n      \"properties\": {\n        \"dtype\": \"category\",\n        \"num_unique_values\": 3,\n        \"samples\": [\n          \"low\",\n          \"med\",\n          \"high\"\n        ],\n        \"semantic_type\": \"\",\n        \"description\": \"\"\n      }\n    },\n    {\n      \"column\": \"classes\",\n      \"properties\": {\n        \"dtype\": \"category\",\n        \"num_unique_values\": 4,\n        \"samples\": [\n          \"acc\",\n          \"good\",\n          \"unacc\"\n        ],\n        \"semantic_type\": \"\",\n        \"description\": \"\"\n      }\n    }\n  ]\n}"
            }
          },
          "metadata": {},
          "execution_count": 7
        }
      ]
    },
    {
      "metadata": {
        "id": "97PuHNN6YYjm",
        "colab": {
          "base_uri": "https://localhost:8080/"
        },
        "outputId": "5b701f92-da9f-4fa8-a144-512f0414067f"
      },
      "cell_type": "code",
      "source": [
        "data.info()"
      ],
      "execution_count": 8,
      "outputs": [
        {
          "output_type": "stream",
          "name": "stdout",
          "text": [
            "<class 'pandas.core.frame.DataFrame'>\n",
            "RangeIndex: 1728 entries, 0 to 1727\n",
            "Data columns (total 7 columns):\n",
            " #   Column                Non-Null Count  Dtype \n",
            "---  ------                --------------  ----- \n",
            " 0   Price                 1728 non-null   object\n",
            " 1   Maintenance           1728 non-null   object\n",
            " 2   Number of Doors       1728 non-null   object\n",
            " 3   Capacity              1728 non-null   object\n",
            " 4   Size of Luggage Boot  1728 non-null   object\n",
            " 5   estimated safety      1728 non-null   object\n",
            " 6   classes               1728 non-null   object\n",
            "dtypes: object(7)\n",
            "memory usage: 94.6+ KB\n"
          ]
        }
      ]
    },
    {
      "metadata": {
        "id": "1Zj_vix3dCM3",
        "colab": {
          "base_uri": "https://localhost:8080/",
          "height": 175
        },
        "outputId": "9c05669e-2386-486f-d6c4-0499b084a2dc"
      },
      "cell_type": "code",
      "source": [
        "data.describe()"
      ],
      "execution_count": 9,
      "outputs": [
        {
          "output_type": "execute_result",
          "data": {
            "text/plain": [
              "        Price Maintenance Number of Doors Capacity Size of Luggage Boot  \\\n",
              "count    1728        1728            1728     1728                 1728   \n",
              "unique      4           4               4        3                    3   \n",
              "top     vhigh       vhigh               2        2                small   \n",
              "freq      432         432             432      576                  576   \n",
              "\n",
              "       estimated safety classes  \n",
              "count              1728    1728  \n",
              "unique                3       4  \n",
              "top                 low   unacc  \n",
              "freq                576    1210  "
            ],
            "text/html": [
              "\n",
              "  <div id=\"df-0bf62f4c-6ad2-44c0-8ef8-a700f5d5a7de\" class=\"colab-df-container\">\n",
              "    <div>\n",
              "<style scoped>\n",
              "    .dataframe tbody tr th:only-of-type {\n",
              "        vertical-align: middle;\n",
              "    }\n",
              "\n",
              "    .dataframe tbody tr th {\n",
              "        vertical-align: top;\n",
              "    }\n",
              "\n",
              "    .dataframe thead th {\n",
              "        text-align: right;\n",
              "    }\n",
              "</style>\n",
              "<table border=\"1\" class=\"dataframe\">\n",
              "  <thead>\n",
              "    <tr style=\"text-align: right;\">\n",
              "      <th></th>\n",
              "      <th>Price</th>\n",
              "      <th>Maintenance</th>\n",
              "      <th>Number of Doors</th>\n",
              "      <th>Capacity</th>\n",
              "      <th>Size of Luggage Boot</th>\n",
              "      <th>estimated safety</th>\n",
              "      <th>classes</th>\n",
              "    </tr>\n",
              "  </thead>\n",
              "  <tbody>\n",
              "    <tr>\n",
              "      <th>count</th>\n",
              "      <td>1728</td>\n",
              "      <td>1728</td>\n",
              "      <td>1728</td>\n",
              "      <td>1728</td>\n",
              "      <td>1728</td>\n",
              "      <td>1728</td>\n",
              "      <td>1728</td>\n",
              "    </tr>\n",
              "    <tr>\n",
              "      <th>unique</th>\n",
              "      <td>4</td>\n",
              "      <td>4</td>\n",
              "      <td>4</td>\n",
              "      <td>3</td>\n",
              "      <td>3</td>\n",
              "      <td>3</td>\n",
              "      <td>4</td>\n",
              "    </tr>\n",
              "    <tr>\n",
              "      <th>top</th>\n",
              "      <td>vhigh</td>\n",
              "      <td>vhigh</td>\n",
              "      <td>2</td>\n",
              "      <td>2</td>\n",
              "      <td>small</td>\n",
              "      <td>low</td>\n",
              "      <td>unacc</td>\n",
              "    </tr>\n",
              "    <tr>\n",
              "      <th>freq</th>\n",
              "      <td>432</td>\n",
              "      <td>432</td>\n",
              "      <td>432</td>\n",
              "      <td>576</td>\n",
              "      <td>576</td>\n",
              "      <td>576</td>\n",
              "      <td>1210</td>\n",
              "    </tr>\n",
              "  </tbody>\n",
              "</table>\n",
              "</div>\n",
              "    <div class=\"colab-df-buttons\">\n",
              "\n",
              "  <div class=\"colab-df-container\">\n",
              "    <button class=\"colab-df-convert\" onclick=\"convertToInteractive('df-0bf62f4c-6ad2-44c0-8ef8-a700f5d5a7de')\"\n",
              "            title=\"Convert this dataframe to an interactive table.\"\n",
              "            style=\"display:none;\">\n",
              "\n",
              "  <svg xmlns=\"http://www.w3.org/2000/svg\" height=\"24px\" viewBox=\"0 -960 960 960\">\n",
              "    <path d=\"M120-120v-720h720v720H120Zm60-500h600v-160H180v160Zm220 220h160v-160H400v160Zm0 220h160v-160H400v160ZM180-400h160v-160H180v160Zm440 0h160v-160H620v160ZM180-180h160v-160H180v160Zm440 0h160v-160H620v160Z\"/>\n",
              "  </svg>\n",
              "    </button>\n",
              "\n",
              "  <style>\n",
              "    .colab-df-container {\n",
              "      display:flex;\n",
              "      gap: 12px;\n",
              "    }\n",
              "\n",
              "    .colab-df-convert {\n",
              "      background-color: #E8F0FE;\n",
              "      border: none;\n",
              "      border-radius: 50%;\n",
              "      cursor: pointer;\n",
              "      display: none;\n",
              "      fill: #1967D2;\n",
              "      height: 32px;\n",
              "      padding: 0 0 0 0;\n",
              "      width: 32px;\n",
              "    }\n",
              "\n",
              "    .colab-df-convert:hover {\n",
              "      background-color: #E2EBFA;\n",
              "      box-shadow: 0px 1px 2px rgba(60, 64, 67, 0.3), 0px 1px 3px 1px rgba(60, 64, 67, 0.15);\n",
              "      fill: #174EA6;\n",
              "    }\n",
              "\n",
              "    .colab-df-buttons div {\n",
              "      margin-bottom: 4px;\n",
              "    }\n",
              "\n",
              "    [theme=dark] .colab-df-convert {\n",
              "      background-color: #3B4455;\n",
              "      fill: #D2E3FC;\n",
              "    }\n",
              "\n",
              "    [theme=dark] .colab-df-convert:hover {\n",
              "      background-color: #434B5C;\n",
              "      box-shadow: 0px 1px 3px 1px rgba(0, 0, 0, 0.15);\n",
              "      filter: drop-shadow(0px 1px 2px rgba(0, 0, 0, 0.3));\n",
              "      fill: #FFFFFF;\n",
              "    }\n",
              "  </style>\n",
              "\n",
              "    <script>\n",
              "      const buttonEl =\n",
              "        document.querySelector('#df-0bf62f4c-6ad2-44c0-8ef8-a700f5d5a7de button.colab-df-convert');\n",
              "      buttonEl.style.display =\n",
              "        google.colab.kernel.accessAllowed ? 'block' : 'none';\n",
              "\n",
              "      async function convertToInteractive(key) {\n",
              "        const element = document.querySelector('#df-0bf62f4c-6ad2-44c0-8ef8-a700f5d5a7de');\n",
              "        const dataTable =\n",
              "          await google.colab.kernel.invokeFunction('convertToInteractive',\n",
              "                                                    [key], {});\n",
              "        if (!dataTable) return;\n",
              "\n",
              "        const docLinkHtml = 'Like what you see? Visit the ' +\n",
              "          '<a target=\"_blank\" href=https://colab.research.google.com/notebooks/data_table.ipynb>data table notebook</a>'\n",
              "          + ' to learn more about interactive tables.';\n",
              "        element.innerHTML = '';\n",
              "        dataTable['output_type'] = 'display_data';\n",
              "        await google.colab.output.renderOutput(dataTable, element);\n",
              "        const docLink = document.createElement('div');\n",
              "        docLink.innerHTML = docLinkHtml;\n",
              "        element.appendChild(docLink);\n",
              "      }\n",
              "    </script>\n",
              "  </div>\n",
              "\n",
              "\n",
              "<div id=\"df-7c4872c4-2d75-452c-8a03-73f34d096dfb\">\n",
              "  <button class=\"colab-df-quickchart\" onclick=\"quickchart('df-7c4872c4-2d75-452c-8a03-73f34d096dfb')\"\n",
              "            title=\"Suggest charts\"\n",
              "            style=\"display:none;\">\n",
              "\n",
              "<svg xmlns=\"http://www.w3.org/2000/svg\" height=\"24px\"viewBox=\"0 0 24 24\"\n",
              "     width=\"24px\">\n",
              "    <g>\n",
              "        <path d=\"M19 3H5c-1.1 0-2 .9-2 2v14c0 1.1.9 2 2 2h14c1.1 0 2-.9 2-2V5c0-1.1-.9-2-2-2zM9 17H7v-7h2v7zm4 0h-2V7h2v10zm4 0h-2v-4h2v4z\"/>\n",
              "    </g>\n",
              "</svg>\n",
              "  </button>\n",
              "\n",
              "<style>\n",
              "  .colab-df-quickchart {\n",
              "      --bg-color: #E8F0FE;\n",
              "      --fill-color: #1967D2;\n",
              "      --hover-bg-color: #E2EBFA;\n",
              "      --hover-fill-color: #174EA6;\n",
              "      --disabled-fill-color: #AAA;\n",
              "      --disabled-bg-color: #DDD;\n",
              "  }\n",
              "\n",
              "  [theme=dark] .colab-df-quickchart {\n",
              "      --bg-color: #3B4455;\n",
              "      --fill-color: #D2E3FC;\n",
              "      --hover-bg-color: #434B5C;\n",
              "      --hover-fill-color: #FFFFFF;\n",
              "      --disabled-bg-color: #3B4455;\n",
              "      --disabled-fill-color: #666;\n",
              "  }\n",
              "\n",
              "  .colab-df-quickchart {\n",
              "    background-color: var(--bg-color);\n",
              "    border: none;\n",
              "    border-radius: 50%;\n",
              "    cursor: pointer;\n",
              "    display: none;\n",
              "    fill: var(--fill-color);\n",
              "    height: 32px;\n",
              "    padding: 0;\n",
              "    width: 32px;\n",
              "  }\n",
              "\n",
              "  .colab-df-quickchart:hover {\n",
              "    background-color: var(--hover-bg-color);\n",
              "    box-shadow: 0 1px 2px rgba(60, 64, 67, 0.3), 0 1px 3px 1px rgba(60, 64, 67, 0.15);\n",
              "    fill: var(--button-hover-fill-color);\n",
              "  }\n",
              "\n",
              "  .colab-df-quickchart-complete:disabled,\n",
              "  .colab-df-quickchart-complete:disabled:hover {\n",
              "    background-color: var(--disabled-bg-color);\n",
              "    fill: var(--disabled-fill-color);\n",
              "    box-shadow: none;\n",
              "  }\n",
              "\n",
              "  .colab-df-spinner {\n",
              "    border: 2px solid var(--fill-color);\n",
              "    border-color: transparent;\n",
              "    border-bottom-color: var(--fill-color);\n",
              "    animation:\n",
              "      spin 1s steps(1) infinite;\n",
              "  }\n",
              "\n",
              "  @keyframes spin {\n",
              "    0% {\n",
              "      border-color: transparent;\n",
              "      border-bottom-color: var(--fill-color);\n",
              "      border-left-color: var(--fill-color);\n",
              "    }\n",
              "    20% {\n",
              "      border-color: transparent;\n",
              "      border-left-color: var(--fill-color);\n",
              "      border-top-color: var(--fill-color);\n",
              "    }\n",
              "    30% {\n",
              "      border-color: transparent;\n",
              "      border-left-color: var(--fill-color);\n",
              "      border-top-color: var(--fill-color);\n",
              "      border-right-color: var(--fill-color);\n",
              "    }\n",
              "    40% {\n",
              "      border-color: transparent;\n",
              "      border-right-color: var(--fill-color);\n",
              "      border-top-color: var(--fill-color);\n",
              "    }\n",
              "    60% {\n",
              "      border-color: transparent;\n",
              "      border-right-color: var(--fill-color);\n",
              "    }\n",
              "    80% {\n",
              "      border-color: transparent;\n",
              "      border-right-color: var(--fill-color);\n",
              "      border-bottom-color: var(--fill-color);\n",
              "    }\n",
              "    90% {\n",
              "      border-color: transparent;\n",
              "      border-bottom-color: var(--fill-color);\n",
              "    }\n",
              "  }\n",
              "</style>\n",
              "\n",
              "  <script>\n",
              "    async function quickchart(key) {\n",
              "      const quickchartButtonEl =\n",
              "        document.querySelector('#' + key + ' button');\n",
              "      quickchartButtonEl.disabled = true;  // To prevent multiple clicks.\n",
              "      quickchartButtonEl.classList.add('colab-df-spinner');\n",
              "      try {\n",
              "        const charts = await google.colab.kernel.invokeFunction(\n",
              "            'suggestCharts', [key], {});\n",
              "      } catch (error) {\n",
              "        console.error('Error during call to suggestCharts:', error);\n",
              "      }\n",
              "      quickchartButtonEl.classList.remove('colab-df-spinner');\n",
              "      quickchartButtonEl.classList.add('colab-df-quickchart-complete');\n",
              "    }\n",
              "    (() => {\n",
              "      let quickchartButtonEl =\n",
              "        document.querySelector('#df-7c4872c4-2d75-452c-8a03-73f34d096dfb button');\n",
              "      quickchartButtonEl.style.display =\n",
              "        google.colab.kernel.accessAllowed ? 'block' : 'none';\n",
              "    })();\n",
              "  </script>\n",
              "</div>\n",
              "    </div>\n",
              "  </div>\n"
            ],
            "application/vnd.google.colaboratory.intrinsic+json": {
              "type": "dataframe",
              "summary": "{\n  \"name\": \"data\",\n  \"rows\": 4,\n  \"fields\": [\n    {\n      \"column\": \"Price\",\n      \"properties\": {\n        \"dtype\": \"string\",\n        \"num_unique_values\": 4,\n        \"samples\": [\n          4,\n          \"432\",\n          \"1728\"\n        ],\n        \"semantic_type\": \"\",\n        \"description\": \"\"\n      }\n    },\n    {\n      \"column\": \"Maintenance\",\n      \"properties\": {\n        \"dtype\": \"string\",\n        \"num_unique_values\": 4,\n        \"samples\": [\n          4,\n          \"432\",\n          \"1728\"\n        ],\n        \"semantic_type\": \"\",\n        \"description\": \"\"\n      }\n    },\n    {\n      \"column\": \"Number of Doors\",\n      \"properties\": {\n        \"dtype\": \"string\",\n        \"num_unique_values\": 4,\n        \"samples\": [\n          4,\n          \"432\",\n          \"1728\"\n        ],\n        \"semantic_type\": \"\",\n        \"description\": \"\"\n      }\n    },\n    {\n      \"column\": \"Capacity\",\n      \"properties\": {\n        \"dtype\": \"string\",\n        \"num_unique_values\": 4,\n        \"samples\": [\n          3,\n          \"576\",\n          \"1728\"\n        ],\n        \"semantic_type\": \"\",\n        \"description\": \"\"\n      }\n    },\n    {\n      \"column\": \"Size of Luggage Boot\",\n      \"properties\": {\n        \"dtype\": \"string\",\n        \"num_unique_values\": 4,\n        \"samples\": [\n          3,\n          \"576\",\n          \"1728\"\n        ],\n        \"semantic_type\": \"\",\n        \"description\": \"\"\n      }\n    },\n    {\n      \"column\": \"estimated safety\",\n      \"properties\": {\n        \"dtype\": \"string\",\n        \"num_unique_values\": 4,\n        \"samples\": [\n          3,\n          \"576\",\n          \"1728\"\n        ],\n        \"semantic_type\": \"\",\n        \"description\": \"\"\n      }\n    },\n    {\n      \"column\": \"classes\",\n      \"properties\": {\n        \"dtype\": \"string\",\n        \"num_unique_values\": 4,\n        \"samples\": [\n          4,\n          \"1210\",\n          \"1728\"\n        ],\n        \"semantic_type\": \"\",\n        \"description\": \"\"\n      }\n    }\n  ]\n}"
            }
          },
          "metadata": {},
          "execution_count": 9
        }
      ]
    },
    {
      "metadata": {
        "id": "PIrM7DT7Ye8e",
        "colab": {
          "base_uri": "https://localhost:8080/"
        },
        "outputId": "7f5551a4-b906-4d08-f33b-08c5cc842be8"
      },
      "cell_type": "code",
      "source": [
        "data.isnull().any()"
      ],
      "execution_count": 10,
      "outputs": [
        {
          "output_type": "execute_result",
          "data": {
            "text/plain": [
              "Price                   False\n",
              "Maintenance             False\n",
              "Number of Doors         False\n",
              "Capacity                False\n",
              "Size of Luggage Boot    False\n",
              "estimated safety        False\n",
              "classes                 False\n",
              "dtype: bool"
            ]
          },
          "metadata": {},
          "execution_count": 10
        }
      ]
    },
    {
      "metadata": {
        "id": "SaLWF-c5YiCQ",
        "outputId": "d5fa022c-efc8-41cf-a250-db8ecddb0d8a",
        "colab": {
          "base_uri": "https://localhost:8080/"
        }
      },
      "cell_type": "code",
      "source": [
        "data.columns"
      ],
      "execution_count": 11,
      "outputs": [
        {
          "output_type": "execute_result",
          "data": {
            "text/plain": [
              "Index(['Price', 'Maintenance', 'Number of Doors', 'Capacity',\n",
              "       'Size of Luggage Boot', 'estimated safety', 'classes'],\n",
              "      dtype='object')"
            ]
          },
          "metadata": {},
          "execution_count": 11
        }
      ]
    },
    {
      "cell_type": "code",
      "source": [
        "duplicates_rows = data[data.duplicated()]\n",
        "duplicates_rows"
      ],
      "metadata": {
        "colab": {
          "base_uri": "https://localhost:8080/",
          "height": 53
        },
        "id": "WSTpF1pARL43",
        "outputId": "0053a04b-f4c4-4908-f64d-08e0c08fa5e1"
      },
      "execution_count": 12,
      "outputs": [
        {
          "output_type": "execute_result",
          "data": {
            "text/plain": [
              "Empty DataFrame\n",
              "Columns: [Price, Maintenance, Number of Doors, Capacity, Size of Luggage Boot, estimated safety, classes]\n",
              "Index: []"
            ],
            "text/html": [
              "\n",
              "  <div id=\"df-f6df4f03-ac40-4b9b-8a77-1b1dcae60a21\" class=\"colab-df-container\">\n",
              "    <div>\n",
              "<style scoped>\n",
              "    .dataframe tbody tr th:only-of-type {\n",
              "        vertical-align: middle;\n",
              "    }\n",
              "\n",
              "    .dataframe tbody tr th {\n",
              "        vertical-align: top;\n",
              "    }\n",
              "\n",
              "    .dataframe thead th {\n",
              "        text-align: right;\n",
              "    }\n",
              "</style>\n",
              "<table border=\"1\" class=\"dataframe\">\n",
              "  <thead>\n",
              "    <tr style=\"text-align: right;\">\n",
              "      <th></th>\n",
              "      <th>Price</th>\n",
              "      <th>Maintenance</th>\n",
              "      <th>Number of Doors</th>\n",
              "      <th>Capacity</th>\n",
              "      <th>Size of Luggage Boot</th>\n",
              "      <th>estimated safety</th>\n",
              "      <th>classes</th>\n",
              "    </tr>\n",
              "  </thead>\n",
              "  <tbody>\n",
              "  </tbody>\n",
              "</table>\n",
              "</div>\n",
              "    <div class=\"colab-df-buttons\">\n",
              "\n",
              "  <div class=\"colab-df-container\">\n",
              "    <button class=\"colab-df-convert\" onclick=\"convertToInteractive('df-f6df4f03-ac40-4b9b-8a77-1b1dcae60a21')\"\n",
              "            title=\"Convert this dataframe to an interactive table.\"\n",
              "            style=\"display:none;\">\n",
              "\n",
              "  <svg xmlns=\"http://www.w3.org/2000/svg\" height=\"24px\" viewBox=\"0 -960 960 960\">\n",
              "    <path d=\"M120-120v-720h720v720H120Zm60-500h600v-160H180v160Zm220 220h160v-160H400v160Zm0 220h160v-160H400v160ZM180-400h160v-160H180v160Zm440 0h160v-160H620v160ZM180-180h160v-160H180v160Zm440 0h160v-160H620v160Z\"/>\n",
              "  </svg>\n",
              "    </button>\n",
              "\n",
              "  <style>\n",
              "    .colab-df-container {\n",
              "      display:flex;\n",
              "      gap: 12px;\n",
              "    }\n",
              "\n",
              "    .colab-df-convert {\n",
              "      background-color: #E8F0FE;\n",
              "      border: none;\n",
              "      border-radius: 50%;\n",
              "      cursor: pointer;\n",
              "      display: none;\n",
              "      fill: #1967D2;\n",
              "      height: 32px;\n",
              "      padding: 0 0 0 0;\n",
              "      width: 32px;\n",
              "    }\n",
              "\n",
              "    .colab-df-convert:hover {\n",
              "      background-color: #E2EBFA;\n",
              "      box-shadow: 0px 1px 2px rgba(60, 64, 67, 0.3), 0px 1px 3px 1px rgba(60, 64, 67, 0.15);\n",
              "      fill: #174EA6;\n",
              "    }\n",
              "\n",
              "    .colab-df-buttons div {\n",
              "      margin-bottom: 4px;\n",
              "    }\n",
              "\n",
              "    [theme=dark] .colab-df-convert {\n",
              "      background-color: #3B4455;\n",
              "      fill: #D2E3FC;\n",
              "    }\n",
              "\n",
              "    [theme=dark] .colab-df-convert:hover {\n",
              "      background-color: #434B5C;\n",
              "      box-shadow: 0px 1px 3px 1px rgba(0, 0, 0, 0.15);\n",
              "      filter: drop-shadow(0px 1px 2px rgba(0, 0, 0, 0.3));\n",
              "      fill: #FFFFFF;\n",
              "    }\n",
              "  </style>\n",
              "\n",
              "    <script>\n",
              "      const buttonEl =\n",
              "        document.querySelector('#df-f6df4f03-ac40-4b9b-8a77-1b1dcae60a21 button.colab-df-convert');\n",
              "      buttonEl.style.display =\n",
              "        google.colab.kernel.accessAllowed ? 'block' : 'none';\n",
              "\n",
              "      async function convertToInteractive(key) {\n",
              "        const element = document.querySelector('#df-f6df4f03-ac40-4b9b-8a77-1b1dcae60a21');\n",
              "        const dataTable =\n",
              "          await google.colab.kernel.invokeFunction('convertToInteractive',\n",
              "                                                    [key], {});\n",
              "        if (!dataTable) return;\n",
              "\n",
              "        const docLinkHtml = 'Like what you see? Visit the ' +\n",
              "          '<a target=\"_blank\" href=https://colab.research.google.com/notebooks/data_table.ipynb>data table notebook</a>'\n",
              "          + ' to learn more about interactive tables.';\n",
              "        element.innerHTML = '';\n",
              "        dataTable['output_type'] = 'display_data';\n",
              "        await google.colab.output.renderOutput(dataTable, element);\n",
              "        const docLink = document.createElement('div');\n",
              "        docLink.innerHTML = docLinkHtml;\n",
              "        element.appendChild(docLink);\n",
              "      }\n",
              "    </script>\n",
              "  </div>\n",
              "\n",
              "    </div>\n",
              "  </div>\n"
            ],
            "application/vnd.google.colaboratory.intrinsic+json": {
              "type": "dataframe",
              "variable_name": "duplicates_rows",
              "repr_error": "Out of range float values are not JSON compliant: nan"
            }
          },
          "metadata": {},
          "execution_count": 12
        }
      ]
    },
    {
      "cell_type": "code",
      "source": [
        "data = data.drop_duplicates()"
      ],
      "metadata": {
        "id": "b_wAfFGzRcLn"
      },
      "execution_count": 13,
      "outputs": []
    },
    {
      "cell_type": "markdown",
      "source": [
        "# **Label Encoding**"
      ],
      "metadata": {
        "id": "7hz2N-tr62zo"
      }
    },
    {
      "cell_type": "code",
      "source": [
        "data['classes'].value_counts()"
      ],
      "metadata": {
        "colab": {
          "base_uri": "https://localhost:8080/"
        },
        "id": "I1qb7ssC73la",
        "outputId": "99a670dd-24b3-4d3b-e8f5-774a43e32fb0"
      },
      "execution_count": 14,
      "outputs": [
        {
          "output_type": "execute_result",
          "data": {
            "text/plain": [
              "classes\n",
              "unacc    1210\n",
              "acc       384\n",
              "good       69\n",
              "vgood      65\n",
              "Name: count, dtype: int64"
            ]
          },
          "metadata": {},
          "execution_count": 14
        }
      ]
    },
    {
      "metadata": {
        "id": "fpee4mgUkiC7",
        "outputId": "1ace96ad-cc72-417d-80cc-3f56608f3f8d",
        "colab": {
          "base_uri": "https://localhost:8080/"
        }
      },
      "cell_type": "code",
      "source": [
        "data.classes.replace(('unacc', 'acc', 'good', 'vgood'), (0, 1, 2, 3), inplace = True)\n",
        "data['classes'].value_counts()"
      ],
      "execution_count": 15,
      "outputs": [
        {
          "output_type": "execute_result",
          "data": {
            "text/plain": [
              "classes\n",
              "0    1210\n",
              "1     384\n",
              "2      69\n",
              "3      65\n",
              "Name: count, dtype: int64"
            ]
          },
          "metadata": {},
          "execution_count": 15
        }
      ]
    },
    {
      "metadata": {
        "id": "jU4YE4kzdgde",
        "outputId": "7accc79f-386b-4d1e-f066-b712d10a7b69",
        "colab": {
          "base_uri": "https://localhost:8080/"
        }
      },
      "cell_type": "code",
      "source": [
        "data['Size of Luggage Boot'].value_counts()"
      ],
      "execution_count": 16,
      "outputs": [
        {
          "output_type": "execute_result",
          "data": {
            "text/plain": [
              "Size of Luggage Boot\n",
              "small    576\n",
              "med      576\n",
              "big      576\n",
              "Name: count, dtype: int64"
            ]
          },
          "metadata": {},
          "execution_count": 16
        }
      ]
    },
    {
      "metadata": {
        "id": "fRcoPM_mnDKH",
        "outputId": "9a4bf0eb-480c-4e68-df67-2ddb486b74f4",
        "colab": {
          "base_uri": "https://localhost:8080/"
        }
      },
      "cell_type": "code",
      "source": [
        "data['Size of Luggage Boot'].replace(('small', 'med', 'big'), (0, 1, 2), inplace = True)\n",
        "data['Size of Luggage Boot'].value_counts()"
      ],
      "execution_count": 17,
      "outputs": [
        {
          "output_type": "execute_result",
          "data": {
            "text/plain": [
              "Size of Luggage Boot\n",
              "0    576\n",
              "1    576\n",
              "2    576\n",
              "Name: count, dtype: int64"
            ]
          },
          "metadata": {},
          "execution_count": 17
        }
      ]
    },
    {
      "metadata": {
        "id": "Aq_sAwd5dpdr",
        "outputId": "21e64693-98bd-47a2-b313-32c5b3da6f93",
        "colab": {
          "base_uri": "https://localhost:8080/"
        }
      },
      "cell_type": "code",
      "source": [
        "data['estimated safety'].value_counts()"
      ],
      "execution_count": 18,
      "outputs": [
        {
          "output_type": "execute_result",
          "data": {
            "text/plain": [
              "estimated safety\n",
              "low     576\n",
              "med     576\n",
              "high    576\n",
              "Name: count, dtype: int64"
            ]
          },
          "metadata": {},
          "execution_count": 18
        }
      ]
    },
    {
      "metadata": {
        "id": "5K24boeZn3Nk",
        "outputId": "d68bc29d-2470-4412-af93-6d6eed81283c",
        "colab": {
          "base_uri": "https://localhost:8080/"
        }
      },
      "cell_type": "code",
      "source": [
        "data['estimated safety'].replace(('low', 'med', 'high'), (0, 1, 2), inplace = True)\n",
        "\n",
        "data['estimated safety'].value_counts()"
      ],
      "execution_count": 19,
      "outputs": [
        {
          "output_type": "execute_result",
          "data": {
            "text/plain": [
              "estimated safety\n",
              "0    576\n",
              "1    576\n",
              "2    576\n",
              "Name: count, dtype: int64"
            ]
          },
          "metadata": {},
          "execution_count": 19
        }
      ]
    },
    {
      "metadata": {
        "id": "elU0lB7pZ6a9",
        "outputId": "f0eb1588-e294-4bea-fe9d-1d1862a9c702",
        "colab": {
          "base_uri": "https://localhost:8080/"
        }
      },
      "cell_type": "code",
      "source": [
        "data['Price'].value_counts()"
      ],
      "execution_count": 20,
      "outputs": [
        {
          "output_type": "execute_result",
          "data": {
            "text/plain": [
              "Price\n",
              "vhigh    432\n",
              "high     432\n",
              "med      432\n",
              "low      432\n",
              "Name: count, dtype: int64"
            ]
          },
          "metadata": {},
          "execution_count": 20
        }
      ]
    },
    {
      "metadata": {
        "id": "t1OOFcevoSYP",
        "outputId": "82aa0dad-090e-4272-ab3d-556bc4443d83",
        "colab": {
          "base_uri": "https://localhost:8080/"
        }
      },
      "cell_type": "code",
      "source": [
        "data['Price'].replace(('low', 'med', 'high', 'vhigh'), (0, 1, 2, 3), inplace = True)\n",
        "data['Price'].value_counts()"
      ],
      "execution_count": 21,
      "outputs": [
        {
          "output_type": "execute_result",
          "data": {
            "text/plain": [
              "Price\n",
              "3    432\n",
              "2    432\n",
              "1    432\n",
              "0    432\n",
              "Name: count, dtype: int64"
            ]
          },
          "metadata": {},
          "execution_count": 21
        }
      ]
    },
    {
      "metadata": {
        "id": "bJ1JQoAhZmGA",
        "outputId": "b6009415-da9f-446b-8c87-0f44c743bbc4",
        "colab": {
          "base_uri": "https://localhost:8080/"
        }
      },
      "cell_type": "code",
      "source": [
        "data['Maintenance'].value_counts()"
      ],
      "execution_count": 22,
      "outputs": [
        {
          "output_type": "execute_result",
          "data": {
            "text/plain": [
              "Maintenance\n",
              "vhigh    432\n",
              "high     432\n",
              "med      432\n",
              "low      432\n",
              "Name: count, dtype: int64"
            ]
          },
          "metadata": {},
          "execution_count": 22
        }
      ]
    },
    {
      "metadata": {
        "id": "TwuKrxDapAq3",
        "outputId": "25b73258-fbde-4c7f-8b38-fcb60fa33415",
        "colab": {
          "base_uri": "https://localhost:8080/"
        }
      },
      "cell_type": "code",
      "source": [
        "data['Maintenance'].replace(('low', 'med', 'high', 'vhigh'), (0, 1, 2, 3), inplace = True)\n",
        "data['Maintenance'].value_counts()"
      ],
      "execution_count": 23,
      "outputs": [
        {
          "output_type": "execute_result",
          "data": {
            "text/plain": [
              "Maintenance\n",
              "3    432\n",
              "2    432\n",
              "1    432\n",
              "0    432\n",
              "Name: count, dtype: int64"
            ]
          },
          "metadata": {},
          "execution_count": 23
        }
      ]
    },
    {
      "metadata": {
        "id": "PPEx45f4Y9cW",
        "outputId": "c367b8ea-f52a-4022-e8cd-a9f56d6a0472",
        "colab": {
          "base_uri": "https://localhost:8080/"
        }
      },
      "cell_type": "code",
      "source": [
        "data['Number of Doors'].value_counts()"
      ],
      "execution_count": 24,
      "outputs": [
        {
          "output_type": "execute_result",
          "data": {
            "text/plain": [
              "Number of Doors\n",
              "2        432\n",
              "3        432\n",
              "4        432\n",
              "5more    432\n",
              "Name: count, dtype: int64"
            ]
          },
          "metadata": {},
          "execution_count": 24
        }
      ]
    },
    {
      "metadata": {
        "id": "3B8qEg2QpVq4",
        "outputId": "b9f070a5-8680-4d2a-b70c-7a85dc4227fc",
        "colab": {
          "base_uri": "https://localhost:8080/"
        }
      },
      "cell_type": "code",
      "source": [
        "data['Number of Doors'].replace('5more', 5, inplace = True)\n",
        "data['Number of Doors'].value_counts()"
      ],
      "execution_count": 25,
      "outputs": [
        {
          "output_type": "execute_result",
          "data": {
            "text/plain": [
              "Number of Doors\n",
              "2    432\n",
              "3    432\n",
              "4    432\n",
              "5    432\n",
              "Name: count, dtype: int64"
            ]
          },
          "metadata": {},
          "execution_count": 25
        }
      ]
    },
    {
      "metadata": {
        "id": "T_2Sf9lsarvg",
        "outputId": "0f1bd4c7-39a2-4fe8-c8f2-d718da3d0e3f",
        "colab": {
          "base_uri": "https://localhost:8080/"
        }
      },
      "cell_type": "code",
      "source": [
        "data['Capacity'].value_counts()"
      ],
      "execution_count": 26,
      "outputs": [
        {
          "output_type": "execute_result",
          "data": {
            "text/plain": [
              "Capacity\n",
              "2       576\n",
              "4       576\n",
              "more    576\n",
              "Name: count, dtype: int64"
            ]
          },
          "metadata": {},
          "execution_count": 26
        }
      ]
    },
    {
      "metadata": {
        "id": "Q0HyEPkPdW1x",
        "outputId": "e60c61f8-ac23-48a4-af26-9facbc427187",
        "colab": {
          "base_uri": "https://localhost:8080/"
        }
      },
      "cell_type": "code",
      "source": [
        "data['Capacity'].replace('more', 5, inplace = True)\n",
        "data['Capacity'].value_counts()"
      ],
      "execution_count": 27,
      "outputs": [
        {
          "output_type": "execute_result",
          "data": {
            "text/plain": [
              "Capacity\n",
              "2    576\n",
              "4    576\n",
              "5    576\n",
              "Name: count, dtype: int64"
            ]
          },
          "metadata": {},
          "execution_count": 27
        }
      ]
    },
    {
      "metadata": {
        "id": "-zgF8Umb7BUw",
        "outputId": "b5f15be6-9495-43a6-a784-40ed4ff77599",
        "colab": {
          "base_uri": "https://localhost:8080/",
          "height": 206
        }
      },
      "cell_type": "code",
      "source": [
        "data.tail()"
      ],
      "execution_count": 28,
      "outputs": [
        {
          "output_type": "execute_result",
          "data": {
            "text/plain": [
              "      Price  Maintenance Number of Doors Capacity  Size of Luggage Boot  \\\n",
              "1723      0            0               5        5                     1   \n",
              "1724      0            0               5        5                     1   \n",
              "1725      0            0               5        5                     2   \n",
              "1726      0            0               5        5                     2   \n",
              "1727      0            0               5        5                     2   \n",
              "\n",
              "      estimated safety  classes  \n",
              "1723                 1        2  \n",
              "1724                 2        3  \n",
              "1725                 0        0  \n",
              "1726                 1        2  \n",
              "1727                 2        3  "
            ],
            "text/html": [
              "\n",
              "  <div id=\"df-1c95d4e6-d45c-49c9-8f61-3aebfa5a8cea\" class=\"colab-df-container\">\n",
              "    <div>\n",
              "<style scoped>\n",
              "    .dataframe tbody tr th:only-of-type {\n",
              "        vertical-align: middle;\n",
              "    }\n",
              "\n",
              "    .dataframe tbody tr th {\n",
              "        vertical-align: top;\n",
              "    }\n",
              "\n",
              "    .dataframe thead th {\n",
              "        text-align: right;\n",
              "    }\n",
              "</style>\n",
              "<table border=\"1\" class=\"dataframe\">\n",
              "  <thead>\n",
              "    <tr style=\"text-align: right;\">\n",
              "      <th></th>\n",
              "      <th>Price</th>\n",
              "      <th>Maintenance</th>\n",
              "      <th>Number of Doors</th>\n",
              "      <th>Capacity</th>\n",
              "      <th>Size of Luggage Boot</th>\n",
              "      <th>estimated safety</th>\n",
              "      <th>classes</th>\n",
              "    </tr>\n",
              "  </thead>\n",
              "  <tbody>\n",
              "    <tr>\n",
              "      <th>1723</th>\n",
              "      <td>0</td>\n",
              "      <td>0</td>\n",
              "      <td>5</td>\n",
              "      <td>5</td>\n",
              "      <td>1</td>\n",
              "      <td>1</td>\n",
              "      <td>2</td>\n",
              "    </tr>\n",
              "    <tr>\n",
              "      <th>1724</th>\n",
              "      <td>0</td>\n",
              "      <td>0</td>\n",
              "      <td>5</td>\n",
              "      <td>5</td>\n",
              "      <td>1</td>\n",
              "      <td>2</td>\n",
              "      <td>3</td>\n",
              "    </tr>\n",
              "    <tr>\n",
              "      <th>1725</th>\n",
              "      <td>0</td>\n",
              "      <td>0</td>\n",
              "      <td>5</td>\n",
              "      <td>5</td>\n",
              "      <td>2</td>\n",
              "      <td>0</td>\n",
              "      <td>0</td>\n",
              "    </tr>\n",
              "    <tr>\n",
              "      <th>1726</th>\n",
              "      <td>0</td>\n",
              "      <td>0</td>\n",
              "      <td>5</td>\n",
              "      <td>5</td>\n",
              "      <td>2</td>\n",
              "      <td>1</td>\n",
              "      <td>2</td>\n",
              "    </tr>\n",
              "    <tr>\n",
              "      <th>1727</th>\n",
              "      <td>0</td>\n",
              "      <td>0</td>\n",
              "      <td>5</td>\n",
              "      <td>5</td>\n",
              "      <td>2</td>\n",
              "      <td>2</td>\n",
              "      <td>3</td>\n",
              "    </tr>\n",
              "  </tbody>\n",
              "</table>\n",
              "</div>\n",
              "    <div class=\"colab-df-buttons\">\n",
              "\n",
              "  <div class=\"colab-df-container\">\n",
              "    <button class=\"colab-df-convert\" onclick=\"convertToInteractive('df-1c95d4e6-d45c-49c9-8f61-3aebfa5a8cea')\"\n",
              "            title=\"Convert this dataframe to an interactive table.\"\n",
              "            style=\"display:none;\">\n",
              "\n",
              "  <svg xmlns=\"http://www.w3.org/2000/svg\" height=\"24px\" viewBox=\"0 -960 960 960\">\n",
              "    <path d=\"M120-120v-720h720v720H120Zm60-500h600v-160H180v160Zm220 220h160v-160H400v160Zm0 220h160v-160H400v160ZM180-400h160v-160H180v160Zm440 0h160v-160H620v160ZM180-180h160v-160H180v160Zm440 0h160v-160H620v160Z\"/>\n",
              "  </svg>\n",
              "    </button>\n",
              "\n",
              "  <style>\n",
              "    .colab-df-container {\n",
              "      display:flex;\n",
              "      gap: 12px;\n",
              "    }\n",
              "\n",
              "    .colab-df-convert {\n",
              "      background-color: #E8F0FE;\n",
              "      border: none;\n",
              "      border-radius: 50%;\n",
              "      cursor: pointer;\n",
              "      display: none;\n",
              "      fill: #1967D2;\n",
              "      height: 32px;\n",
              "      padding: 0 0 0 0;\n",
              "      width: 32px;\n",
              "    }\n",
              "\n",
              "    .colab-df-convert:hover {\n",
              "      background-color: #E2EBFA;\n",
              "      box-shadow: 0px 1px 2px rgba(60, 64, 67, 0.3), 0px 1px 3px 1px rgba(60, 64, 67, 0.15);\n",
              "      fill: #174EA6;\n",
              "    }\n",
              "\n",
              "    .colab-df-buttons div {\n",
              "      margin-bottom: 4px;\n",
              "    }\n",
              "\n",
              "    [theme=dark] .colab-df-convert {\n",
              "      background-color: #3B4455;\n",
              "      fill: #D2E3FC;\n",
              "    }\n",
              "\n",
              "    [theme=dark] .colab-df-convert:hover {\n",
              "      background-color: #434B5C;\n",
              "      box-shadow: 0px 1px 3px 1px rgba(0, 0, 0, 0.15);\n",
              "      filter: drop-shadow(0px 1px 2px rgba(0, 0, 0, 0.3));\n",
              "      fill: #FFFFFF;\n",
              "    }\n",
              "  </style>\n",
              "\n",
              "    <script>\n",
              "      const buttonEl =\n",
              "        document.querySelector('#df-1c95d4e6-d45c-49c9-8f61-3aebfa5a8cea button.colab-df-convert');\n",
              "      buttonEl.style.display =\n",
              "        google.colab.kernel.accessAllowed ? 'block' : 'none';\n",
              "\n",
              "      async function convertToInteractive(key) {\n",
              "        const element = document.querySelector('#df-1c95d4e6-d45c-49c9-8f61-3aebfa5a8cea');\n",
              "        const dataTable =\n",
              "          await google.colab.kernel.invokeFunction('convertToInteractive',\n",
              "                                                    [key], {});\n",
              "        if (!dataTable) return;\n",
              "\n",
              "        const docLinkHtml = 'Like what you see? Visit the ' +\n",
              "          '<a target=\"_blank\" href=https://colab.research.google.com/notebooks/data_table.ipynb>data table notebook</a>'\n",
              "          + ' to learn more about interactive tables.';\n",
              "        element.innerHTML = '';\n",
              "        dataTable['output_type'] = 'display_data';\n",
              "        await google.colab.output.renderOutput(dataTable, element);\n",
              "        const docLink = document.createElement('div');\n",
              "        docLink.innerHTML = docLinkHtml;\n",
              "        element.appendChild(docLink);\n",
              "      }\n",
              "    </script>\n",
              "  </div>\n",
              "\n",
              "\n",
              "<div id=\"df-6e277810-3100-4bea-ae78-ed1d867bbfdb\">\n",
              "  <button class=\"colab-df-quickchart\" onclick=\"quickchart('df-6e277810-3100-4bea-ae78-ed1d867bbfdb')\"\n",
              "            title=\"Suggest charts\"\n",
              "            style=\"display:none;\">\n",
              "\n",
              "<svg xmlns=\"http://www.w3.org/2000/svg\" height=\"24px\"viewBox=\"0 0 24 24\"\n",
              "     width=\"24px\">\n",
              "    <g>\n",
              "        <path d=\"M19 3H5c-1.1 0-2 .9-2 2v14c0 1.1.9 2 2 2h14c1.1 0 2-.9 2-2V5c0-1.1-.9-2-2-2zM9 17H7v-7h2v7zm4 0h-2V7h2v10zm4 0h-2v-4h2v4z\"/>\n",
              "    </g>\n",
              "</svg>\n",
              "  </button>\n",
              "\n",
              "<style>\n",
              "  .colab-df-quickchart {\n",
              "      --bg-color: #E8F0FE;\n",
              "      --fill-color: #1967D2;\n",
              "      --hover-bg-color: #E2EBFA;\n",
              "      --hover-fill-color: #174EA6;\n",
              "      --disabled-fill-color: #AAA;\n",
              "      --disabled-bg-color: #DDD;\n",
              "  }\n",
              "\n",
              "  [theme=dark] .colab-df-quickchart {\n",
              "      --bg-color: #3B4455;\n",
              "      --fill-color: #D2E3FC;\n",
              "      --hover-bg-color: #434B5C;\n",
              "      --hover-fill-color: #FFFFFF;\n",
              "      --disabled-bg-color: #3B4455;\n",
              "      --disabled-fill-color: #666;\n",
              "  }\n",
              "\n",
              "  .colab-df-quickchart {\n",
              "    background-color: var(--bg-color);\n",
              "    border: none;\n",
              "    border-radius: 50%;\n",
              "    cursor: pointer;\n",
              "    display: none;\n",
              "    fill: var(--fill-color);\n",
              "    height: 32px;\n",
              "    padding: 0;\n",
              "    width: 32px;\n",
              "  }\n",
              "\n",
              "  .colab-df-quickchart:hover {\n",
              "    background-color: var(--hover-bg-color);\n",
              "    box-shadow: 0 1px 2px rgba(60, 64, 67, 0.3), 0 1px 3px 1px rgba(60, 64, 67, 0.15);\n",
              "    fill: var(--button-hover-fill-color);\n",
              "  }\n",
              "\n",
              "  .colab-df-quickchart-complete:disabled,\n",
              "  .colab-df-quickchart-complete:disabled:hover {\n",
              "    background-color: var(--disabled-bg-color);\n",
              "    fill: var(--disabled-fill-color);\n",
              "    box-shadow: none;\n",
              "  }\n",
              "\n",
              "  .colab-df-spinner {\n",
              "    border: 2px solid var(--fill-color);\n",
              "    border-color: transparent;\n",
              "    border-bottom-color: var(--fill-color);\n",
              "    animation:\n",
              "      spin 1s steps(1) infinite;\n",
              "  }\n",
              "\n",
              "  @keyframes spin {\n",
              "    0% {\n",
              "      border-color: transparent;\n",
              "      border-bottom-color: var(--fill-color);\n",
              "      border-left-color: var(--fill-color);\n",
              "    }\n",
              "    20% {\n",
              "      border-color: transparent;\n",
              "      border-left-color: var(--fill-color);\n",
              "      border-top-color: var(--fill-color);\n",
              "    }\n",
              "    30% {\n",
              "      border-color: transparent;\n",
              "      border-left-color: var(--fill-color);\n",
              "      border-top-color: var(--fill-color);\n",
              "      border-right-color: var(--fill-color);\n",
              "    }\n",
              "    40% {\n",
              "      border-color: transparent;\n",
              "      border-right-color: var(--fill-color);\n",
              "      border-top-color: var(--fill-color);\n",
              "    }\n",
              "    60% {\n",
              "      border-color: transparent;\n",
              "      border-right-color: var(--fill-color);\n",
              "    }\n",
              "    80% {\n",
              "      border-color: transparent;\n",
              "      border-right-color: var(--fill-color);\n",
              "      border-bottom-color: var(--fill-color);\n",
              "    }\n",
              "    90% {\n",
              "      border-color: transparent;\n",
              "      border-bottom-color: var(--fill-color);\n",
              "    }\n",
              "  }\n",
              "</style>\n",
              "\n",
              "  <script>\n",
              "    async function quickchart(key) {\n",
              "      const quickchartButtonEl =\n",
              "        document.querySelector('#' + key + ' button');\n",
              "      quickchartButtonEl.disabled = true;  // To prevent multiple clicks.\n",
              "      quickchartButtonEl.classList.add('colab-df-spinner');\n",
              "      try {\n",
              "        const charts = await google.colab.kernel.invokeFunction(\n",
              "            'suggestCharts', [key], {});\n",
              "      } catch (error) {\n",
              "        console.error('Error during call to suggestCharts:', error);\n",
              "      }\n",
              "      quickchartButtonEl.classList.remove('colab-df-spinner');\n",
              "      quickchartButtonEl.classList.add('colab-df-quickchart-complete');\n",
              "    }\n",
              "    (() => {\n",
              "      let quickchartButtonEl =\n",
              "        document.querySelector('#df-6e277810-3100-4bea-ae78-ed1d867bbfdb button');\n",
              "      quickchartButtonEl.style.display =\n",
              "        google.colab.kernel.accessAllowed ? 'block' : 'none';\n",
              "    })();\n",
              "  </script>\n",
              "</div>\n",
              "    </div>\n",
              "  </div>\n"
            ],
            "application/vnd.google.colaboratory.intrinsic+json": {
              "type": "dataframe",
              "repr_error": "0"
            }
          },
          "metadata": {},
          "execution_count": 28
        }
      ]
    },
    {
      "metadata": {
        "id": "U4_pQ7n_NEeG"
      },
      "cell_type": "markdown",
      "source": [
        "# **Data Split 70% 15% 15%**"
      ]
    },
    {
      "metadata": {
        "id": "ECDZd6RiLZV1",
        "outputId": "10d2d56d-310f-412c-b725-d8cc1ce3bb46",
        "colab": {
          "base_uri": "https://localhost:8080/"
        }
      },
      "cell_type": "code",
      "source": [
        "data.shape"
      ],
      "execution_count": 29,
      "outputs": [
        {
          "output_type": "execute_result",
          "data": {
            "text/plain": [
              "(1728, 7)"
            ]
          },
          "metadata": {},
          "execution_count": 29
        }
      ]
    },
    {
      "metadata": {
        "id": "8cObnYX8LPn_",
        "outputId": "0f7dca83-193c-4094-876b-9572f1735a31",
        "colab": {
          "base_uri": "https://localhost:8080/"
        }
      },
      "cell_type": "code",
      "source": [
        "X = data.iloc[:,:6]\n",
        "y = data.iloc[:, 6]\n",
        "\n",
        "print(\"Shape of x: \", X.shape)\n",
        "print(\"Shape of y: \", y.shape)"
      ],
      "execution_count": 30,
      "outputs": [
        {
          "output_type": "stream",
          "name": "stdout",
          "text": [
            "Shape of x:  (1728, 6)\n",
            "Shape of y:  (1728,)\n"
          ]
        }
      ]
    },
    {
      "cell_type": "code",
      "source": [
        "X_train, X_temp, y_train, y_temp = train_test_split(X, y, test_size=0.3, random_state=42)\n",
        "X_val, X_test, y_val, y_test = train_test_split(X_temp, y_temp, test_size=0.5, random_state=42)"
      ],
      "metadata": {
        "id": "QYEF5m4gCPdF"
      },
      "execution_count": 31,
      "outputs": []
    },
    {
      "metadata": {
        "id": "_j5zU5s7LtK_",
        "outputId": "874013d8-001b-483a-fab3-1d7c32c9f11b",
        "colab": {
          "base_uri": "https://localhost:8080/"
        }
      },
      "cell_type": "code",
      "source": [
        "print(\"Shape of X_train: \", X_train.shape)\n",
        "print(\"Shape of X_val: \", X_val.shape)\n",
        "print(\"Shape of X_test: \", X_test.shape)\n",
        "print(\"Shape of y_train: \", y_train.shape)\n",
        "print(\"shape of y_val: \", y_val.shape)\n",
        "print(\"shape of y_test: \", y_test.shape)"
      ],
      "execution_count": 32,
      "outputs": [
        {
          "output_type": "stream",
          "name": "stdout",
          "text": [
            "Shape of X_train:  (1209, 6)\n",
            "Shape of X_val:  (259, 6)\n",
            "Shape of X_test:  (260, 6)\n",
            "Shape of y_train:  (1209,)\n",
            "shape of y_val:  (259,)\n",
            "shape of y_test:  (260,)\n"
          ]
        }
      ]
    },
    {
      "cell_type": "markdown",
      "source": [
        "# StandardScaler"
      ],
      "metadata": {
        "id": "UxRsznf94OrX"
      }
    },
    {
      "metadata": {
        "id": "J0KqntpfMbY9"
      },
      "cell_type": "code",
      "source": [
        "\n",
        "from sklearn.preprocessing import StandardScaler\n",
        "scaler = StandardScaler()\n",
        "X_train_scaled = scaler.fit_transform(X_train)\n",
        "X_val_scaled = scaler.transform(X_val)\n",
        "X_test_scaled = scaler.transform(X_test)\n"
      ],
      "execution_count": 33,
      "outputs": []
    },
    {
      "cell_type": "code",
      "source": [
        "print(X_train_scaled)"
      ],
      "metadata": {
        "id": "Qi2bf5Uu1JWM",
        "colab": {
          "base_uri": "https://localhost:8080/"
        },
        "outputId": "b577c631-8037-41b0-d16a-bf82b467aac2"
      },
      "execution_count": 34,
      "outputs": [
        {
          "output_type": "stream",
          "name": "stdout",
          "text": [
            "[[-0.45352001 -0.45696511  1.34600219  0.25975495  1.22301629  1.213459  ]\n",
            " [ 0.44240432  0.44136142 -0.42957517  1.06914603 -1.21294202 -1.21949611]\n",
            " [-1.34944433 -0.45696511 -0.42957517  0.25975495  0.00503713 -0.00301855]\n",
            " ...\n",
            " [ 0.44240432 -1.35529163  1.34600219  1.06914603  0.00503713  1.213459  ]\n",
            " [-1.34944433  0.44136142  0.45821351 -1.3590272  -1.21294202 -0.00301855]\n",
            " [-0.45352001 -0.45696511 -0.42957517  1.06914603 -1.21294202 -0.00301855]]\n"
          ]
        }
      ]
    },
    {
      "cell_type": "markdown",
      "source": [
        "# Evaluation matrics Functions"
      ],
      "metadata": {
        "id": "KVb30_VMJJAX"
      }
    },
    {
      "cell_type": "code",
      "source": [
        "def calculate_accuracy(y_true, y_pred):\n",
        "    correct_predictions = sum(y_true == y_pred)\n",
        "    total_predictions = len(y_true)\n",
        "    accuracy = correct_predictions / total_predictions\n",
        "    return accuracy"
      ],
      "metadata": {
        "id": "KvZvY-3xHc4b"
      },
      "execution_count": 35,
      "outputs": []
    },
    {
      "cell_type": "code",
      "source": [
        "def calculate_precision(y_true, y_pred, label):\n",
        "    true_positives = sum((y_true == label) & (y_pred == label))\n",
        "    predicted_positives = sum(y_pred == label)\n",
        "    if predicted_positives > 0:\n",
        "        precision = true_positives / predicted_positives\n",
        "    else:\n",
        "        precision = 0\n",
        "    return precision\n"
      ],
      "metadata": {
        "id": "-80IufRTi_PF"
      },
      "execution_count": 36,
      "outputs": []
    },
    {
      "cell_type": "code",
      "source": [
        "def calculate_recall(y_true, y_pred, label):\n",
        "    true_positives = sum((y_true == label) & (y_pred == label))\n",
        "    actual_positives = sum(y_true == label)\n",
        "    if actual_positives > 0:\n",
        "      recall = true_positives / actual_positives\n",
        "    else :0\n",
        "    return recall"
      ],
      "metadata": {
        "id": "PDg8h35Ii_GD"
      },
      "execution_count": 37,
      "outputs": []
    },
    {
      "cell_type": "code",
      "source": [
        "def calculate_f1_score(precision, recall):\n",
        "    if (precision + recall) > 0:\n",
        "        f1_score = 2 * (precision * recall) / (precision + recall)\n",
        "    else:\n",
        "        f1_score = 0\n",
        "    return f1_score\n"
      ],
      "metadata": {
        "id": "TemTUiudi_A0"
      },
      "execution_count": 38,
      "outputs": []
    },
    {
      "cell_type": "code",
      "source": [
        "def calculate_confusion_matrix(y_true, y_pred):\n",
        "    unique_labels = sorted(set(y_true) | set(y_pred))\n",
        "    num_labels = len(unique_labels)\n",
        "    confusion_matrix = [[0] * num_labels for _ in range(num_labels)]\n",
        "\n",
        "    label_to_index = {label: i for i, label in enumerate(unique_labels)}\n",
        "\n",
        "    for true_label, pred_label in zip(y_true, y_pred):\n",
        "        true_index = label_to_index[true_label]\n",
        "        pred_index = label_to_index[pred_label]\n",
        "        confusion_matrix[true_index][pred_index] += 1\n",
        "\n",
        "    return confusion_matrix\n"
      ],
      "metadata": {
        "id": "dLsBQijsi-4h"
      },
      "execution_count": 39,
      "outputs": []
    },
    {
      "cell_type": "markdown",
      "source": [
        "# **Genetic algorithm for hyperparameter tuning with a Dicision Tree**"
      ],
      "metadata": {
        "id": "7uwxzA8sQPSJ"
      }
    },
    {
      "cell_type": "code",
      "source": [
        "# Define hyperparameters ranges\n",
        "hyperparameter_space = {\n",
        "    'max_depth': [3, 10],\n",
        "    'min_samples_split': [2, 10],\n",
        "    'min_samples_leaf': [1, 5]\n",
        "}"
      ],
      "metadata": {
        "id": "JRPNUglIHpWK"
      },
      "execution_count": 64,
      "outputs": []
    },
    {
      "cell_type": "code",
      "source": [
        "def initialize_population(size):\n",
        "    population = []\n",
        "    for _ in range(size):\n",
        "        chromosome = {\n",
        "            'max_depth': np.random.randint(hyperparameter_space['max_depth'][0], hyperparameter_space['max_depth'][1]),\n",
        "            'min_samples_split': np.random.randint(hyperparameter_space['min_samples_split'][0], hyperparameter_space['min_samples_split'][1]),\n",
        "            'min_samples_leaf': np.random.randint(hyperparameter_space['min_samples_leaf'][0], hyperparameter_space['min_samples_leaf'][1])\n",
        "        }\n",
        "        population.append(chromosome)\n",
        "    return population\n",
        "\n",
        "def fitness_function(chromosome, X_train, y_train, X_val, y_val):\n",
        "    model = DecisionTreeClassifier(\n",
        "        max_depth=chromosome['max_depth'],\n",
        "        min_samples_split=chromosome['min_samples_split'],\n",
        "        min_samples_leaf=chromosome['min_samples_leaf']\n",
        "    )\n",
        "    model.fit(X_train, y_train)\n",
        "    y_pred = model.predict(X_val)\n",
        "    return accuracy_score(y_val, y_pred)\n",
        "\n",
        "def selection(population, fitnesses):\n",
        "    sorted_population = [chromosome for _, chromosome in sorted(zip(fitnesses, population), key=lambda x: x[0], reverse=True)]\n",
        "    return sorted_population[:len(population)//2]\n",
        "\n",
        "\n",
        "def crossover(parent1, parent2):\n",
        "    child1 = {\n",
        "        'max_depth': parent1['max_depth'],\n",
        "        'min_samples_split': parent2['min_samples_split'],\n",
        "        'min_samples_leaf': parent1['min_samples_leaf']\n",
        "    }\n",
        "    child2 = {\n",
        "        'max_depth': parent2['max_depth'],\n",
        "        'min_samples_split': parent1['min_samples_split'],\n",
        "        'min_samples_leaf': parent2['min_samples_leaf']\n",
        "    }\n",
        "    return child1, child2\n",
        "\n",
        "def mutate(chromosome):\n",
        "    if np.random.rand() < 0.1:\n",
        "        chromosome['max_depth'] = np.random.randint(hyperparameter_space['max_depth'][0], hyperparameter_space['max_depth'][1])\n",
        "    if np.random.rand() < 0.1:\n",
        "        chromosome['min_samples_split'] = np.random.randint(hyperparameter_space['min_samples_split'][0], hyperparameter_space['min_samples_split'][1])\n",
        "    if np.random.rand() < 0.1:\n",
        "        chromosome['min_samples_leaf'] = np.random.randint(hyperparameter_space['min_samples_leaf'][0], hyperparameter_space['min_samples_leaf'][1])\n",
        "    return chromosome\n",
        "\n",
        "def genetic_algorithm(X_train, y_train, X_val, y_val, population_size=10, generations=10):\n",
        "    population = initialize_population(population_size)\n",
        "    for generation in range(generations):\n",
        "        fitnesses = [fitness_function(chromosome, X_train, y_train, X_val, y_val) for chromosome in population]\n",
        "        print(f\"Generation {generation}, Best Fitness: {max(fitnesses)}\")\n",
        "        population = selection(population, fitnesses)\n",
        "        next_population = []\n",
        "        while len(next_population) < population_size:\n",
        "            parent1, parent2 = np.random.choice(population, 2)\n",
        "            child1, child2 = crossover(parent1, parent2)\n",
        "            next_population.append(mutate(child1))\n",
        "            next_population.append(mutate(child2))\n",
        "        population = next_population\n",
        "    best_chromosome = max(population, key=lambda c: fitness_function(c, X_train, y_train, X_val, y_val))\n",
        "    return best_chromosome\n"
      ],
      "metadata": {
        "id": "xCdJDer3HwgY"
      },
      "execution_count": 65,
      "outputs": []
    },
    {
      "cell_type": "code",
      "source": [
        "# Run genetic algorithm\n",
        "best_params = genetic_algorithm(X_train_scaled, y_train, X_val_scaled, y_val)\n",
        "print(\"Best hyperparameters: \", best_params)\n"
      ],
      "metadata": {
        "colab": {
          "base_uri": "https://localhost:8080/"
        },
        "id": "XGx-jTZrI3ET",
        "outputId": "d4e3ccce-2ebc-406c-ff82-7770ace5ee93"
      },
      "execution_count": 66,
      "outputs": [
        {
          "output_type": "stream",
          "name": "stdout",
          "text": [
            "Generation 0, Best Fitness: 0.9536679536679536\n",
            "Generation 1, Best Fitness: 0.9420849420849421\n",
            "Generation 2, Best Fitness: 0.9420849420849421\n",
            "Generation 3, Best Fitness: 0.9420849420849421\n",
            "Generation 4, Best Fitness: 0.9459459459459459\n",
            "Generation 5, Best Fitness: 0.9459459459459459\n",
            "Generation 6, Best Fitness: 0.9459459459459459\n",
            "Generation 7, Best Fitness: 0.9498069498069498\n",
            "Generation 8, Best Fitness: 0.9652509652509652\n",
            "Generation 9, Best Fitness: 0.9575289575289575\n",
            "Best hyperparameters:  {'max_depth': 9, 'min_samples_split': 4, 'min_samples_leaf': 1}\n"
          ]
        }
      ]
    },
    {
      "cell_type": "code",
      "source": [
        "# Train with best hyperparams\n",
        "final_model = DecisionTreeClassifier(**best_params)\n",
        "final_model.fit(X_train_scaled, y_train)\n",
        "y_test_pred = final_model.predict(X_test_scaled)"
      ],
      "metadata": {
        "id": "jwcrhL3ZJCWK"
      },
      "execution_count": 67,
      "outputs": []
    },
    {
      "cell_type": "code",
      "source": [
        "# Calculate evaluation metrics\n",
        "accuracy = calculate_accuracy(y_test, y_test_pred)\n",
        "precision = {\n",
        "    label: calculate_precision(y_test, y_test_pred, label) for label in set(y_test)}\n",
        "recall = {\n",
        "    label: calculate_recall(y_test, y_test_pred, label) for label in set(y_test)}\n",
        "f1_scores = {\n",
        "    label: calculate_f1_score(precision[label], recall[label]) for label in set(y_test)}\n",
        "confusion_matrix = calculate_confusion_matrix(y_test, y_test_pred)\n",
        "\n",
        "print(\"GA Accuracy with DT: \", accuracy)\n",
        "print(\"\\nFor precision , recall and F1-Scores (0, 1, 2, 3) ('unacc', 'acc', 'good', 'vgood')\")\n",
        "print(\"GA Precision for individual classes: \", precision)\n",
        "print(\"GA Recall for individual classes: \", recall)\n",
        "print(\"GA F1 Scores for individual classes: \", f1_scores)\n",
        "print(\"\\nGA Confusion Matrix with DT: \")\n",
        "for row in confusion_matrix:\n",
        "    print(row)"
      ],
      "metadata": {
        "colab": {
          "base_uri": "https://localhost:8080/"
        },
        "id": "g5xXYhxMJILx",
        "outputId": "a2480cda-b56a-4f0a-9136-cb568d2500a5"
      },
      "execution_count": 68,
      "outputs": [
        {
          "output_type": "stream",
          "name": "stdout",
          "text": [
            "GA Accuracy with DT:  0.9576923076923077\n",
            "\n",
            "For precision , recall and F1-Scores (0, 1, 2, 3) ('unacc', 'acc', 'good', 'vgood')\n",
            "GA Precision for individual classes:  {0: 0.9943820224719101, 1: 0.9482758620689655, 2: 0.6153846153846154, 3: 0.8181818181818182}\n",
            "GA Recall for individual classes:  {0: 0.9833333333333333, 1: 0.9016393442622951, 2: 0.8888888888888888, 3: 0.9}\n",
            "GA F1 Scores for individual classes:  {0: 0.9888268156424581, 1: 0.9243697478991596, 2: 0.7272727272727274, 3: 0.8571428571428572}\n",
            "\n",
            "GA Confusion Matrix with DT: \n",
            "[177, 3, 0, 0]\n",
            "[1, 55, 4, 1]\n",
            "[0, 0, 8, 1]\n",
            "[0, 0, 1, 9]\n"
          ]
        }
      ]
    },
    {
      "cell_type": "code",
      "source": [
        "#average of precision, recall, and F1-scores\n",
        "unique_labels = set(y_test) | set(y_test_pred)\n",
        "average_precision = 0\n",
        "average_recall = 0\n",
        "average_f1 = 0\n",
        "for label in unique_labels:\n",
        "    avg_precision = calculate_precision(y_test, y_test_pred, label)\n",
        "    avg_recall = calculate_recall(y_test, y_test_pred, label)\n",
        "    avg_f1_score = calculate_f1_score(avg_precision, avg_recall)\n",
        "    average_precision += avg_precision\n",
        "    average_recall += avg_recall\n",
        "    average_f1 += avg_f1_score\n",
        "num_classes = len(unique_labels)\n",
        "average_precision /= num_classes\n",
        "average_recall /= num_classes\n",
        "average_f1 /= num_classes\n",
        "\n",
        "print(\"GA Average Precision with DT:{:.3f}\".format(average_precision))\n",
        "print(\"GA Average Recall with DT:{:.3f}\".format(average_recall))\n",
        "print(\"GA Average F-score with DT:{:.3f}\".format(average_f1))"
      ],
      "metadata": {
        "colab": {
          "base_uri": "https://localhost:8080/"
        },
        "id": "ZVWyv-drMEjm",
        "outputId": "194e1917-760b-4e4b-d1e6-70e99c0c5b2f"
      },
      "execution_count": 69,
      "outputs": [
        {
          "output_type": "stream",
          "name": "stdout",
          "text": [
            "GA Average Precision with DT:0.844\n",
            "GA Average Recall with DT:0.918\n",
            "GA Average F-score with DT:0.874\n"
          ]
        }
      ]
    },
    {
      "cell_type": "markdown",
      "source": [
        "# **Genetic algorithm for hyperparameter tuning with a SVC**"
      ],
      "metadata": {
        "id": "0fXuEN9ARH_d"
      }
    },
    {
      "cell_type": "code",
      "source": [
        "# Define hyperparameters ranges for SVC\n",
        "hyperparameter_space = {\n",
        "    'C': [0.01, 10],\n",
        "    'kernel': ['linear', 'poly', 'rbf', 'sigmoid'],\n",
        "    'degree': [2, 5],\n",
        "    'gamma': ['scale', 'auto']\n",
        "}"
      ],
      "metadata": {
        "id": "R5jzx3KaRNxf"
      },
      "execution_count": 58,
      "outputs": []
    },
    {
      "cell_type": "code",
      "source": [
        "def initialize_population(size):\n",
        "    population = []\n",
        "    for _ in range(size):\n",
        "        chromosome = {\n",
        "            'C': np.random.uniform(hyperparameter_space['C'][0], hyperparameter_space['C'][1]),\n",
        "            'kernel': np.random.choice(hyperparameter_space['kernel']),\n",
        "            'degree': np.random.randint(hyperparameter_space['degree'][0], hyperparameter_space['degree'][1]),\n",
        "            'gamma': np.random.choice(hyperparameter_space['gamma'])\n",
        "        }\n",
        "        population.append(chromosome)\n",
        "    return population\n",
        "\n",
        "def fitness_function(chromosome, X_train, y_train, X_val, y_val):\n",
        "    model = SVC(\n",
        "        C=chromosome['C'],\n",
        "        kernel=chromosome['kernel'],\n",
        "        degree=chromosome['degree'],\n",
        "        gamma=chromosome['gamma']\n",
        "    )\n",
        "    model.fit(X_train, y_train)\n",
        "    y_pred = model.predict(X_val)\n",
        "    return accuracy_score(y_val, y_pred)\n",
        "\n",
        "def selection(population, fitnesses):\n",
        "    sorted_population = [chromosome for _, chromosome in sorted(zip(fitnesses, population), key=lambda x: x[0], reverse=True)]\n",
        "    return sorted_population[:len(population)//2]\n",
        "\n",
        "def crossover(parent1, parent2):\n",
        "    child1 = {\n",
        "        'C': parent1['C'],\n",
        "        'kernel': parent2['kernel'],\n",
        "        'degree': parent1['degree'],\n",
        "        'gamma': parent2['gamma']\n",
        "    }\n",
        "    child2 = {\n",
        "        'C': parent2['C'],\n",
        "        'kernel': parent1['kernel'],\n",
        "        'degree': parent2['degree'],\n",
        "        'gamma': parent1['gamma']\n",
        "    }\n",
        "    return child1, child2\n",
        "\n",
        "def mutate(chromosome):\n",
        "    if np.random.rand() < 0.1:\n",
        "        chromosome['C'] = np.random.uniform(hyperparameter_space['C'][0], hyperparameter_space['C'][1])\n",
        "    if np.random.rand() < 0.1:\n",
        "        chromosome['kernel'] = np.random.choice(hyperparameter_space['kernel'])\n",
        "    if np.random.rand() < 0.1:\n",
        "        chromosome['degree'] = np.random.randint(hyperparameter_space['degree'][0], hyperparameter_space['degree'][1])\n",
        "    if np.random.rand() < 0.1:\n",
        "        chromosome['gamma'] = np.random.choice(hyperparameter_space['gamma'])\n",
        "    return chromosome\n",
        "\n",
        "def genetic_algorithm(X_train, y_train, X_val, y_val, population_size=10, generations=10):\n",
        "    population = initialize_population(population_size)\n",
        "    for generation in range(generations):\n",
        "        fitnesses = [fitness_function(chromosome, X_train, y_train, X_val, y_val) for chromosome in population]\n",
        "        print(f\"Generation {generation}, Best Fitness: {max(fitnesses)}\")\n",
        "        population = selection(population, fitnesses)\n",
        "        next_population = []\n",
        "        while len(next_population) < population_size:\n",
        "            parent1, parent2 = np.random.choice(population, 2)\n",
        "            child1, child2 = crossover(parent1, parent2)\n",
        "            next_population.append(mutate(child1))\n",
        "            next_population.append(mutate(child2))\n",
        "        population = next_population\n",
        "    best_chromosome = max(population, key=lambda c: fitness_function(c, X_train, y_train, X_val, y_val))\n",
        "    return best_chromosome\n"
      ],
      "metadata": {
        "id": "fulD_L1nRT6o"
      },
      "execution_count": 59,
      "outputs": []
    },
    {
      "cell_type": "code",
      "source": [
        "\n",
        "# Run genetic algorithm\n",
        "best_params = genetic_algorithm(X_train_scaled, y_train, X_val_scaled, y_val)\n",
        "print(\"Best hyperparameters: \", best_params)"
      ],
      "metadata": {
        "colab": {
          "base_uri": "https://localhost:8080/"
        },
        "id": "G86Odwi5RTyW",
        "outputId": "792e7c23-3624-4c86-8672-867612416ca2"
      },
      "execution_count": 60,
      "outputs": [
        {
          "output_type": "stream",
          "name": "stdout",
          "text": [
            "Generation 0, Best Fitness: 0.9613899613899614\n",
            "Generation 1, Best Fitness: 0.9613899613899614\n",
            "Generation 2, Best Fitness: 0.9613899613899614\n",
            "Generation 3, Best Fitness: 0.9613899613899614\n",
            "Generation 4, Best Fitness: 0.9652509652509652\n",
            "Generation 5, Best Fitness: 0.9613899613899614\n",
            "Generation 6, Best Fitness: 0.9652509652509652\n",
            "Generation 7, Best Fitness: 0.9652509652509652\n",
            "Generation 8, Best Fitness: 0.9652509652509652\n",
            "Generation 9, Best Fitness: 0.9652509652509652\n",
            "Best hyperparameters:  {'C': 2.173098547427915, 'kernel': 'rbf', 'degree': 4, 'gamma': 'scale'}\n"
          ]
        }
      ]
    },
    {
      "cell_type": "code",
      "source": [
        "# Train with best hyperparameters\n",
        "final_model = SVC(**best_params)\n",
        "final_model.fit(X_train_scaled, y_train)\n",
        "y_test_pred = final_model.predict(X_test_scaled)"
      ],
      "metadata": {
        "id": "OXYRqMn7RTk_"
      },
      "execution_count": 61,
      "outputs": []
    },
    {
      "cell_type": "code",
      "source": [
        "# Calculate evaluation metrics\n",
        "accuracy = calculate_accuracy(y_test, y_test_pred)\n",
        "precision = {\n",
        "    label: calculate_precision(y_test, y_test_pred, label) for label in set(y_test)}\n",
        "recall = {\n",
        "    label: calculate_recall(y_test, y_test_pred, label) for label in set(y_test)}\n",
        "f1_scores = {\n",
        "    label: calculate_f1_score(precision[label], recall[label]) for label in set(y_test)}\n",
        "confusion_matrix = calculate_confusion_matrix(y_test, y_test_pred)\n",
        "\n",
        "print(\"GA Accuracy with SVC: \", accuracy)\n",
        "print(\"\\nFor precision , recall and F1-Scores (0, 1, 2, 3) ('unacc', 'acc', 'good', 'vgood')\")\n",
        "print(\"GA Precision for individual classes: \", precision)\n",
        "print(\"GA Recall for individual classes: \", recall)\n",
        "print(\"GA F1 Scores for individual classes: \", f1_scores)\n",
        "print(\"\\nGA Confusion Matrix with SVC: \")\n",
        "for row in confusion_matrix:\n",
        "    print(row)"
      ],
      "metadata": {
        "colab": {
          "base_uri": "https://localhost:8080/"
        },
        "id": "TH3UmJemRbXt",
        "outputId": "ecc4da76-cbd9-478e-d824-afb0110b9aca"
      },
      "execution_count": 62,
      "outputs": [
        {
          "output_type": "stream",
          "name": "stdout",
          "text": [
            "GA Accuracy with SVC:  0.9730769230769231\n",
            "\n",
            "For precision , recall and F1-Scores (0, 1, 2, 3) ('unacc', 'acc', 'good', 'vgood')\n",
            "GA Precision for individual classes:  {0: 0.988950276243094, 1: 0.9655172413793104, 2: 0.75, 3: 1.0}\n",
            "GA Recall for individual classes:  {0: 0.9944444444444445, 1: 0.9180327868852459, 2: 1.0, 3: 0.9}\n",
            "GA F1 Scores for individual classes:  {0: 0.9916897506925207, 1: 0.9411764705882353, 2: 0.8571428571428571, 3: 0.9473684210526316}\n",
            "\n",
            "GA Confusion Matrix with SVC: \n",
            "[179, 1, 0, 0]\n",
            "[2, 56, 3, 0]\n",
            "[0, 0, 9, 0]\n",
            "[0, 1, 0, 9]\n"
          ]
        }
      ]
    },
    {
      "cell_type": "code",
      "source": [
        "#average of precision, recall, and F1-scores\n",
        "unique_labels = set(y_test) | set(y_test_pred)\n",
        "average_precision = 0\n",
        "average_recall = 0\n",
        "average_f1 = 0\n",
        "for label in unique_labels:\n",
        "    avg_precision = calculate_precision(y_test, y_test_pred, label)\n",
        "    avg_recall = calculate_recall(y_test, y_test_pred, label)\n",
        "    avg_f1_score = calculate_f1_score(avg_precision, avg_recall)\n",
        "    average_precision += avg_precision\n",
        "    average_recall += avg_recall\n",
        "    average_f1 += avg_f1_score\n",
        "num_classes = len(unique_labels)\n",
        "average_precision /= num_classes\n",
        "average_recall /= num_classes\n",
        "average_f1 /= num_classes\n",
        "\n",
        "print(\"GA Average Precision with SVC:{:.3f}\".format(average_precision))\n",
        "print(\"GA Average Recall with SVC:{:.3f}\".format(average_recall))\n",
        "print(\"GA Average F-score with SVC:{:.3f}\".format(average_f1))"
      ],
      "metadata": {
        "colab": {
          "base_uri": "https://localhost:8080/"
        },
        "id": "SsYN1OEMRbPo",
        "outputId": "2dc30f6c-0cef-45b2-e77e-0d88b53d7014"
      },
      "execution_count": 63,
      "outputs": [
        {
          "output_type": "stream",
          "name": "stdout",
          "text": [
            "GA Average Precision with SVC:0.926\n",
            "GA Average Recall with SVC:0.953\n",
            "GA Average F-score with SVC:0.934\n"
          ]
        }
      ]
    },
    {
      "cell_type": "markdown",
      "source": [
        "# **Genetic algorithm for hyperparameter tuning with a Logistic Regression**"
      ],
      "metadata": {
        "id": "tvGwdfsWR_nT"
      }
    },
    {
      "cell_type": "code",
      "source": [
        "hyperparameter_space = {\n",
        "    'C': [0.01, 10],\n",
        "    'max_iter': [100, 500]\n",
        "}"
      ],
      "metadata": {
        "id": "klmArcraSI0_"
      },
      "execution_count": 52,
      "outputs": []
    },
    {
      "cell_type": "code",
      "source": [
        "def initialize_population(size):\n",
        "    population = []\n",
        "    for _ in range(size):\n",
        "        chromosome = {\n",
        "            'C': np.random.uniform(hyperparameter_space['C'][0], hyperparameter_space['C'][1]),\n",
        "            'max_iter': np.random.randint(hyperparameter_space['max_iter'][0], hyperparameter_space['max_iter'][1])\n",
        "        }\n",
        "        population.append(chromosome)\n",
        "    return population\n",
        "\n",
        "def fitness_function(chromosome, X_train, y_train, X_val, y_val):\n",
        "    model = LogisticRegression(\n",
        "        C=chromosome['C'],\n",
        "        max_iter=chromosome['max_iter'],\n",
        "        solver='lbfgs',\n",
        "        multi_class='auto'  # detect multi-class classification automatically\n",
        "    )\n",
        "    model.fit(X_train, y_train)\n",
        "    y_pred = model.predict(X_val)\n",
        "    return accuracy_score(y_val, y_pred)\n",
        "\n",
        "def selection(population, fitnesses):\n",
        "    sorted_population = [chromosome for _, chromosome in sorted(zip(fitnesses, population), key=lambda x: x[0], reverse=True)]\n",
        "    return sorted_population[:len(population)//2]\n",
        "\n",
        "def crossover(parent1, parent2):\n",
        "    child1 = {\n",
        "        'C': parent1['C'],\n",
        "        'max_iter': parent2['max_iter']\n",
        "    }\n",
        "    child2 = {\n",
        "        'C': parent2['C'],\n",
        "        'max_iter': parent1['max_iter']\n",
        "    }\n",
        "    return child1, child2\n",
        "\n",
        "def mutate(chromosome):\n",
        "    if np.random.rand() < 0.1:\n",
        "        chromosome['C'] = np.random.uniform(hyperparameter_space['C'][0], hyperparameter_space['C'][1])\n",
        "    if np.random.rand() < 0.1:\n",
        "        chromosome['max_iter'] = np.random.randint(hyperparameter_space['max_iter'][0], hyperparameter_space['max_iter'][1])\n",
        "    return chromosome\n",
        "\n",
        "def genetic_algorithm(X_train, y_train, X_val, y_val, population_size=10, generations=10):\n",
        "    population = initialize_population(population_size)\n",
        "    for generation in range(generations):\n",
        "        fitnesses = [fitness_function(chromosome, X_train, y_train, X_val, y_val) for chromosome in population]\n",
        "        print(f\"Generation {generation}, Best Fitness: {max(fitnesses)}\")\n",
        "        population = selection(population, fitnesses)\n",
        "        next_population = []\n",
        "        while len(next_population) < population_size:\n",
        "            parent1, parent2 = np.random.choice(population, 2)\n",
        "            child1, child2 = crossover(parent1, parent2)\n",
        "            next_population.append(mutate(child1))\n",
        "            next_population.append(mutate(child2))\n",
        "        population = next_population\n",
        "    best_chromosome = max(population, key=lambda c: fitness_function(c, X_train, y_train, X_val, y_val))\n",
        "    return best_chromosome\n"
      ],
      "metadata": {
        "id": "XU6NMpruSPU_"
      },
      "execution_count": 53,
      "outputs": []
    },
    {
      "cell_type": "code",
      "source": [
        "# Run genetic algorithm\n",
        "best_params = genetic_algorithm(X_train_scaled, y_train, X_val_scaled, y_val)\n",
        "print(\"Best hyperparameters: \", best_params)"
      ],
      "metadata": {
        "colab": {
          "base_uri": "https://localhost:8080/"
        },
        "id": "0uIPEDbmSPRe",
        "outputId": "2dd1616c-e271-45fb-f9e3-617708770bba"
      },
      "execution_count": 54,
      "outputs": [
        {
          "output_type": "stream",
          "name": "stdout",
          "text": [
            "Generation 0, Best Fitness: 0.8571428571428571\n",
            "Generation 1, Best Fitness: 0.8571428571428571\n",
            "Generation 2, Best Fitness: 0.8571428571428571\n",
            "Generation 3, Best Fitness: 0.8571428571428571\n",
            "Generation 4, Best Fitness: 0.8571428571428571\n",
            "Generation 5, Best Fitness: 0.8571428571428571\n",
            "Generation 6, Best Fitness: 0.8571428571428571\n",
            "Generation 7, Best Fitness: 0.8571428571428571\n",
            "Generation 8, Best Fitness: 0.8571428571428571\n",
            "Generation 9, Best Fitness: 0.8571428571428571\n",
            "Best hyperparameters:  {'C': 3.640320489274689, 'max_iter': 457}\n"
          ]
        }
      ]
    },
    {
      "cell_type": "code",
      "source": [
        "# Train with best hyperparameters\n",
        "final_model = LogisticRegression(**best_params, solver='lbfgs', multi_class='auto')\n",
        "final_model.fit(X_train_scaled, y_train)\n",
        "y_test_pred = final_model.predict(X_test_scaled)\n",
        "\n"
      ],
      "metadata": {
        "id": "fvaPbjC7SPNc"
      },
      "execution_count": 55,
      "outputs": []
    },
    {
      "cell_type": "code",
      "source": [
        "# Calculate evaluation metrics\n",
        "accuracy = calculate_accuracy(y_test, y_test_pred)\n",
        "precision = {\n",
        "    label: calculate_precision(y_test, y_test_pred, label) for label in set(y_test)}\n",
        "recall = {\n",
        "    label: calculate_recall(y_test, y_test_pred, label) for label in set(y_test)}\n",
        "f1_scores = {\n",
        "    label: calculate_f1_score(precision[label], recall[label]) for label in set(y_test)}\n",
        "confusion_matrix = calculate_confusion_matrix(y_test, y_test_pred)\n",
        "\n",
        "print(\"GA Accuracy with Loigistic Regression: \", accuracy)\n",
        "print(\"\\nFor precision , recall and F1-Scores (0, 1, 2, 3) ('unacc', 'acc', 'good', 'vgood')\")\n",
        "print(\"GA Precision for individual classes: \", precision)\n",
        "print(\"GA Recall for individual classes: \", recall)\n",
        "print(\"GA F1 Scores for individual classes: \", f1_scores)\n",
        "print(\"\\nGA Confusion Matrix with Loigistic Regression: \")\n",
        "for row in confusion_matrix:\n",
        "    print(row)"
      ],
      "metadata": {
        "colab": {
          "base_uri": "https://localhost:8080/"
        },
        "id": "FD2s8yvBSO-l",
        "outputId": "b653d188-b3f3-41b6-f1cb-3bffab06de35"
      },
      "execution_count": 56,
      "outputs": [
        {
          "output_type": "stream",
          "name": "stdout",
          "text": [
            "GA Accuracy with Loigistic Regression:  0.8423076923076923\n",
            "\n",
            "For precision , recall and F1-Scores (0, 1, 2, 3) ('unacc', 'acc', 'good', 'vgood')\n",
            "GA Precision for individual classes:  {0: 0.8978494623655914, 1: 0.7017543859649122, 2: 0.5714285714285714, 3: 0.8}\n",
            "GA Recall for individual classes:  {0: 0.9277777777777778, 1: 0.6557377049180327, 2: 0.4444444444444444, 3: 0.8}\n",
            "GA F1 Scores for individual classes:  {0: 0.912568306010929, 1: 0.6779661016949152, 2: 0.5, 3: 0.8000000000000002}\n",
            "\n",
            "GA Confusion Matrix with Loigistic Regression: \n",
            "[167, 11, 2, 0]\n",
            "[19, 40, 1, 1]\n",
            "[0, 4, 4, 1]\n",
            "[0, 2, 0, 8]\n"
          ]
        }
      ]
    },
    {
      "cell_type": "code",
      "source": [
        "#average of precision, recall, and F1-scores\n",
        "unique_labels = set(y_test) | set(y_test_pred)\n",
        "average_precision = 0\n",
        "average_recall = 0\n",
        "average_f1 = 0\n",
        "for label in unique_labels:\n",
        "    avg_precision = calculate_precision(y_test, y_test_pred, label)\n",
        "    avg_recall = calculate_recall(y_test, y_test_pred, label)\n",
        "    avg_f1_score = calculate_f1_score(avg_precision, avg_recall)\n",
        "    average_precision += avg_precision\n",
        "    average_recall += avg_recall\n",
        "    average_f1 += avg_f1_score\n",
        "num_classes = len(unique_labels)\n",
        "average_precision /= num_classes\n",
        "average_recall /= num_classes\n",
        "average_f1 /= num_classes\n",
        "\n",
        "print(\"GA Average Precision with Loigistic Regression:{:.3f}\".format(average_precision))\n",
        "print(\"GA Average with Loigistic Regression Recall:{:.3f}\".format(average_recall))\n",
        "print(\"GA Average with Loigistic Regression F-score:{:.3f}\".format(average_f1))"
      ],
      "metadata": {
        "colab": {
          "base_uri": "https://localhost:8080/"
        },
        "id": "ScDBxqqvSO1q",
        "outputId": "f58c3535-e360-4292-dc31-a249c75cba7d"
      },
      "execution_count": 57,
      "outputs": [
        {
          "output_type": "stream",
          "name": "stdout",
          "text": [
            "GA Average Precision with Loigistic Regression:0.743\n",
            "GA Average with Loigistic Regression Recall:0.707\n",
            "GA Average with Loigistic Regression F-score:0.723\n"
          ]
        }
      ]
    },
    {
      "cell_type": "markdown",
      "source": [
        "# Export dataset"
      ],
      "metadata": {
        "id": "tIkucCwbcYXT"
      }
    },
    {
      "cell_type": "code",
      "source": [
        "file_path = '/content/gdrive/MyDrive/data/Assignment8_processed_dataset_car_evaluation.xlsx'\n",
        "data.to_excel(file_path, index=False)"
      ],
      "metadata": {
        "id": "3ddyQhdiYwHj"
      },
      "execution_count": 51,
      "outputs": []
    }
  ]
}