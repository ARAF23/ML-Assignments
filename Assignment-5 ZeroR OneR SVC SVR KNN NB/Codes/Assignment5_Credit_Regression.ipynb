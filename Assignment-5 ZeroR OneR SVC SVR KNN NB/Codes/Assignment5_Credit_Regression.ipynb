{
  "cells": [
    {
      "cell_type": "code",
      "execution_count": null,
      "metadata": {
        "id": "Gce4FETqtgT1"
      },
      "outputs": [],
      "source": [
        "''''Assignment #5\n",
        "Rezwan-Ul-Alam (ID: 2011659042)\n",
        "Md. Nur Alam Jowel (ID: 2012355042)\n",
        "Raian Ruku (ID: 2013409642)'''"
      ]
    },
    {
      "cell_type": "code",
      "execution_count": 1,
      "metadata": {
        "colab": {
          "base_uri": "https://localhost:8080/"
        },
        "id": "2Vl3R0Peti2y",
        "outputId": "ad41ac2f-8237-43a9-e0be-3c769fce7cc7"
      },
      "outputs": [
        {
          "name": "stdout",
          "output_type": "stream",
          "text": [
            "Mounted at /content/gdrive\n"
          ]
        }
      ],
      "source": [
        "from google.colab import drive\n",
        "drive.mount('/content/gdrive')"
      ]
    },
    {
      "cell_type": "code",
      "execution_count": 2,
      "metadata": {
        "id": "qSKC0-7dti0g"
      },
      "outputs": [],
      "source": [
        "import numpy as np\n",
        "import pandas as pd\n",
        "from sklearn.model_selection import train_test_split\n"
      ]
    },
    {
      "cell_type": "markdown",
      "metadata": {
        "id": "fbN5cjEFV7oX"
      },
      "source": [
        "# data visualization and preprocessing"
      ]
    },
    {
      "cell_type": "code",
      "execution_count": 3,
      "metadata": {
        "colab": {
          "base_uri": "https://localhost:8080/",
          "height": 0
        },
        "id": "bUNwue77tiyV",
        "outputId": "3aef7f37-7b7c-4de1-be71-f964cb8da349"
      },
      "outputs": [
        {
          "data": {
            "application/vnd.google.colaboratory.intrinsic+json": {
              "summary": "{\n  \"name\": \"df\",\n  \"rows\": 400,\n  \"fields\": [\n    {\n      \"column\": \"Income\",\n      \"properties\": {\n        \"dtype\": \"number\",\n        \"std\": 35.244273165070524,\n        \"min\": 10.354,\n        \"max\": 186.634,\n        \"num_unique_values\": 399,\n        \"samples\": [\n          27.349,\n          48.577,\n          31.367\n        ],\n        \"semantic_type\": \"\",\n        \"description\": \"\"\n      }\n    },\n    {\n      \"column\": \"Limit\",\n      \"properties\": {\n        \"dtype\": \"number\",\n        \"std\": 2308,\n        \"min\": 855,\n        \"max\": 13913,\n        \"num_unique_values\": 387,\n        \"samples\": [\n          3096,\n          1362,\n          6040\n        ],\n        \"semantic_type\": \"\",\n        \"description\": \"\"\n      }\n    },\n    {\n      \"column\": \"Rating\",\n      \"properties\": {\n        \"dtype\": \"number\",\n        \"std\": 154,\n        \"min\": 93,\n        \"max\": 982,\n        \"num_unique_values\": 283,\n        \"samples\": [\n          491,\n          329,\n          214\n        ],\n        \"semantic_type\": \"\",\n        \"description\": \"\"\n      }\n    },\n    {\n      \"column\": \"Cards\",\n      \"properties\": {\n        \"dtype\": \"number\",\n        \"std\": 1,\n        \"min\": 1,\n        \"max\": 9,\n        \"num_unique_values\": 9,\n        \"samples\": [\n          8,\n          3,\n          6\n        ],\n        \"semantic_type\": \"\",\n        \"description\": \"\"\n      }\n    },\n    {\n      \"column\": \"Age\",\n      \"properties\": {\n        \"dtype\": \"number\",\n        \"std\": 17,\n        \"min\": 23,\n        \"max\": 98,\n        \"num_unique_values\": 68,\n        \"samples\": [\n          52,\n          69,\n          68\n        ],\n        \"semantic_type\": \"\",\n        \"description\": \"\"\n      }\n    },\n    {\n      \"column\": \"Education\",\n      \"properties\": {\n        \"dtype\": \"number\",\n        \"std\": 3,\n        \"min\": 5,\n        \"max\": 20,\n        \"num_unique_values\": 16,\n        \"samples\": [\n          11,\n          15,\n          9\n        ],\n        \"semantic_type\": \"\",\n        \"description\": \"\"\n      }\n    },\n    {\n      \"column\": \"Own\",\n      \"properties\": {\n        \"dtype\": \"category\",\n        \"num_unique_values\": 2,\n        \"samples\": [\n          \"Yes\",\n          \"No\"\n        ],\n        \"semantic_type\": \"\",\n        \"description\": \"\"\n      }\n    },\n    {\n      \"column\": \"Student\",\n      \"properties\": {\n        \"dtype\": \"category\",\n        \"num_unique_values\": 2,\n        \"samples\": [\n          \"Yes\",\n          \"No\"\n        ],\n        \"semantic_type\": \"\",\n        \"description\": \"\"\n      }\n    },\n    {\n      \"column\": \"Married\",\n      \"properties\": {\n        \"dtype\": \"category\",\n        \"num_unique_values\": 2,\n        \"samples\": [\n          \"No\",\n          \"Yes\"\n        ],\n        \"semantic_type\": \"\",\n        \"description\": \"\"\n      }\n    },\n    {\n      \"column\": \"Region\",\n      \"properties\": {\n        \"dtype\": \"category\",\n        \"num_unique_values\": 3,\n        \"samples\": [\n          \"South\",\n          \"West\"\n        ],\n        \"semantic_type\": \"\",\n        \"description\": \"\"\n      }\n    },\n    {\n      \"column\": \"Balance\",\n      \"properties\": {\n        \"dtype\": \"number\",\n        \"std\": 459,\n        \"min\": 0,\n        \"max\": 1999,\n        \"num_unique_values\": 284,\n        \"samples\": [\n          1350,\n          1405\n        ],\n        \"semantic_type\": \"\",\n        \"description\": \"\"\n      }\n    }\n  ]\n}",
              "type": "dataframe",
              "variable_name": "df"
            },
            "text/html": [
              "\n",
              "  <div id=\"df-9db2df40-4f09-4b08-8e8b-549c377ca18b\" class=\"colab-df-container\">\n",
              "    <div>\n",
              "<style scoped>\n",
              "    .dataframe tbody tr th:only-of-type {\n",
              "        vertical-align: middle;\n",
              "    }\n",
              "\n",
              "    .dataframe tbody tr th {\n",
              "        vertical-align: top;\n",
              "    }\n",
              "\n",
              "    .dataframe thead th {\n",
              "        text-align: right;\n",
              "    }\n",
              "</style>\n",
              "<table border=\"1\" class=\"dataframe\">\n",
              "  <thead>\n",
              "    <tr style=\"text-align: right;\">\n",
              "      <th></th>\n",
              "      <th>Income</th>\n",
              "      <th>Limit</th>\n",
              "      <th>Rating</th>\n",
              "      <th>Cards</th>\n",
              "      <th>Age</th>\n",
              "      <th>Education</th>\n",
              "      <th>Own</th>\n",
              "      <th>Student</th>\n",
              "      <th>Married</th>\n",
              "      <th>Region</th>\n",
              "      <th>Balance</th>\n",
              "    </tr>\n",
              "  </thead>\n",
              "  <tbody>\n",
              "    <tr>\n",
              "      <th>0</th>\n",
              "      <td>14.891</td>\n",
              "      <td>3606</td>\n",
              "      <td>283</td>\n",
              "      <td>2</td>\n",
              "      <td>34</td>\n",
              "      <td>11</td>\n",
              "      <td>No</td>\n",
              "      <td>No</td>\n",
              "      <td>Yes</td>\n",
              "      <td>South</td>\n",
              "      <td>333</td>\n",
              "    </tr>\n",
              "    <tr>\n",
              "      <th>1</th>\n",
              "      <td>106.025</td>\n",
              "      <td>6645</td>\n",
              "      <td>483</td>\n",
              "      <td>3</td>\n",
              "      <td>82</td>\n",
              "      <td>15</td>\n",
              "      <td>Yes</td>\n",
              "      <td>Yes</td>\n",
              "      <td>Yes</td>\n",
              "      <td>West</td>\n",
              "      <td>903</td>\n",
              "    </tr>\n",
              "    <tr>\n",
              "      <th>2</th>\n",
              "      <td>104.593</td>\n",
              "      <td>7075</td>\n",
              "      <td>514</td>\n",
              "      <td>4</td>\n",
              "      <td>71</td>\n",
              "      <td>11</td>\n",
              "      <td>No</td>\n",
              "      <td>No</td>\n",
              "      <td>No</td>\n",
              "      <td>West</td>\n",
              "      <td>580</td>\n",
              "    </tr>\n",
              "    <tr>\n",
              "      <th>3</th>\n",
              "      <td>148.924</td>\n",
              "      <td>9504</td>\n",
              "      <td>681</td>\n",
              "      <td>3</td>\n",
              "      <td>36</td>\n",
              "      <td>11</td>\n",
              "      <td>Yes</td>\n",
              "      <td>No</td>\n",
              "      <td>No</td>\n",
              "      <td>West</td>\n",
              "      <td>964</td>\n",
              "    </tr>\n",
              "    <tr>\n",
              "      <th>4</th>\n",
              "      <td>55.882</td>\n",
              "      <td>4897</td>\n",
              "      <td>357</td>\n",
              "      <td>2</td>\n",
              "      <td>68</td>\n",
              "      <td>16</td>\n",
              "      <td>No</td>\n",
              "      <td>No</td>\n",
              "      <td>Yes</td>\n",
              "      <td>South</td>\n",
              "      <td>331</td>\n",
              "    </tr>\n",
              "  </tbody>\n",
              "</table>\n",
              "</div>\n",
              "    <div class=\"colab-df-buttons\">\n",
              "\n",
              "  <div class=\"colab-df-container\">\n",
              "    <button class=\"colab-df-convert\" onclick=\"convertToInteractive('df-9db2df40-4f09-4b08-8e8b-549c377ca18b')\"\n",
              "            title=\"Convert this dataframe to an interactive table.\"\n",
              "            style=\"display:none;\">\n",
              "\n",
              "  <svg xmlns=\"http://www.w3.org/2000/svg\" height=\"24px\" viewBox=\"0 -960 960 960\">\n",
              "    <path d=\"M120-120v-720h720v720H120Zm60-500h600v-160H180v160Zm220 220h160v-160H400v160Zm0 220h160v-160H400v160ZM180-400h160v-160H180v160Zm440 0h160v-160H620v160ZM180-180h160v-160H180v160Zm440 0h160v-160H620v160Z\"/>\n",
              "  </svg>\n",
              "    </button>\n",
              "\n",
              "  <style>\n",
              "    .colab-df-container {\n",
              "      display:flex;\n",
              "      gap: 12px;\n",
              "    }\n",
              "\n",
              "    .colab-df-convert {\n",
              "      background-color: #E8F0FE;\n",
              "      border: none;\n",
              "      border-radius: 50%;\n",
              "      cursor: pointer;\n",
              "      display: none;\n",
              "      fill: #1967D2;\n",
              "      height: 32px;\n",
              "      padding: 0 0 0 0;\n",
              "      width: 32px;\n",
              "    }\n",
              "\n",
              "    .colab-df-convert:hover {\n",
              "      background-color: #E2EBFA;\n",
              "      box-shadow: 0px 1px 2px rgba(60, 64, 67, 0.3), 0px 1px 3px 1px rgba(60, 64, 67, 0.15);\n",
              "      fill: #174EA6;\n",
              "    }\n",
              "\n",
              "    .colab-df-buttons div {\n",
              "      margin-bottom: 4px;\n",
              "    }\n",
              "\n",
              "    [theme=dark] .colab-df-convert {\n",
              "      background-color: #3B4455;\n",
              "      fill: #D2E3FC;\n",
              "    }\n",
              "\n",
              "    [theme=dark] .colab-df-convert:hover {\n",
              "      background-color: #434B5C;\n",
              "      box-shadow: 0px 1px 3px 1px rgba(0, 0, 0, 0.15);\n",
              "      filter: drop-shadow(0px 1px 2px rgba(0, 0, 0, 0.3));\n",
              "      fill: #FFFFFF;\n",
              "    }\n",
              "  </style>\n",
              "\n",
              "    <script>\n",
              "      const buttonEl =\n",
              "        document.querySelector('#df-9db2df40-4f09-4b08-8e8b-549c377ca18b button.colab-df-convert');\n",
              "      buttonEl.style.display =\n",
              "        google.colab.kernel.accessAllowed ? 'block' : 'none';\n",
              "\n",
              "      async function convertToInteractive(key) {\n",
              "        const element = document.querySelector('#df-9db2df40-4f09-4b08-8e8b-549c377ca18b');\n",
              "        const dataTable =\n",
              "          await google.colab.kernel.invokeFunction('convertToInteractive',\n",
              "                                                    [key], {});\n",
              "        if (!dataTable) return;\n",
              "\n",
              "        const docLinkHtml = 'Like what you see? Visit the ' +\n",
              "          '<a target=\"_blank\" href=https://colab.research.google.com/notebooks/data_table.ipynb>data table notebook</a>'\n",
              "          + ' to learn more about interactive tables.';\n",
              "        element.innerHTML = '';\n",
              "        dataTable['output_type'] = 'display_data';\n",
              "        await google.colab.output.renderOutput(dataTable, element);\n",
              "        const docLink = document.createElement('div');\n",
              "        docLink.innerHTML = docLinkHtml;\n",
              "        element.appendChild(docLink);\n",
              "      }\n",
              "    </script>\n",
              "  </div>\n",
              "\n",
              "\n",
              "<div id=\"df-ff0a5f43-ecde-4114-aacf-dff10be5f3b1\">\n",
              "  <button class=\"colab-df-quickchart\" onclick=\"quickchart('df-ff0a5f43-ecde-4114-aacf-dff10be5f3b1')\"\n",
              "            title=\"Suggest charts\"\n",
              "            style=\"display:none;\">\n",
              "\n",
              "<svg xmlns=\"http://www.w3.org/2000/svg\" height=\"24px\"viewBox=\"0 0 24 24\"\n",
              "     width=\"24px\">\n",
              "    <g>\n",
              "        <path d=\"M19 3H5c-1.1 0-2 .9-2 2v14c0 1.1.9 2 2 2h14c1.1 0 2-.9 2-2V5c0-1.1-.9-2-2-2zM9 17H7v-7h2v7zm4 0h-2V7h2v10zm4 0h-2v-4h2v4z\"/>\n",
              "    </g>\n",
              "</svg>\n",
              "  </button>\n",
              "\n",
              "<style>\n",
              "  .colab-df-quickchart {\n",
              "      --bg-color: #E8F0FE;\n",
              "      --fill-color: #1967D2;\n",
              "      --hover-bg-color: #E2EBFA;\n",
              "      --hover-fill-color: #174EA6;\n",
              "      --disabled-fill-color: #AAA;\n",
              "      --disabled-bg-color: #DDD;\n",
              "  }\n",
              "\n",
              "  [theme=dark] .colab-df-quickchart {\n",
              "      --bg-color: #3B4455;\n",
              "      --fill-color: #D2E3FC;\n",
              "      --hover-bg-color: #434B5C;\n",
              "      --hover-fill-color: #FFFFFF;\n",
              "      --disabled-bg-color: #3B4455;\n",
              "      --disabled-fill-color: #666;\n",
              "  }\n",
              "\n",
              "  .colab-df-quickchart {\n",
              "    background-color: var(--bg-color);\n",
              "    border: none;\n",
              "    border-radius: 50%;\n",
              "    cursor: pointer;\n",
              "    display: none;\n",
              "    fill: var(--fill-color);\n",
              "    height: 32px;\n",
              "    padding: 0;\n",
              "    width: 32px;\n",
              "  }\n",
              "\n",
              "  .colab-df-quickchart:hover {\n",
              "    background-color: var(--hover-bg-color);\n",
              "    box-shadow: 0 1px 2px rgba(60, 64, 67, 0.3), 0 1px 3px 1px rgba(60, 64, 67, 0.15);\n",
              "    fill: var(--button-hover-fill-color);\n",
              "  }\n",
              "\n",
              "  .colab-df-quickchart-complete:disabled,\n",
              "  .colab-df-quickchart-complete:disabled:hover {\n",
              "    background-color: var(--disabled-bg-color);\n",
              "    fill: var(--disabled-fill-color);\n",
              "    box-shadow: none;\n",
              "  }\n",
              "\n",
              "  .colab-df-spinner {\n",
              "    border: 2px solid var(--fill-color);\n",
              "    border-color: transparent;\n",
              "    border-bottom-color: var(--fill-color);\n",
              "    animation:\n",
              "      spin 1s steps(1) infinite;\n",
              "  }\n",
              "\n",
              "  @keyframes spin {\n",
              "    0% {\n",
              "      border-color: transparent;\n",
              "      border-bottom-color: var(--fill-color);\n",
              "      border-left-color: var(--fill-color);\n",
              "    }\n",
              "    20% {\n",
              "      border-color: transparent;\n",
              "      border-left-color: var(--fill-color);\n",
              "      border-top-color: var(--fill-color);\n",
              "    }\n",
              "    30% {\n",
              "      border-color: transparent;\n",
              "      border-left-color: var(--fill-color);\n",
              "      border-top-color: var(--fill-color);\n",
              "      border-right-color: var(--fill-color);\n",
              "    }\n",
              "    40% {\n",
              "      border-color: transparent;\n",
              "      border-right-color: var(--fill-color);\n",
              "      border-top-color: var(--fill-color);\n",
              "    }\n",
              "    60% {\n",
              "      border-color: transparent;\n",
              "      border-right-color: var(--fill-color);\n",
              "    }\n",
              "    80% {\n",
              "      border-color: transparent;\n",
              "      border-right-color: var(--fill-color);\n",
              "      border-bottom-color: var(--fill-color);\n",
              "    }\n",
              "    90% {\n",
              "      border-color: transparent;\n",
              "      border-bottom-color: var(--fill-color);\n",
              "    }\n",
              "  }\n",
              "</style>\n",
              "\n",
              "  <script>\n",
              "    async function quickchart(key) {\n",
              "      const quickchartButtonEl =\n",
              "        document.querySelector('#' + key + ' button');\n",
              "      quickchartButtonEl.disabled = true;  // To prevent multiple clicks.\n",
              "      quickchartButtonEl.classList.add('colab-df-spinner');\n",
              "      try {\n",
              "        const charts = await google.colab.kernel.invokeFunction(\n",
              "            'suggestCharts', [key], {});\n",
              "      } catch (error) {\n",
              "        console.error('Error during call to suggestCharts:', error);\n",
              "      }\n",
              "      quickchartButtonEl.classList.remove('colab-df-spinner');\n",
              "      quickchartButtonEl.classList.add('colab-df-quickchart-complete');\n",
              "    }\n",
              "    (() => {\n",
              "      let quickchartButtonEl =\n",
              "        document.querySelector('#df-ff0a5f43-ecde-4114-aacf-dff10be5f3b1 button');\n",
              "      quickchartButtonEl.style.display =\n",
              "        google.colab.kernel.accessAllowed ? 'block' : 'none';\n",
              "    })();\n",
              "  </script>\n",
              "</div>\n",
              "    </div>\n",
              "  </div>\n"
            ],
            "text/plain": [
              "    Income  Limit  Rating  Cards  Age  Education  Own Student Married Region  \\\n",
              "0   14.891   3606     283      2   34         11   No      No     Yes  South   \n",
              "1  106.025   6645     483      3   82         15  Yes     Yes     Yes   West   \n",
              "2  104.593   7075     514      4   71         11   No      No      No   West   \n",
              "3  148.924   9504     681      3   36         11  Yes      No      No   West   \n",
              "4   55.882   4897     357      2   68         16   No      No     Yes  South   \n",
              "\n",
              "   Balance  \n",
              "0      333  \n",
              "1      903  \n",
              "2      580  \n",
              "3      964  \n",
              "4      331  "
            ]
          },
          "execution_count": 3,
          "metadata": {},
          "output_type": "execute_result"
        }
      ],
      "source": [
        "df = pd.read_csv('/content/gdrive/MyDrive/data/DT-Credit.csv')\n",
        "df.head()"
      ]
    },
    {
      "cell_type": "code",
      "execution_count": 4,
      "metadata": {
        "colab": {
          "base_uri": "https://localhost:8080/"
        },
        "id": "ac9QNhaLtiwK",
        "outputId": "d59b795b-8279-4bed-f7e0-fc5a18f04802"
      },
      "outputs": [
        {
          "name": "stdout",
          "output_type": "stream",
          "text": [
            "Shape of the Data:  (400, 11)\n"
          ]
        }
      ],
      "source": [
        "print(\"Shape of the Data: \", df.shape )"
      ]
    },
    {
      "cell_type": "code",
      "execution_count": 5,
      "metadata": {
        "colab": {
          "base_uri": "https://localhost:8080/"
        },
        "id": "YWFaRD5mtit8",
        "outputId": "68e00452-6dfc-4d3f-e9ce-6077d466b729"
      },
      "outputs": [
        {
          "name": "stdout",
          "output_type": "stream",
          "text": [
            "<class 'pandas.core.frame.DataFrame'>\n",
            "RangeIndex: 400 entries, 0 to 399\n",
            "Data columns (total 11 columns):\n",
            " #   Column     Non-Null Count  Dtype  \n",
            "---  ------     --------------  -----  \n",
            " 0   Income     400 non-null    float64\n",
            " 1   Limit      400 non-null    int64  \n",
            " 2   Rating     400 non-null    int64  \n",
            " 3   Cards      400 non-null    int64  \n",
            " 4   Age        400 non-null    int64  \n",
            " 5   Education  400 non-null    int64  \n",
            " 6   Own        400 non-null    object \n",
            " 7   Student    400 non-null    object \n",
            " 8   Married    400 non-null    object \n",
            " 9   Region     400 non-null    object \n",
            " 10  Balance    400 non-null    int64  \n",
            "dtypes: float64(1), int64(6), object(4)\n",
            "memory usage: 34.5+ KB\n"
          ]
        }
      ],
      "source": [
        "df.info()"
      ]
    },
    {
      "cell_type": "code",
      "execution_count": 6,
      "metadata": {
        "colab": {
          "base_uri": "https://localhost:8080/"
        },
        "id": "2JPZgAKvtirj",
        "outputId": "4a2fbea2-b6cf-4dbf-8fc7-a8113e095a02"
      },
      "outputs": [
        {
          "name": "stdout",
          "output_type": "stream",
          "text": [
            "Column 'Income' has 0 null values\n",
            "\n",
            "\n",
            "Column 'Limit' has 0 null values\n",
            "\n",
            "\n",
            "Column 'Rating' has 0 null values\n",
            "\n",
            "\n",
            "Column 'Cards' has 0 null values\n",
            "\n",
            "\n",
            "Column 'Age' has 0 null values\n",
            "\n",
            "\n",
            "Column 'Education' has 0 null values\n",
            "\n",
            "\n",
            "Column 'Own' has 0 null values\n",
            "\n",
            "\n",
            "Column 'Student' has 0 null values\n",
            "\n",
            "\n",
            "Column 'Married' has 0 null values\n",
            "\n",
            "\n",
            "Column 'Region' has 0 null values\n",
            "\n",
            "\n",
            "Column 'Balance' has 0 null values\n",
            "\n",
            "\n"
          ]
        }
      ],
      "source": [
        "for column in df.columns:\n",
        "    total = df[column].isnull().sum()\n",
        "    print(f\"Column '{column}' has {total} null values\")\n",
        "    print(\"\\n\")"
      ]
    },
    {
      "cell_type": "markdown",
      "metadata": {
        "id": "lu-wbY_-wOax"
      },
      "source": [
        "# Label Encoding"
      ]
    },
    {
      "cell_type": "code",
      "execution_count": 7,
      "metadata": {
        "colab": {
          "base_uri": "https://localhost:8080/"
        },
        "id": "kW9PMSEZtipX",
        "outputId": "ec26a100-7601-4113-e2ef-d2e492a97fde"
      },
      "outputs": [
        {
          "name": "stdout",
          "output_type": "stream",
          "text": [
            "Own\n",
            "Yes    207\n",
            "No     193\n",
            "Name: count, dtype: int64\n",
            "\n",
            "============\n",
            "\n",
            "Student\n",
            "No     360\n",
            "Yes     40\n",
            "Name: count, dtype: int64\n",
            "\n",
            "============\n",
            "\n",
            "Married\n",
            "Yes    245\n",
            "No     155\n",
            "Name: count, dtype: int64\n",
            "\n",
            "============\n",
            "\n",
            "Region\n",
            "South    199\n",
            "West     102\n",
            "East      99\n",
            "Name: count, dtype: int64\n"
          ]
        }
      ],
      "source": [
        "print(df['Own'].value_counts())\n",
        "print(\"\\n============\\n\")\n",
        "print(df['Student'].value_counts())\n",
        "print(\"\\n============\\n\")\n",
        "print(df['Married'].value_counts())\n",
        "print(\"\\n============\\n\")\n",
        "print(df['Region'].value_counts())\n"
      ]
    },
    {
      "cell_type": "code",
      "execution_count": 8,
      "metadata": {
        "id": "kVqVI22ztinT"
      },
      "outputs": [],
      "source": [
        "df.Own.replace(('Yes', 'No'), (1, 0), inplace = True)\n",
        "df.Student.replace(('Yes', 'No'), (1, 0), inplace = True)\n",
        "df.Married.replace(('Yes', 'No'), (1, 0), inplace = True)\n",
        "df.Region.replace(('South', 'West', 'East'), (0, 1, 2), inplace = True)\n"
      ]
    },
    {
      "cell_type": "code",
      "execution_count": 9,
      "metadata": {
        "colab": {
          "base_uri": "https://localhost:8080/"
        },
        "id": "4F6e_3RFtik_",
        "outputId": "72657273-0594-4bd7-87aa-1920af7f7be6"
      },
      "outputs": [
        {
          "name": "stdout",
          "output_type": "stream",
          "text": [
            "Own\n",
            "1    207\n",
            "0    193\n",
            "Name: count, dtype: int64\n",
            "\n",
            "============\n",
            "\n",
            "Student\n",
            "0    360\n",
            "1     40\n",
            "Name: count, dtype: int64\n",
            "\n",
            "============\n",
            "\n",
            "Married\n",
            "1    245\n",
            "0    155\n",
            "Name: count, dtype: int64\n",
            "\n",
            "============\n",
            "\n",
            "Region\n",
            "0    199\n",
            "1    102\n",
            "2     99\n",
            "Name: count, dtype: int64\n"
          ]
        }
      ],
      "source": [
        "print(df['Own'].value_counts())\n",
        "print(\"\\n============\\n\")\n",
        "print(df['Student'].value_counts())\n",
        "print(\"\\n============\\n\")\n",
        "print(df['Married'].value_counts())\n",
        "print(\"\\n============\\n\")\n",
        "print(df['Region'].value_counts())\n"
      ]
    },
    {
      "cell_type": "code",
      "execution_count": 10,
      "metadata": {
        "colab": {
          "base_uri": "https://localhost:8080/",
          "height": 0
        },
        "id": "e5z-mRzptiii",
        "outputId": "afa69fd5-bca6-4855-ce94-a7471daaac4f"
      },
      "outputs": [
        {
          "data": {
            "application/vnd.google.colaboratory.intrinsic+json": {
              "summary": "{\n  \"name\": \"df\",\n  \"rows\": 10,\n  \"fields\": [\n    {\n      \"column\": \"Income\",\n      \"properties\": {\n        \"dtype\": \"number\",\n        \"std\": 33.67606520314787,\n        \"min\": 10.503,\n        \"max\": 107.986,\n        \"num_unique_values\": 10,\n        \"samples\": [\n          107.986,\n          11.603,\n          34.537\n        ],\n        \"semantic_type\": \"\",\n        \"description\": \"\"\n      }\n    },\n    {\n      \"column\": \"Limit\",\n      \"properties\": {\n        \"dtype\": \"number\",\n        \"std\": 1692,\n        \"min\": 1134,\n        \"max\": 6033,\n        \"num_unique_values\": 10,\n        \"samples\": [\n          6033,\n          2278,\n          3271\n        ],\n        \"semantic_type\": \"\",\n        \"description\": \"\"\n      }\n    },\n    {\n      \"column\": \"Rating\",\n      \"properties\": {\n        \"dtype\": \"number\",\n        \"std\": 116,\n        \"min\": 112,\n        \"max\": 449,\n        \"num_unique_values\": 10,\n        \"samples\": [\n          449,\n          187,\n          250\n        ],\n        \"semantic_type\": \"\",\n        \"description\": \"\"\n      }\n    },\n    {\n      \"column\": \"Cards\",\n      \"properties\": {\n        \"dtype\": \"number\",\n        \"std\": 0,\n        \"min\": 2,\n        \"max\": 4,\n        \"num_unique_values\": 3,\n        \"samples\": [\n          3,\n          2,\n          4\n        ],\n        \"semantic_type\": \"\",\n        \"description\": \"\"\n      }\n    },\n    {\n      \"column\": \"Age\",\n      \"properties\": {\n        \"dtype\": \"number\",\n        \"std\": 22,\n        \"min\": 25,\n        \"max\": 81,\n        \"num_unique_values\": 9,\n        \"samples\": [\n          64,\n          71,\n          81\n        ],\n        \"semantic_type\": \"\",\n        \"description\": \"\"\n      }\n    },\n    {\n      \"column\": \"Education\",\n      \"properties\": {\n        \"dtype\": \"number\",\n        \"std\": 2,\n        \"min\": 11,\n        \"max\": 19,\n        \"num_unique_values\": 7,\n        \"samples\": [\n          18,\n          11,\n          16\n        ],\n        \"semantic_type\": \"\",\n        \"description\": \"\"\n      }\n    },\n    {\n      \"column\": \"Own\",\n      \"properties\": {\n        \"dtype\": \"number\",\n        \"std\": 0,\n        \"min\": 0,\n        \"max\": 1,\n        \"num_unique_values\": 2,\n        \"samples\": [\n          0,\n          1\n        ],\n        \"semantic_type\": \"\",\n        \"description\": \"\"\n      }\n    },\n    {\n      \"column\": \"Student\",\n      \"properties\": {\n        \"dtype\": \"number\",\n        \"std\": 0,\n        \"min\": 0,\n        \"max\": 0,\n        \"num_unique_values\": 1,\n        \"samples\": [\n          0\n        ],\n        \"semantic_type\": \"\",\n        \"description\": \"\"\n      }\n    },\n    {\n      \"column\": \"Married\",\n      \"properties\": {\n        \"dtype\": \"number\",\n        \"std\": 0,\n        \"min\": 0,\n        \"max\": 1,\n        \"num_unique_values\": 2,\n        \"samples\": [\n          0\n        ],\n        \"semantic_type\": \"\",\n        \"description\": \"\"\n      }\n    },\n    {\n      \"column\": \"Region\",\n      \"properties\": {\n        \"dtype\": \"number\",\n        \"std\": 0,\n        \"min\": 0,\n        \"max\": 2,\n        \"num_unique_values\": 3,\n        \"samples\": [\n          2\n        ],\n        \"semantic_type\": \"\",\n        \"description\": \"\"\n      }\n    },\n    {\n      \"column\": \"Balance\",\n      \"properties\": {\n        \"dtype\": \"number\",\n        \"std\": 291,\n        \"min\": 0,\n        \"max\": 942,\n        \"num_unique_values\": 6,\n        \"samples\": [\n          191\n        ],\n        \"semantic_type\": \"\",\n        \"description\": \"\"\n      }\n    }\n  ]\n}",
              "type": "dataframe"
            },
            "text/html": [
              "\n",
              "  <div id=\"df-c12ef47a-ed43-4229-b1f9-6360af6d2849\" class=\"colab-df-container\">\n",
              "    <div>\n",
              "<style scoped>\n",
              "    .dataframe tbody tr th:only-of-type {\n",
              "        vertical-align: middle;\n",
              "    }\n",
              "\n",
              "    .dataframe tbody tr th {\n",
              "        vertical-align: top;\n",
              "    }\n",
              "\n",
              "    .dataframe thead th {\n",
              "        text-align: right;\n",
              "    }\n",
              "</style>\n",
              "<table border=\"1\" class=\"dataframe\">\n",
              "  <thead>\n",
              "    <tr style=\"text-align: right;\">\n",
              "      <th></th>\n",
              "      <th>Income</th>\n",
              "      <th>Limit</th>\n",
              "      <th>Rating</th>\n",
              "      <th>Cards</th>\n",
              "      <th>Age</th>\n",
              "      <th>Education</th>\n",
              "      <th>Own</th>\n",
              "      <th>Student</th>\n",
              "      <th>Married</th>\n",
              "      <th>Region</th>\n",
              "      <th>Balance</th>\n",
              "    </tr>\n",
              "  </thead>\n",
              "  <tbody>\n",
              "    <tr>\n",
              "      <th>235</th>\n",
              "      <td>10.503</td>\n",
              "      <td>2923</td>\n",
              "      <td>232</td>\n",
              "      <td>3</td>\n",
              "      <td>25</td>\n",
              "      <td>18</td>\n",
              "      <td>1</td>\n",
              "      <td>0</td>\n",
              "      <td>1</td>\n",
              "      <td>2</td>\n",
              "      <td>191</td>\n",
              "    </tr>\n",
              "    <tr>\n",
              "      <th>233</th>\n",
              "      <td>11.603</td>\n",
              "      <td>2278</td>\n",
              "      <td>187</td>\n",
              "      <td>3</td>\n",
              "      <td>71</td>\n",
              "      <td>11</td>\n",
              "      <td>0</td>\n",
              "      <td>0</td>\n",
              "      <td>1</td>\n",
              "      <td>0</td>\n",
              "      <td>0</td>\n",
              "    </tr>\n",
              "    <tr>\n",
              "      <th>215</th>\n",
              "      <td>41.025</td>\n",
              "      <td>4229</td>\n",
              "      <td>337</td>\n",
              "      <td>3</td>\n",
              "      <td>79</td>\n",
              "      <td>19</td>\n",
              "      <td>1</td>\n",
              "      <td>0</td>\n",
              "      <td>1</td>\n",
              "      <td>0</td>\n",
              "      <td>246</td>\n",
              "    </tr>\n",
              "    <tr>\n",
              "      <th>153</th>\n",
              "      <td>92.112</td>\n",
              "      <td>4612</td>\n",
              "      <td>344</td>\n",
              "      <td>3</td>\n",
              "      <td>32</td>\n",
              "      <td>17</td>\n",
              "      <td>0</td>\n",
              "      <td>0</td>\n",
              "      <td>0</td>\n",
              "      <td>0</td>\n",
              "      <td>0</td>\n",
              "    </tr>\n",
              "    <tr>\n",
              "      <th>64</th>\n",
              "      <td>32.164</td>\n",
              "      <td>2937</td>\n",
              "      <td>223</td>\n",
              "      <td>2</td>\n",
              "      <td>79</td>\n",
              "      <td>15</td>\n",
              "      <td>1</td>\n",
              "      <td>0</td>\n",
              "      <td>1</td>\n",
              "      <td>2</td>\n",
              "      <td>0</td>\n",
              "    </tr>\n",
              "    <tr>\n",
              "      <th>110</th>\n",
              "      <td>34.537</td>\n",
              "      <td>3271</td>\n",
              "      <td>250</td>\n",
              "      <td>3</td>\n",
              "      <td>57</td>\n",
              "      <td>17</td>\n",
              "      <td>1</td>\n",
              "      <td>0</td>\n",
              "      <td>1</td>\n",
              "      <td>1</td>\n",
              "      <td>47</td>\n",
              "    </tr>\n",
              "    <tr>\n",
              "      <th>119</th>\n",
              "      <td>23.012</td>\n",
              "      <td>1410</td>\n",
              "      <td>137</td>\n",
              "      <td>3</td>\n",
              "      <td>81</td>\n",
              "      <td>16</td>\n",
              "      <td>0</td>\n",
              "      <td>0</td>\n",
              "      <td>0</td>\n",
              "      <td>0</td>\n",
              "      <td>0</td>\n",
              "    </tr>\n",
              "    <tr>\n",
              "      <th>348</th>\n",
              "      <td>13.433</td>\n",
              "      <td>1134</td>\n",
              "      <td>112</td>\n",
              "      <td>3</td>\n",
              "      <td>70</td>\n",
              "      <td>14</td>\n",
              "      <td>0</td>\n",
              "      <td>0</td>\n",
              "      <td>1</td>\n",
              "      <td>0</td>\n",
              "      <td>0</td>\n",
              "    </tr>\n",
              "    <tr>\n",
              "      <th>108</th>\n",
              "      <td>107.986</td>\n",
              "      <td>6033</td>\n",
              "      <td>449</td>\n",
              "      <td>4</td>\n",
              "      <td>64</td>\n",
              "      <td>14</td>\n",
              "      <td>0</td>\n",
              "      <td>0</td>\n",
              "      <td>1</td>\n",
              "      <td>0</td>\n",
              "      <td>227</td>\n",
              "    </tr>\n",
              "    <tr>\n",
              "      <th>267</th>\n",
              "      <td>29.638</td>\n",
              "      <td>5833</td>\n",
              "      <td>433</td>\n",
              "      <td>3</td>\n",
              "      <td>29</td>\n",
              "      <td>15</td>\n",
              "      <td>1</td>\n",
              "      <td>0</td>\n",
              "      <td>1</td>\n",
              "      <td>1</td>\n",
              "      <td>942</td>\n",
              "    </tr>\n",
              "  </tbody>\n",
              "</table>\n",
              "</div>\n",
              "    <div class=\"colab-df-buttons\">\n",
              "\n",
              "  <div class=\"colab-df-container\">\n",
              "    <button class=\"colab-df-convert\" onclick=\"convertToInteractive('df-c12ef47a-ed43-4229-b1f9-6360af6d2849')\"\n",
              "            title=\"Convert this dataframe to an interactive table.\"\n",
              "            style=\"display:none;\">\n",
              "\n",
              "  <svg xmlns=\"http://www.w3.org/2000/svg\" height=\"24px\" viewBox=\"0 -960 960 960\">\n",
              "    <path d=\"M120-120v-720h720v720H120Zm60-500h600v-160H180v160Zm220 220h160v-160H400v160Zm0 220h160v-160H400v160ZM180-400h160v-160H180v160Zm440 0h160v-160H620v160ZM180-180h160v-160H180v160Zm440 0h160v-160H620v160Z\"/>\n",
              "  </svg>\n",
              "    </button>\n",
              "\n",
              "  <style>\n",
              "    .colab-df-container {\n",
              "      display:flex;\n",
              "      gap: 12px;\n",
              "    }\n",
              "\n",
              "    .colab-df-convert {\n",
              "      background-color: #E8F0FE;\n",
              "      border: none;\n",
              "      border-radius: 50%;\n",
              "      cursor: pointer;\n",
              "      display: none;\n",
              "      fill: #1967D2;\n",
              "      height: 32px;\n",
              "      padding: 0 0 0 0;\n",
              "      width: 32px;\n",
              "    }\n",
              "\n",
              "    .colab-df-convert:hover {\n",
              "      background-color: #E2EBFA;\n",
              "      box-shadow: 0px 1px 2px rgba(60, 64, 67, 0.3), 0px 1px 3px 1px rgba(60, 64, 67, 0.15);\n",
              "      fill: #174EA6;\n",
              "    }\n",
              "\n",
              "    .colab-df-buttons div {\n",
              "      margin-bottom: 4px;\n",
              "    }\n",
              "\n",
              "    [theme=dark] .colab-df-convert {\n",
              "      background-color: #3B4455;\n",
              "      fill: #D2E3FC;\n",
              "    }\n",
              "\n",
              "    [theme=dark] .colab-df-convert:hover {\n",
              "      background-color: #434B5C;\n",
              "      box-shadow: 0px 1px 3px 1px rgba(0, 0, 0, 0.15);\n",
              "      filter: drop-shadow(0px 1px 2px rgba(0, 0, 0, 0.3));\n",
              "      fill: #FFFFFF;\n",
              "    }\n",
              "  </style>\n",
              "\n",
              "    <script>\n",
              "      const buttonEl =\n",
              "        document.querySelector('#df-c12ef47a-ed43-4229-b1f9-6360af6d2849 button.colab-df-convert');\n",
              "      buttonEl.style.display =\n",
              "        google.colab.kernel.accessAllowed ? 'block' : 'none';\n",
              "\n",
              "      async function convertToInteractive(key) {\n",
              "        const element = document.querySelector('#df-c12ef47a-ed43-4229-b1f9-6360af6d2849');\n",
              "        const dataTable =\n",
              "          await google.colab.kernel.invokeFunction('convertToInteractive',\n",
              "                                                    [key], {});\n",
              "        if (!dataTable) return;\n",
              "\n",
              "        const docLinkHtml = 'Like what you see? Visit the ' +\n",
              "          '<a target=\"_blank\" href=https://colab.research.google.com/notebooks/data_table.ipynb>data table notebook</a>'\n",
              "          + ' to learn more about interactive tables.';\n",
              "        element.innerHTML = '';\n",
              "        dataTable['output_type'] = 'display_data';\n",
              "        await google.colab.output.renderOutput(dataTable, element);\n",
              "        const docLink = document.createElement('div');\n",
              "        docLink.innerHTML = docLinkHtml;\n",
              "        element.appendChild(docLink);\n",
              "      }\n",
              "    </script>\n",
              "  </div>\n",
              "\n",
              "\n",
              "<div id=\"df-b9070bf0-78cf-4a8a-a396-7323cf8abfc5\">\n",
              "  <button class=\"colab-df-quickchart\" onclick=\"quickchart('df-b9070bf0-78cf-4a8a-a396-7323cf8abfc5')\"\n",
              "            title=\"Suggest charts\"\n",
              "            style=\"display:none;\">\n",
              "\n",
              "<svg xmlns=\"http://www.w3.org/2000/svg\" height=\"24px\"viewBox=\"0 0 24 24\"\n",
              "     width=\"24px\">\n",
              "    <g>\n",
              "        <path d=\"M19 3H5c-1.1 0-2 .9-2 2v14c0 1.1.9 2 2 2h14c1.1 0 2-.9 2-2V5c0-1.1-.9-2-2-2zM9 17H7v-7h2v7zm4 0h-2V7h2v10zm4 0h-2v-4h2v4z\"/>\n",
              "    </g>\n",
              "</svg>\n",
              "  </button>\n",
              "\n",
              "<style>\n",
              "  .colab-df-quickchart {\n",
              "      --bg-color: #E8F0FE;\n",
              "      --fill-color: #1967D2;\n",
              "      --hover-bg-color: #E2EBFA;\n",
              "      --hover-fill-color: #174EA6;\n",
              "      --disabled-fill-color: #AAA;\n",
              "      --disabled-bg-color: #DDD;\n",
              "  }\n",
              "\n",
              "  [theme=dark] .colab-df-quickchart {\n",
              "      --bg-color: #3B4455;\n",
              "      --fill-color: #D2E3FC;\n",
              "      --hover-bg-color: #434B5C;\n",
              "      --hover-fill-color: #FFFFFF;\n",
              "      --disabled-bg-color: #3B4455;\n",
              "      --disabled-fill-color: #666;\n",
              "  }\n",
              "\n",
              "  .colab-df-quickchart {\n",
              "    background-color: var(--bg-color);\n",
              "    border: none;\n",
              "    border-radius: 50%;\n",
              "    cursor: pointer;\n",
              "    display: none;\n",
              "    fill: var(--fill-color);\n",
              "    height: 32px;\n",
              "    padding: 0;\n",
              "    width: 32px;\n",
              "  }\n",
              "\n",
              "  .colab-df-quickchart:hover {\n",
              "    background-color: var(--hover-bg-color);\n",
              "    box-shadow: 0 1px 2px rgba(60, 64, 67, 0.3), 0 1px 3px 1px rgba(60, 64, 67, 0.15);\n",
              "    fill: var(--button-hover-fill-color);\n",
              "  }\n",
              "\n",
              "  .colab-df-quickchart-complete:disabled,\n",
              "  .colab-df-quickchart-complete:disabled:hover {\n",
              "    background-color: var(--disabled-bg-color);\n",
              "    fill: var(--disabled-fill-color);\n",
              "    box-shadow: none;\n",
              "  }\n",
              "\n",
              "  .colab-df-spinner {\n",
              "    border: 2px solid var(--fill-color);\n",
              "    border-color: transparent;\n",
              "    border-bottom-color: var(--fill-color);\n",
              "    animation:\n",
              "      spin 1s steps(1) infinite;\n",
              "  }\n",
              "\n",
              "  @keyframes spin {\n",
              "    0% {\n",
              "      border-color: transparent;\n",
              "      border-bottom-color: var(--fill-color);\n",
              "      border-left-color: var(--fill-color);\n",
              "    }\n",
              "    20% {\n",
              "      border-color: transparent;\n",
              "      border-left-color: var(--fill-color);\n",
              "      border-top-color: var(--fill-color);\n",
              "    }\n",
              "    30% {\n",
              "      border-color: transparent;\n",
              "      border-left-color: var(--fill-color);\n",
              "      border-top-color: var(--fill-color);\n",
              "      border-right-color: var(--fill-color);\n",
              "    }\n",
              "    40% {\n",
              "      border-color: transparent;\n",
              "      border-right-color: var(--fill-color);\n",
              "      border-top-color: var(--fill-color);\n",
              "    }\n",
              "    60% {\n",
              "      border-color: transparent;\n",
              "      border-right-color: var(--fill-color);\n",
              "    }\n",
              "    80% {\n",
              "      border-color: transparent;\n",
              "      border-right-color: var(--fill-color);\n",
              "      border-bottom-color: var(--fill-color);\n",
              "    }\n",
              "    90% {\n",
              "      border-color: transparent;\n",
              "      border-bottom-color: var(--fill-color);\n",
              "    }\n",
              "  }\n",
              "</style>\n",
              "\n",
              "  <script>\n",
              "    async function quickchart(key) {\n",
              "      const quickchartButtonEl =\n",
              "        document.querySelector('#' + key + ' button');\n",
              "      quickchartButtonEl.disabled = true;  // To prevent multiple clicks.\n",
              "      quickchartButtonEl.classList.add('colab-df-spinner');\n",
              "      try {\n",
              "        const charts = await google.colab.kernel.invokeFunction(\n",
              "            'suggestCharts', [key], {});\n",
              "      } catch (error) {\n",
              "        console.error('Error during call to suggestCharts:', error);\n",
              "      }\n",
              "      quickchartButtonEl.classList.remove('colab-df-spinner');\n",
              "      quickchartButtonEl.classList.add('colab-df-quickchart-complete');\n",
              "    }\n",
              "    (() => {\n",
              "      let quickchartButtonEl =\n",
              "        document.querySelector('#df-b9070bf0-78cf-4a8a-a396-7323cf8abfc5 button');\n",
              "      quickchartButtonEl.style.display =\n",
              "        google.colab.kernel.accessAllowed ? 'block' : 'none';\n",
              "    })();\n",
              "  </script>\n",
              "</div>\n",
              "    </div>\n",
              "  </div>\n"
            ],
            "text/plain": [
              "      Income  Limit  Rating  Cards  Age  Education  Own  Student  Married  \\\n",
              "235   10.503   2923     232      3   25         18    1        0        1   \n",
              "233   11.603   2278     187      3   71         11    0        0        1   \n",
              "215   41.025   4229     337      3   79         19    1        0        1   \n",
              "153   92.112   4612     344      3   32         17    0        0        0   \n",
              "64    32.164   2937     223      2   79         15    1        0        1   \n",
              "110   34.537   3271     250      3   57         17    1        0        1   \n",
              "119   23.012   1410     137      3   81         16    0        0        0   \n",
              "348   13.433   1134     112      3   70         14    0        0        1   \n",
              "108  107.986   6033     449      4   64         14    0        0        1   \n",
              "267   29.638   5833     433      3   29         15    1        0        1   \n",
              "\n",
              "     Region  Balance  \n",
              "235       2      191  \n",
              "233       0        0  \n",
              "215       0      246  \n",
              "153       0        0  \n",
              "64        2        0  \n",
              "110       1       47  \n",
              "119       0        0  \n",
              "348       0        0  \n",
              "108       0      227  \n",
              "267       1      942  "
            ]
          },
          "execution_count": 10,
          "metadata": {},
          "output_type": "execute_result"
        }
      ],
      "source": [
        "df.sample(10)"
      ]
    },
    {
      "cell_type": "code",
      "execution_count": 11,
      "metadata": {
        "colab": {
          "base_uri": "https://localhost:8080/"
        },
        "id": "SjYC0ua_tif_",
        "outputId": "f7df3cad-5b7b-42cc-8f89-d70c8c267bfe"
      },
      "outputs": [
        {
          "name": "stdout",
          "output_type": "stream",
          "text": [
            "0\n"
          ]
        }
      ],
      "source": [
        "print(df.columns.isnull().sum())"
      ]
    },
    {
      "cell_type": "markdown",
      "metadata": {
        "id": "1cRJqiZpxtau"
      },
      "source": [
        "# Train Test Split"
      ]
    },
    {
      "cell_type": "code",
      "execution_count": 12,
      "metadata": {
        "colab": {
          "base_uri": "https://localhost:8080/"
        },
        "id": "H6HxIHtatibb",
        "outputId": "9d1493cd-f12f-4754-9807-3001f3a1a1d5"
      },
      "outputs": [
        {
          "data": {
            "text/plain": [
              "(400, 11)"
            ]
          },
          "execution_count": 12,
          "metadata": {},
          "output_type": "execute_result"
        }
      ],
      "source": [
        "df.shape"
      ]
    },
    {
      "cell_type": "code",
      "execution_count": 13,
      "metadata": {
        "colab": {
          "base_uri": "https://localhost:8080/"
        },
        "id": "WSbtQkxwtiZF",
        "outputId": "e3475c11-a8b0-40bd-8049-581daef2ef7f"
      },
      "outputs": [
        {
          "name": "stdout",
          "output_type": "stream",
          "text": [
            "Shape of x:  (400, 10)\n",
            "Shape of y:  (400,)\n"
          ]
        }
      ],
      "source": [
        "X = df.iloc[:,:10]\n",
        "y = df.iloc[:, 10]\n",
        "\n",
        "print(\"Shape of x: \", X.shape)\n",
        "print(\"Shape of y: \", y.shape)"
      ]
    },
    {
      "cell_type": "code",
      "execution_count": 14,
      "metadata": {
        "id": "5h65SZnftiW7"
      },
      "outputs": [],
      "source": [
        "X_train, X_temp, y_train, y_temp = train_test_split(X, y, test_size=0.3, random_state=42)\n",
        "X_val, X_test, y_val, y_test = train_test_split(X_temp, y_temp, test_size=0.5, random_state=42)"
      ]
    },
    {
      "cell_type": "code",
      "execution_count": 15,
      "metadata": {
        "colab": {
          "base_uri": "https://localhost:8080/"
        },
        "id": "GdDE52jQtiUy",
        "outputId": "47f337a9-2336-4970-fa94-aee81cfa7cb3"
      },
      "outputs": [
        {
          "name": "stdout",
          "output_type": "stream",
          "text": [
            "Shape of X_train:  (280, 10)\n",
            "Shape of X_val:  (60, 10)\n",
            "Shape of X_test:  (60, 10)\n",
            "Shape of y_train:  (280,)\n",
            "shape of y_val:  (60,)\n",
            "shape of y_test:  (60,)\n"
          ]
        }
      ],
      "source": [
        "print(\"Shape of X_train: \", X_train.shape)\n",
        "print(\"Shape of X_val: \", X_val.shape)\n",
        "print(\"Shape of X_test: \", X_test.shape)\n",
        "print(\"Shape of y_train: \", y_train.shape)\n",
        "print(\"shape of y_val: \", y_val.shape)\n",
        "print(\"shape of y_test: \", y_test.shape)"
      ]
    },
    {
      "cell_type": "markdown",
      "metadata": {
        "id": "5jlimFBIyFH7"
      },
      "source": [
        "# Scaling"
      ]
    },
    {
      "cell_type": "code",
      "execution_count": 16,
      "metadata": {
        "id": "xkuFI_ZftiSu"
      },
      "outputs": [],
      "source": [
        "\n",
        "from sklearn.preprocessing import StandardScaler\n",
        "scaler = StandardScaler()\n",
        "X_train_scaled = scaler.fit_transform(X_train)\n",
        "X_val_scaled = scaler.transform(X_val)\n",
        "X_test_scaled = scaler.transform(X_test)\n"
      ]
    },
    {
      "cell_type": "markdown",
      "metadata": {
        "id": "CSTsVA8KVHq5"
      },
      "source": [
        "# MSE function"
      ]
    },
    {
      "cell_type": "code",
      "execution_count": 17,
      "metadata": {
        "id": "BYgNU7N7VG9K"
      },
      "outputs": [],
      "source": [
        "import numpy as np\n",
        "def calculate_mse(y_true, y_pred):\n",
        "      mse = np.mean((y_true - y_pred) ** 2)\n",
        "      return mse"
      ]
    },
    {
      "cell_type": "markdown",
      "metadata": {
        "id": "lTDfJ5BsVbLu"
      },
      "source": [
        "# Hyperparameter tuning using validation set for Decision Tree"
      ]
    },
    {
      "cell_type": "code",
      "execution_count": 20,
      "metadata": {
        "colab": {
          "base_uri": "https://localhost:8080/"
        },
        "id": "L22UDIFVtiOj",
        "outputId": "e2f31790-fc3c-40c6-c642-b7a13ebafc68"
      },
      "outputs": [
        {
          "name": "stdout",
          "output_type": "stream",
          "text": [
            "Kernel=linear, C=0.1, MSE=187990.74289002657\n",
            "Kernel=linear, C=1, MSE=61653.044658898834\n",
            "Kernel=linear, C=10, MSE=10945.229594997983\n",
            "Kernel=linear, C=100, MSE=13192.205659359219\n",
            "Kernel=rbf, C=0.1, MSE=221248.8812902783\n",
            "Kernel=rbf, C=1, MSE=212651.7982807983\n",
            "Kernel=rbf, C=10, MSE=147056.81776599013\n",
            "Kernel=rbf, C=100, MSE=28681.960294088534\n",
            "Kernel=poly, Degree=2, C=0.1, MSE=221723.7245984064\n",
            "Kernel=poly, Degree=2, C=1, MSE=217714.94070214865\n",
            "Kernel=poly, Degree=2, C=10, MSE=203806.1314910725\n",
            "Kernel=poly, Degree=2, C=100, MSE=225142.17483767963\n",
            "Kernel=poly, Degree=3, C=0.1, MSE=218381.4726442229\n",
            "Kernel=poly, Degree=3, C=1, MSE=190384.0575217857\n",
            "Kernel=poly, Degree=3, C=10, MSE=137090.0422094773\n",
            "Kernel=poly, Degree=3, C=100, MSE=51767.848153671024\n",
            "Kernel=poly, Degree=4, C=0.1, MSE=217294.15071696002\n",
            "Kernel=poly, Degree=4, C=1, MSE=195760.330376144\n",
            "Kernel=poly, Degree=4, C=10, MSE=187305.8790835474\n",
            "Kernel=poly, Degree=4, C=100, MSE=177249.67982935268\n",
            "Best Kernel for SVR: linear\n",
            "Best C for SVR: 10\n",
            "Best validation MSE for SVR: 10945.229594997983\n"
          ]
        }
      ],
      "source": [
        "from sklearn.svm import SVR\n",
        "\n",
        "best_mse = float('inf')\n",
        "best_c = 0\n",
        "best_kernel = ''\n",
        "best_degree = 0\n",
        "\n",
        "C_values = [0.1, 1, 10, 100]\n",
        "kernel_values = ['linear', 'rbf', 'poly']\n",
        "degree_values = [2, 3, 4]\n",
        "\n",
        "for kernel in kernel_values:\n",
        "    if kernel == 'poly':\n",
        "        for degree in degree_values:\n",
        "            for C in C_values:\n",
        "                svr_regressor = SVR(C=C, kernel=kernel, degree=degree)\n",
        "                svr_regressor.fit(X_train_scaled, y_train)\n",
        "                y_val_pred_svr = svr_regressor.predict(X_val_scaled)\n",
        "                mse = calculate_mse(y_val, y_val_pred_svr)\n",
        "                print(f\"Kernel={kernel}, Degree={degree}, C={C}, MSE={mse}\")\n",
        "                if mse < best_mse:\n",
        "                    best_mse = mse\n",
        "                    best_c = C\n",
        "                    best_kernel = kernel\n",
        "                    best_degree = degree\n",
        "    else:\n",
        "        for C in C_values:\n",
        "            svr_regressor = SVR(C=C, kernel=kernel)\n",
        "            svr_regressor.fit(X_train_scaled, y_train)\n",
        "            y_val_pred_svr = svr_regressor.predict(X_val_scaled)\n",
        "            mse = calculate_mse(y_val, y_val_pred_svr)\n",
        "            print(f\"Kernel={kernel}, C={C}, MSE={mse}\")\n",
        "            if mse < best_mse:\n",
        "                best_mse = mse\n",
        "                best_c = C\n",
        "                best_kernel = kernel\n",
        "\n",
        "print(\"Best Kernel for SVR:\", best_kernel)\n",
        "print(\"Best Degree for SVR:\", best_degree) if best_kernel == 'poly' else None\n",
        "print(\"Best C for SVR:\", best_c)\n",
        "print(\"Best validation MSE for SVR:\", best_mse)\n"
      ]
    },
    {
      "cell_type": "code",
      "execution_count": 22,
      "metadata": {
        "colab": {
          "base_uri": "https://localhost:8080/"
        },
        "id": "Fxr5tNqSpija",
        "outputId": "6f03d835-9e66-43af-c286-7b3071e69c89"
      },
      "outputs": [
        {
          "name": "stdout",
          "output_type": "stream",
          "text": [
            "Test MSE for SVR: 12033.412463087958\n"
          ]
        }
      ],
      "source": [
        "best_svr_model = SVR(C=best_c, kernel=best_kernel)\n",
        "if best_kernel == 'poly':\n",
        "    best_svr_model.degree = best_degree\n",
        "best_svr_model.fit(X_train_scaled, y_train)\n",
        "\n",
        "# Make predictions on the test set\n",
        "y_test_pred_svr = best_svr_model.predict(X_test_scaled)\n",
        "\n",
        "# Calculate MSE on the test set\n",
        "test_mse = calculate_mse(y_test, y_test_pred_svr)\n",
        "print(\"Test MSE for SVR:\", test_mse)"
      ]
    },
    {
      "cell_type": "markdown",
      "metadata": {
        "id": "wKGGnDzWo7ov"
      },
      "source": [
        "# Export datsaet"
      ]
    },
    {
      "cell_type": "code",
      "execution_count": 21,
      "metadata": {
        "id": "ZL6O1IcSo9m0"
      },
      "outputs": [],
      "source": [
        "file_path = '/content/gdrive/MyDrive/data/Assignment5_processed_dataset_DT_credit.xlsx'\n",
        "df.to_excel(file_path, index=False)"
      ]
    }
  ],
  "metadata": {
    "colab": {
      "provenance": []
    },
    "kernelspec": {
      "display_name": "Python 3",
      "name": "python3"
    },
    "language_info": {
      "name": "python"
    }
  },
  "nbformat": 4,
  "nbformat_minor": 0
}
