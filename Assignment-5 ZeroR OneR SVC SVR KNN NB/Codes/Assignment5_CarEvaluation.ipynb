{
  "nbformat": 4,
  "nbformat_minor": 0,
  "metadata": {
    "colab": {
      "provenance": [],
      "collapsed_sections": [
        "qbP-xjmONja9",
        "7hz2N-tr62zo",
        "UxRsznf94OrX",
        "KVb30_VMJJAX",
        "CtT3L3Y0nLuD",
        "g0-KpGotnOaI",
        "Df5QnsI9Zc9n",
        "LBPHaW-WZkfJ",
        "exhPRWVNct6j",
        "tIkucCwbcYXT"
      ]
    },
    "kernelspec": {
      "name": "python3",
      "display_name": "Python 3"
    }
  },
  "cells": [
    {
      "cell_type": "code",
      "source": [
        "''''Assignment #5\n",
        "Rezwan-Ul-Alam (ID: 2011659042)\n",
        "Md. Nur Alam Jowel (ID: 2012355042)\n",
        "Raian Ruku (ID: 2013409642)'''"
      ],
      "metadata": {
        "id": "8YgVCV9Z3vnz"
      },
      "execution_count": null,
      "outputs": []
    },
    {
      "cell_type": "code",
      "source": [
        "from google.colab import drive"
      ],
      "metadata": {
        "id": "mtfvz65o3MTg"
      },
      "execution_count": 1,
      "outputs": []
    },
    {
      "cell_type": "code",
      "source": [
        "drive.mount('/content/gdrive')"
      ],
      "metadata": {
        "colab": {
          "base_uri": "https://localhost:8080/"
        },
        "id": "5iiqwv6d3fNu",
        "outputId": "ed932e9c-e1fb-4c16-cbe0-41512e6e08c8"
      },
      "execution_count": 3,
      "outputs": [
        {
          "output_type": "stream",
          "name": "stdout",
          "text": [
            "Mounted at /content/gdrive\n"
          ]
        }
      ]
    },
    {
      "metadata": {
        "id": "u3rIkXy8wJQg"
      },
      "cell_type": "code",
      "source": [
        "import numpy as np\n",
        "import pandas as pd\n",
        "from sklearn.model_selection import train_test_split\n",
        "from sklearn.metrics import accuracy_score\n"
      ],
      "execution_count": 4,
      "outputs": []
    },
    {
      "metadata": {
        "id": "qbP-xjmONja9"
      },
      "cell_type": "markdown",
      "source": [
        "# Data Visualization"
      ]
    },
    {
      "metadata": {
        "id": "VFpfrCsmzV2J",
        "outputId": "1d4699b5-9f31-426a-8efc-e66d678d5768",
        "colab": {
          "base_uri": "https://localhost:8080/",
          "height": 206
        }
      },
      "cell_type": "code",
      "source": [
        "data = pd.read_csv('/content/gdrive/MyDrive/data/car.csv', header = None)\n",
        "data.head()\n"
      ],
      "execution_count": 5,
      "outputs": [
        {
          "output_type": "execute_result",
          "data": {
            "text/plain": [
              "       0      1  2  3      4     5      6\n",
              "0  vhigh  vhigh  2  2  small   low  unacc\n",
              "1  vhigh  vhigh  2  2  small   med  unacc\n",
              "2  vhigh  vhigh  2  2  small  high  unacc\n",
              "3  vhigh  vhigh  2  2    med   low  unacc\n",
              "4  vhigh  vhigh  2  2    med   med  unacc"
            ],
            "text/html": [
              "\n",
              "  <div id=\"df-4bef28cb-f4c1-4cab-ab10-890153d8ce2f\" class=\"colab-df-container\">\n",
              "    <div>\n",
              "<style scoped>\n",
              "    .dataframe tbody tr th:only-of-type {\n",
              "        vertical-align: middle;\n",
              "    }\n",
              "\n",
              "    .dataframe tbody tr th {\n",
              "        vertical-align: top;\n",
              "    }\n",
              "\n",
              "    .dataframe thead th {\n",
              "        text-align: right;\n",
              "    }\n",
              "</style>\n",
              "<table border=\"1\" class=\"dataframe\">\n",
              "  <thead>\n",
              "    <tr style=\"text-align: right;\">\n",
              "      <th></th>\n",
              "      <th>0</th>\n",
              "      <th>1</th>\n",
              "      <th>2</th>\n",
              "      <th>3</th>\n",
              "      <th>4</th>\n",
              "      <th>5</th>\n",
              "      <th>6</th>\n",
              "    </tr>\n",
              "  </thead>\n",
              "  <tbody>\n",
              "    <tr>\n",
              "      <th>0</th>\n",
              "      <td>vhigh</td>\n",
              "      <td>vhigh</td>\n",
              "      <td>2</td>\n",
              "      <td>2</td>\n",
              "      <td>small</td>\n",
              "      <td>low</td>\n",
              "      <td>unacc</td>\n",
              "    </tr>\n",
              "    <tr>\n",
              "      <th>1</th>\n",
              "      <td>vhigh</td>\n",
              "      <td>vhigh</td>\n",
              "      <td>2</td>\n",
              "      <td>2</td>\n",
              "      <td>small</td>\n",
              "      <td>med</td>\n",
              "      <td>unacc</td>\n",
              "    </tr>\n",
              "    <tr>\n",
              "      <th>2</th>\n",
              "      <td>vhigh</td>\n",
              "      <td>vhigh</td>\n",
              "      <td>2</td>\n",
              "      <td>2</td>\n",
              "      <td>small</td>\n",
              "      <td>high</td>\n",
              "      <td>unacc</td>\n",
              "    </tr>\n",
              "    <tr>\n",
              "      <th>3</th>\n",
              "      <td>vhigh</td>\n",
              "      <td>vhigh</td>\n",
              "      <td>2</td>\n",
              "      <td>2</td>\n",
              "      <td>med</td>\n",
              "      <td>low</td>\n",
              "      <td>unacc</td>\n",
              "    </tr>\n",
              "    <tr>\n",
              "      <th>4</th>\n",
              "      <td>vhigh</td>\n",
              "      <td>vhigh</td>\n",
              "      <td>2</td>\n",
              "      <td>2</td>\n",
              "      <td>med</td>\n",
              "      <td>med</td>\n",
              "      <td>unacc</td>\n",
              "    </tr>\n",
              "  </tbody>\n",
              "</table>\n",
              "</div>\n",
              "    <div class=\"colab-df-buttons\">\n",
              "\n",
              "  <div class=\"colab-df-container\">\n",
              "    <button class=\"colab-df-convert\" onclick=\"convertToInteractive('df-4bef28cb-f4c1-4cab-ab10-890153d8ce2f')\"\n",
              "            title=\"Convert this dataframe to an interactive table.\"\n",
              "            style=\"display:none;\">\n",
              "\n",
              "  <svg xmlns=\"http://www.w3.org/2000/svg\" height=\"24px\" viewBox=\"0 -960 960 960\">\n",
              "    <path d=\"M120-120v-720h720v720H120Zm60-500h600v-160H180v160Zm220 220h160v-160H400v160Zm0 220h160v-160H400v160ZM180-400h160v-160H180v160Zm440 0h160v-160H620v160ZM180-180h160v-160H180v160Zm440 0h160v-160H620v160Z\"/>\n",
              "  </svg>\n",
              "    </button>\n",
              "\n",
              "  <style>\n",
              "    .colab-df-container {\n",
              "      display:flex;\n",
              "      gap: 12px;\n",
              "    }\n",
              "\n",
              "    .colab-df-convert {\n",
              "      background-color: #E8F0FE;\n",
              "      border: none;\n",
              "      border-radius: 50%;\n",
              "      cursor: pointer;\n",
              "      display: none;\n",
              "      fill: #1967D2;\n",
              "      height: 32px;\n",
              "      padding: 0 0 0 0;\n",
              "      width: 32px;\n",
              "    }\n",
              "\n",
              "    .colab-df-convert:hover {\n",
              "      background-color: #E2EBFA;\n",
              "      box-shadow: 0px 1px 2px rgba(60, 64, 67, 0.3), 0px 1px 3px 1px rgba(60, 64, 67, 0.15);\n",
              "      fill: #174EA6;\n",
              "    }\n",
              "\n",
              "    .colab-df-buttons div {\n",
              "      margin-bottom: 4px;\n",
              "    }\n",
              "\n",
              "    [theme=dark] .colab-df-convert {\n",
              "      background-color: #3B4455;\n",
              "      fill: #D2E3FC;\n",
              "    }\n",
              "\n",
              "    [theme=dark] .colab-df-convert:hover {\n",
              "      background-color: #434B5C;\n",
              "      box-shadow: 0px 1px 3px 1px rgba(0, 0, 0, 0.15);\n",
              "      filter: drop-shadow(0px 1px 2px rgba(0, 0, 0, 0.3));\n",
              "      fill: #FFFFFF;\n",
              "    }\n",
              "  </style>\n",
              "\n",
              "    <script>\n",
              "      const buttonEl =\n",
              "        document.querySelector('#df-4bef28cb-f4c1-4cab-ab10-890153d8ce2f button.colab-df-convert');\n",
              "      buttonEl.style.display =\n",
              "        google.colab.kernel.accessAllowed ? 'block' : 'none';\n",
              "\n",
              "      async function convertToInteractive(key) {\n",
              "        const element = document.querySelector('#df-4bef28cb-f4c1-4cab-ab10-890153d8ce2f');\n",
              "        const dataTable =\n",
              "          await google.colab.kernel.invokeFunction('convertToInteractive',\n",
              "                                                    [key], {});\n",
              "        if (!dataTable) return;\n",
              "\n",
              "        const docLinkHtml = 'Like what you see? Visit the ' +\n",
              "          '<a target=\"_blank\" href=https://colab.research.google.com/notebooks/data_table.ipynb>data table notebook</a>'\n",
              "          + ' to learn more about interactive tables.';\n",
              "        element.innerHTML = '';\n",
              "        dataTable['output_type'] = 'display_data';\n",
              "        await google.colab.output.renderOutput(dataTable, element);\n",
              "        const docLink = document.createElement('div');\n",
              "        docLink.innerHTML = docLinkHtml;\n",
              "        element.appendChild(docLink);\n",
              "      }\n",
              "    </script>\n",
              "  </div>\n",
              "\n",
              "\n",
              "<div id=\"df-a78060bf-10f4-403c-a5ef-3b82fb5045b2\">\n",
              "  <button class=\"colab-df-quickchart\" onclick=\"quickchart('df-a78060bf-10f4-403c-a5ef-3b82fb5045b2')\"\n",
              "            title=\"Suggest charts\"\n",
              "            style=\"display:none;\">\n",
              "\n",
              "<svg xmlns=\"http://www.w3.org/2000/svg\" height=\"24px\"viewBox=\"0 0 24 24\"\n",
              "     width=\"24px\">\n",
              "    <g>\n",
              "        <path d=\"M19 3H5c-1.1 0-2 .9-2 2v14c0 1.1.9 2 2 2h14c1.1 0 2-.9 2-2V5c0-1.1-.9-2-2-2zM9 17H7v-7h2v7zm4 0h-2V7h2v10zm4 0h-2v-4h2v4z\"/>\n",
              "    </g>\n",
              "</svg>\n",
              "  </button>\n",
              "\n",
              "<style>\n",
              "  .colab-df-quickchart {\n",
              "      --bg-color: #E8F0FE;\n",
              "      --fill-color: #1967D2;\n",
              "      --hover-bg-color: #E2EBFA;\n",
              "      --hover-fill-color: #174EA6;\n",
              "      --disabled-fill-color: #AAA;\n",
              "      --disabled-bg-color: #DDD;\n",
              "  }\n",
              "\n",
              "  [theme=dark] .colab-df-quickchart {\n",
              "      --bg-color: #3B4455;\n",
              "      --fill-color: #D2E3FC;\n",
              "      --hover-bg-color: #434B5C;\n",
              "      --hover-fill-color: #FFFFFF;\n",
              "      --disabled-bg-color: #3B4455;\n",
              "      --disabled-fill-color: #666;\n",
              "  }\n",
              "\n",
              "  .colab-df-quickchart {\n",
              "    background-color: var(--bg-color);\n",
              "    border: none;\n",
              "    border-radius: 50%;\n",
              "    cursor: pointer;\n",
              "    display: none;\n",
              "    fill: var(--fill-color);\n",
              "    height: 32px;\n",
              "    padding: 0;\n",
              "    width: 32px;\n",
              "  }\n",
              "\n",
              "  .colab-df-quickchart:hover {\n",
              "    background-color: var(--hover-bg-color);\n",
              "    box-shadow: 0 1px 2px rgba(60, 64, 67, 0.3), 0 1px 3px 1px rgba(60, 64, 67, 0.15);\n",
              "    fill: var(--button-hover-fill-color);\n",
              "  }\n",
              "\n",
              "  .colab-df-quickchart-complete:disabled,\n",
              "  .colab-df-quickchart-complete:disabled:hover {\n",
              "    background-color: var(--disabled-bg-color);\n",
              "    fill: var(--disabled-fill-color);\n",
              "    box-shadow: none;\n",
              "  }\n",
              "\n",
              "  .colab-df-spinner {\n",
              "    border: 2px solid var(--fill-color);\n",
              "    border-color: transparent;\n",
              "    border-bottom-color: var(--fill-color);\n",
              "    animation:\n",
              "      spin 1s steps(1) infinite;\n",
              "  }\n",
              "\n",
              "  @keyframes spin {\n",
              "    0% {\n",
              "      border-color: transparent;\n",
              "      border-bottom-color: var(--fill-color);\n",
              "      border-left-color: var(--fill-color);\n",
              "    }\n",
              "    20% {\n",
              "      border-color: transparent;\n",
              "      border-left-color: var(--fill-color);\n",
              "      border-top-color: var(--fill-color);\n",
              "    }\n",
              "    30% {\n",
              "      border-color: transparent;\n",
              "      border-left-color: var(--fill-color);\n",
              "      border-top-color: var(--fill-color);\n",
              "      border-right-color: var(--fill-color);\n",
              "    }\n",
              "    40% {\n",
              "      border-color: transparent;\n",
              "      border-right-color: var(--fill-color);\n",
              "      border-top-color: var(--fill-color);\n",
              "    }\n",
              "    60% {\n",
              "      border-color: transparent;\n",
              "      border-right-color: var(--fill-color);\n",
              "    }\n",
              "    80% {\n",
              "      border-color: transparent;\n",
              "      border-right-color: var(--fill-color);\n",
              "      border-bottom-color: var(--fill-color);\n",
              "    }\n",
              "    90% {\n",
              "      border-color: transparent;\n",
              "      border-bottom-color: var(--fill-color);\n",
              "    }\n",
              "  }\n",
              "</style>\n",
              "\n",
              "  <script>\n",
              "    async function quickchart(key) {\n",
              "      const quickchartButtonEl =\n",
              "        document.querySelector('#' + key + ' button');\n",
              "      quickchartButtonEl.disabled = true;  // To prevent multiple clicks.\n",
              "      quickchartButtonEl.classList.add('colab-df-spinner');\n",
              "      try {\n",
              "        const charts = await google.colab.kernel.invokeFunction(\n",
              "            'suggestCharts', [key], {});\n",
              "      } catch (error) {\n",
              "        console.error('Error during call to suggestCharts:', error);\n",
              "      }\n",
              "      quickchartButtonEl.classList.remove('colab-df-spinner');\n",
              "      quickchartButtonEl.classList.add('colab-df-quickchart-complete');\n",
              "    }\n",
              "    (() => {\n",
              "      let quickchartButtonEl =\n",
              "        document.querySelector('#df-a78060bf-10f4-403c-a5ef-3b82fb5045b2 button');\n",
              "      quickchartButtonEl.style.display =\n",
              "        google.colab.kernel.accessAllowed ? 'block' : 'none';\n",
              "    })();\n",
              "  </script>\n",
              "</div>\n",
              "    </div>\n",
              "  </div>\n"
            ],
            "application/vnd.google.colaboratory.intrinsic+json": {
              "type": "dataframe",
              "variable_name": "data",
              "summary": "{\n  \"name\": \"data\",\n  \"rows\": 1728,\n  \"fields\": [\n    {\n      \"column\": 0,\n      \"properties\": {\n        \"dtype\": \"category\",\n        \"num_unique_values\": 4,\n        \"samples\": [\n          \"high\",\n          \"low\",\n          \"vhigh\"\n        ],\n        \"semantic_type\": \"\",\n        \"description\": \"\"\n      }\n    },\n    {\n      \"column\": 1,\n      \"properties\": {\n        \"dtype\": \"category\",\n        \"num_unique_values\": 4,\n        \"samples\": [\n          \"high\",\n          \"low\",\n          \"vhigh\"\n        ],\n        \"semantic_type\": \"\",\n        \"description\": \"\"\n      }\n    },\n    {\n      \"column\": 2,\n      \"properties\": {\n        \"dtype\": \"category\",\n        \"num_unique_values\": 4,\n        \"samples\": [\n          \"3\",\n          \"5more\",\n          \"2\"\n        ],\n        \"semantic_type\": \"\",\n        \"description\": \"\"\n      }\n    },\n    {\n      \"column\": 3,\n      \"properties\": {\n        \"dtype\": \"category\",\n        \"num_unique_values\": 3,\n        \"samples\": [\n          \"2\",\n          \"4\",\n          \"more\"\n        ],\n        \"semantic_type\": \"\",\n        \"description\": \"\"\n      }\n    },\n    {\n      \"column\": 4,\n      \"properties\": {\n        \"dtype\": \"category\",\n        \"num_unique_values\": 3,\n        \"samples\": [\n          \"small\",\n          \"med\",\n          \"big\"\n        ],\n        \"semantic_type\": \"\",\n        \"description\": \"\"\n      }\n    },\n    {\n      \"column\": 5,\n      \"properties\": {\n        \"dtype\": \"category\",\n        \"num_unique_values\": 3,\n        \"samples\": [\n          \"low\",\n          \"med\",\n          \"high\"\n        ],\n        \"semantic_type\": \"\",\n        \"description\": \"\"\n      }\n    },\n    {\n      \"column\": 6,\n      \"properties\": {\n        \"dtype\": \"category\",\n        \"num_unique_values\": 4,\n        \"samples\": [\n          \"acc\",\n          \"good\",\n          \"unacc\"\n        ],\n        \"semantic_type\": \"\",\n        \"description\": \"\"\n      }\n    }\n  ]\n}"
            }
          },
          "metadata": {},
          "execution_count": 5
        }
      ]
    },
    {
      "cell_type": "code",
      "source": [
        "print(\"Shape of the Data: \", data.shape )"
      ],
      "metadata": {
        "colab": {
          "base_uri": "https://localhost:8080/"
        },
        "id": "Tgn_rhCU3tLh",
        "outputId": "b3dbf060-817f-4e3f-bbe4-db22bcaf3806"
      },
      "execution_count": 6,
      "outputs": [
        {
          "output_type": "stream",
          "name": "stdout",
          "text": [
            "Shape of the Data:  (1728, 7)\n"
          ]
        }
      ]
    },
    {
      "metadata": {
        "id": "wDMyyYFlbuL2"
      },
      "cell_type": "code",
      "source": [
        "\n",
        "data.columns = ['Price', 'Maintenance', 'Number of Doors', 'Capacity', 'Size of Luggage Boot', 'estimated safety', 'classes']\n"
      ],
      "execution_count": 7,
      "outputs": []
    },
    {
      "metadata": {
        "id": "yHuo1Wn9YF8C"
      },
      "cell_type": "code",
      "source": [
        "data.head()"
      ],
      "execution_count": null,
      "outputs": []
    },
    {
      "metadata": {
        "id": "97PuHNN6YYjm"
      },
      "cell_type": "code",
      "source": [
        "data.info()"
      ],
      "execution_count": null,
      "outputs": []
    },
    {
      "metadata": {
        "id": "1Zj_vix3dCM3"
      },
      "cell_type": "code",
      "source": [
        "data.describe()"
      ],
      "execution_count": null,
      "outputs": []
    },
    {
      "metadata": {
        "id": "PIrM7DT7Ye8e"
      },
      "cell_type": "code",
      "source": [
        "data.isnull().any()"
      ],
      "execution_count": null,
      "outputs": []
    },
    {
      "metadata": {
        "id": "SaLWF-c5YiCQ",
        "outputId": "73087b01-ddea-4a0f-8140-21cafbcc85ae",
        "colab": {
          "base_uri": "https://localhost:8080/"
        }
      },
      "cell_type": "code",
      "source": [
        "data.columns"
      ],
      "execution_count": 12,
      "outputs": [
        {
          "output_type": "execute_result",
          "data": {
            "text/plain": [
              "Index(['Price', 'Maintenance', 'Number of Doors', 'Capacity',\n",
              "       'Size of Luggage Boot', 'estimated safety', 'classes'],\n",
              "      dtype='object')"
            ]
          },
          "metadata": {},
          "execution_count": 12
        }
      ]
    },
    {
      "cell_type": "code",
      "source": [
        "duplicates_rows = data[data.duplicated()]\n",
        "duplicates_rows"
      ],
      "metadata": {
        "colab": {
          "base_uri": "https://localhost:8080/",
          "height": 53
        },
        "id": "WSTpF1pARL43",
        "outputId": "c8972268-9fd8-452f-d579-3c01a2ea1f4c"
      },
      "execution_count": 13,
      "outputs": [
        {
          "output_type": "execute_result",
          "data": {
            "text/plain": [
              "Empty DataFrame\n",
              "Columns: [Price, Maintenance, Number of Doors, Capacity, Size of Luggage Boot, estimated safety, classes]\n",
              "Index: []"
            ],
            "text/html": [
              "\n",
              "  <div id=\"df-e3cba97b-7244-4227-9b6e-8351c31f3846\" class=\"colab-df-container\">\n",
              "    <div>\n",
              "<style scoped>\n",
              "    .dataframe tbody tr th:only-of-type {\n",
              "        vertical-align: middle;\n",
              "    }\n",
              "\n",
              "    .dataframe tbody tr th {\n",
              "        vertical-align: top;\n",
              "    }\n",
              "\n",
              "    .dataframe thead th {\n",
              "        text-align: right;\n",
              "    }\n",
              "</style>\n",
              "<table border=\"1\" class=\"dataframe\">\n",
              "  <thead>\n",
              "    <tr style=\"text-align: right;\">\n",
              "      <th></th>\n",
              "      <th>Price</th>\n",
              "      <th>Maintenance</th>\n",
              "      <th>Number of Doors</th>\n",
              "      <th>Capacity</th>\n",
              "      <th>Size of Luggage Boot</th>\n",
              "      <th>estimated safety</th>\n",
              "      <th>classes</th>\n",
              "    </tr>\n",
              "  </thead>\n",
              "  <tbody>\n",
              "  </tbody>\n",
              "</table>\n",
              "</div>\n",
              "    <div class=\"colab-df-buttons\">\n",
              "\n",
              "  <div class=\"colab-df-container\">\n",
              "    <button class=\"colab-df-convert\" onclick=\"convertToInteractive('df-e3cba97b-7244-4227-9b6e-8351c31f3846')\"\n",
              "            title=\"Convert this dataframe to an interactive table.\"\n",
              "            style=\"display:none;\">\n",
              "\n",
              "  <svg xmlns=\"http://www.w3.org/2000/svg\" height=\"24px\" viewBox=\"0 -960 960 960\">\n",
              "    <path d=\"M120-120v-720h720v720H120Zm60-500h600v-160H180v160Zm220 220h160v-160H400v160Zm0 220h160v-160H400v160ZM180-400h160v-160H180v160Zm440 0h160v-160H620v160ZM180-180h160v-160H180v160Zm440 0h160v-160H620v160Z\"/>\n",
              "  </svg>\n",
              "    </button>\n",
              "\n",
              "  <style>\n",
              "    .colab-df-container {\n",
              "      display:flex;\n",
              "      gap: 12px;\n",
              "    }\n",
              "\n",
              "    .colab-df-convert {\n",
              "      background-color: #E8F0FE;\n",
              "      border: none;\n",
              "      border-radius: 50%;\n",
              "      cursor: pointer;\n",
              "      display: none;\n",
              "      fill: #1967D2;\n",
              "      height: 32px;\n",
              "      padding: 0 0 0 0;\n",
              "      width: 32px;\n",
              "    }\n",
              "\n",
              "    .colab-df-convert:hover {\n",
              "      background-color: #E2EBFA;\n",
              "      box-shadow: 0px 1px 2px rgba(60, 64, 67, 0.3), 0px 1px 3px 1px rgba(60, 64, 67, 0.15);\n",
              "      fill: #174EA6;\n",
              "    }\n",
              "\n",
              "    .colab-df-buttons div {\n",
              "      margin-bottom: 4px;\n",
              "    }\n",
              "\n",
              "    [theme=dark] .colab-df-convert {\n",
              "      background-color: #3B4455;\n",
              "      fill: #D2E3FC;\n",
              "    }\n",
              "\n",
              "    [theme=dark] .colab-df-convert:hover {\n",
              "      background-color: #434B5C;\n",
              "      box-shadow: 0px 1px 3px 1px rgba(0, 0, 0, 0.15);\n",
              "      filter: drop-shadow(0px 1px 2px rgba(0, 0, 0, 0.3));\n",
              "      fill: #FFFFFF;\n",
              "    }\n",
              "  </style>\n",
              "\n",
              "    <script>\n",
              "      const buttonEl =\n",
              "        document.querySelector('#df-e3cba97b-7244-4227-9b6e-8351c31f3846 button.colab-df-convert');\n",
              "      buttonEl.style.display =\n",
              "        google.colab.kernel.accessAllowed ? 'block' : 'none';\n",
              "\n",
              "      async function convertToInteractive(key) {\n",
              "        const element = document.querySelector('#df-e3cba97b-7244-4227-9b6e-8351c31f3846');\n",
              "        const dataTable =\n",
              "          await google.colab.kernel.invokeFunction('convertToInteractive',\n",
              "                                                    [key], {});\n",
              "        if (!dataTable) return;\n",
              "\n",
              "        const docLinkHtml = 'Like what you see? Visit the ' +\n",
              "          '<a target=\"_blank\" href=https://colab.research.google.com/notebooks/data_table.ipynb>data table notebook</a>'\n",
              "          + ' to learn more about interactive tables.';\n",
              "        element.innerHTML = '';\n",
              "        dataTable['output_type'] = 'display_data';\n",
              "        await google.colab.output.renderOutput(dataTable, element);\n",
              "        const docLink = document.createElement('div');\n",
              "        docLink.innerHTML = docLinkHtml;\n",
              "        element.appendChild(docLink);\n",
              "      }\n",
              "    </script>\n",
              "  </div>\n",
              "\n",
              "    </div>\n",
              "  </div>\n"
            ],
            "application/vnd.google.colaboratory.intrinsic+json": {
              "type": "dataframe",
              "variable_name": "duplicates_rows",
              "repr_error": "Out of range float values are not JSON compliant: nan"
            }
          },
          "metadata": {},
          "execution_count": 13
        }
      ]
    },
    {
      "cell_type": "code",
      "source": [
        "data = data.drop_duplicates()"
      ],
      "metadata": {
        "id": "b_wAfFGzRcLn"
      },
      "execution_count": 15,
      "outputs": []
    },
    {
      "cell_type": "markdown",
      "source": [
        "# **Label Encoding**"
      ],
      "metadata": {
        "id": "7hz2N-tr62zo"
      }
    },
    {
      "cell_type": "code",
      "source": [
        "data['classes'].value_counts()"
      ],
      "metadata": {
        "colab": {
          "base_uri": "https://localhost:8080/"
        },
        "id": "I1qb7ssC73la",
        "outputId": "89409069-705c-4604-e986-a0360840acbf"
      },
      "execution_count": 16,
      "outputs": [
        {
          "output_type": "execute_result",
          "data": {
            "text/plain": [
              "classes\n",
              "unacc    1210\n",
              "acc       384\n",
              "good       69\n",
              "vgood      65\n",
              "Name: count, dtype: int64"
            ]
          },
          "metadata": {},
          "execution_count": 16
        }
      ]
    },
    {
      "metadata": {
        "id": "fpee4mgUkiC7",
        "outputId": "9e2fd1e4-3481-4176-e4b1-c2bbd913e93e",
        "colab": {
          "base_uri": "https://localhost:8080/"
        }
      },
      "cell_type": "code",
      "source": [
        "data.classes.replace(('unacc', 'acc', 'good', 'vgood'), (0, 1, 2, 3), inplace = True)\n",
        "data['classes'].value_counts()"
      ],
      "execution_count": 17,
      "outputs": [
        {
          "output_type": "execute_result",
          "data": {
            "text/plain": [
              "classes\n",
              "0    1210\n",
              "1     384\n",
              "2      69\n",
              "3      65\n",
              "Name: count, dtype: int64"
            ]
          },
          "metadata": {},
          "execution_count": 17
        }
      ]
    },
    {
      "metadata": {
        "id": "jU4YE4kzdgde",
        "outputId": "4b4a79cc-10d8-4adb-ccf2-bf028f3e7ead",
        "colab": {
          "base_uri": "https://localhost:8080/"
        }
      },
      "cell_type": "code",
      "source": [
        "data['Size of Luggage Boot'].value_counts()"
      ],
      "execution_count": 18,
      "outputs": [
        {
          "output_type": "execute_result",
          "data": {
            "text/plain": [
              "Size of Luggage Boot\n",
              "small    576\n",
              "med      576\n",
              "big      576\n",
              "Name: count, dtype: int64"
            ]
          },
          "metadata": {},
          "execution_count": 18
        }
      ]
    },
    {
      "metadata": {
        "id": "fRcoPM_mnDKH",
        "outputId": "2946cb04-faa9-4ca8-870a-472844c51aee",
        "colab": {
          "base_uri": "https://localhost:8080/"
        }
      },
      "cell_type": "code",
      "source": [
        "data['Size of Luggage Boot'].replace(('small', 'med', 'big'), (0, 1, 2), inplace = True)\n",
        "data['Size of Luggage Boot'].value_counts()"
      ],
      "execution_count": 19,
      "outputs": [
        {
          "output_type": "execute_result",
          "data": {
            "text/plain": [
              "Size of Luggage Boot\n",
              "0    576\n",
              "1    576\n",
              "2    576\n",
              "Name: count, dtype: int64"
            ]
          },
          "metadata": {},
          "execution_count": 19
        }
      ]
    },
    {
      "metadata": {
        "id": "Aq_sAwd5dpdr",
        "outputId": "9622d909-9c5c-4d62-c0aa-4f7074d1c8b1",
        "colab": {
          "base_uri": "https://localhost:8080/"
        }
      },
      "cell_type": "code",
      "source": [
        "data['estimated safety'].value_counts()"
      ],
      "execution_count": 20,
      "outputs": [
        {
          "output_type": "execute_result",
          "data": {
            "text/plain": [
              "estimated safety\n",
              "low     576\n",
              "med     576\n",
              "high    576\n",
              "Name: count, dtype: int64"
            ]
          },
          "metadata": {},
          "execution_count": 20
        }
      ]
    },
    {
      "metadata": {
        "id": "5K24boeZn3Nk",
        "outputId": "2317019b-01d0-4e2b-dea6-152fa4bf0a53",
        "colab": {
          "base_uri": "https://localhost:8080/"
        }
      },
      "cell_type": "code",
      "source": [
        "data['estimated safety'].replace(('low', 'med', 'high'), (0, 1, 2), inplace = True)\n",
        "\n",
        "data['estimated safety'].value_counts()"
      ],
      "execution_count": 21,
      "outputs": [
        {
          "output_type": "execute_result",
          "data": {
            "text/plain": [
              "estimated safety\n",
              "0    576\n",
              "1    576\n",
              "2    576\n",
              "Name: count, dtype: int64"
            ]
          },
          "metadata": {},
          "execution_count": 21
        }
      ]
    },
    {
      "metadata": {
        "id": "elU0lB7pZ6a9",
        "outputId": "b51d7e77-14b8-41ed-ff73-2e6a23136e09",
        "colab": {
          "base_uri": "https://localhost:8080/"
        }
      },
      "cell_type": "code",
      "source": [
        "data['Price'].value_counts()"
      ],
      "execution_count": 22,
      "outputs": [
        {
          "output_type": "execute_result",
          "data": {
            "text/plain": [
              "Price\n",
              "vhigh    432\n",
              "high     432\n",
              "med      432\n",
              "low      432\n",
              "Name: count, dtype: int64"
            ]
          },
          "metadata": {},
          "execution_count": 22
        }
      ]
    },
    {
      "metadata": {
        "id": "t1OOFcevoSYP",
        "outputId": "1d17caf8-9ee2-45b7-f9b0-31d2ad3c532b",
        "colab": {
          "base_uri": "https://localhost:8080/"
        }
      },
      "cell_type": "code",
      "source": [
        "data['Price'].replace(('low', 'med', 'high', 'vhigh'), (0, 1, 2, 3), inplace = True)\n",
        "data['Price'].value_counts()"
      ],
      "execution_count": 23,
      "outputs": [
        {
          "output_type": "execute_result",
          "data": {
            "text/plain": [
              "Price\n",
              "3    432\n",
              "2    432\n",
              "1    432\n",
              "0    432\n",
              "Name: count, dtype: int64"
            ]
          },
          "metadata": {},
          "execution_count": 23
        }
      ]
    },
    {
      "metadata": {
        "id": "bJ1JQoAhZmGA",
        "outputId": "54237359-24fc-4b0c-d951-010352cbb003",
        "colab": {
          "base_uri": "https://localhost:8080/"
        }
      },
      "cell_type": "code",
      "source": [
        "data['Maintenance'].value_counts()"
      ],
      "execution_count": 24,
      "outputs": [
        {
          "output_type": "execute_result",
          "data": {
            "text/plain": [
              "Maintenance\n",
              "vhigh    432\n",
              "high     432\n",
              "med      432\n",
              "low      432\n",
              "Name: count, dtype: int64"
            ]
          },
          "metadata": {},
          "execution_count": 24
        }
      ]
    },
    {
      "metadata": {
        "id": "TwuKrxDapAq3",
        "outputId": "7eb75840-f5ce-4e1b-a18e-bc515c42bb65",
        "colab": {
          "base_uri": "https://localhost:8080/"
        }
      },
      "cell_type": "code",
      "source": [
        "data['Maintenance'].replace(('low', 'med', 'high', 'vhigh'), (0, 1, 2, 3), inplace = True)\n",
        "data['Maintenance'].value_counts()"
      ],
      "execution_count": 25,
      "outputs": [
        {
          "output_type": "execute_result",
          "data": {
            "text/plain": [
              "Maintenance\n",
              "3    432\n",
              "2    432\n",
              "1    432\n",
              "0    432\n",
              "Name: count, dtype: int64"
            ]
          },
          "metadata": {},
          "execution_count": 25
        }
      ]
    },
    {
      "metadata": {
        "id": "PPEx45f4Y9cW",
        "outputId": "1201ebf4-f5d0-451c-8a8c-d1ccbebee891",
        "colab": {
          "base_uri": "https://localhost:8080/"
        }
      },
      "cell_type": "code",
      "source": [
        "data['Number of Doors'].value_counts()"
      ],
      "execution_count": 26,
      "outputs": [
        {
          "output_type": "execute_result",
          "data": {
            "text/plain": [
              "Number of Doors\n",
              "2        432\n",
              "3        432\n",
              "4        432\n",
              "5more    432\n",
              "Name: count, dtype: int64"
            ]
          },
          "metadata": {},
          "execution_count": 26
        }
      ]
    },
    {
      "metadata": {
        "id": "3B8qEg2QpVq4",
        "outputId": "9f18a0ad-cb48-400c-f01c-db7928b8e5fe",
        "colab": {
          "base_uri": "https://localhost:8080/"
        }
      },
      "cell_type": "code",
      "source": [
        "data['Number of Doors'].replace('5more', 5, inplace = True)\n",
        "data['Number of Doors'].value_counts()"
      ],
      "execution_count": 27,
      "outputs": [
        {
          "output_type": "execute_result",
          "data": {
            "text/plain": [
              "Number of Doors\n",
              "2    432\n",
              "3    432\n",
              "4    432\n",
              "5    432\n",
              "Name: count, dtype: int64"
            ]
          },
          "metadata": {},
          "execution_count": 27
        }
      ]
    },
    {
      "metadata": {
        "id": "T_2Sf9lsarvg",
        "outputId": "199423b4-e0ac-402b-e143-a3176cf447d6",
        "colab": {
          "base_uri": "https://localhost:8080/"
        }
      },
      "cell_type": "code",
      "source": [
        "data['Capacity'].value_counts()"
      ],
      "execution_count": 28,
      "outputs": [
        {
          "output_type": "execute_result",
          "data": {
            "text/plain": [
              "Capacity\n",
              "2       576\n",
              "4       576\n",
              "more    576\n",
              "Name: count, dtype: int64"
            ]
          },
          "metadata": {},
          "execution_count": 28
        }
      ]
    },
    {
      "metadata": {
        "id": "Q0HyEPkPdW1x",
        "outputId": "a99d8733-d42d-431d-c612-e97d64a5e639",
        "colab": {
          "base_uri": "https://localhost:8080/"
        }
      },
      "cell_type": "code",
      "source": [
        "data['Capacity'].replace('more', 5, inplace = True)\n",
        "data['Capacity'].value_counts()"
      ],
      "execution_count": 29,
      "outputs": [
        {
          "output_type": "execute_result",
          "data": {
            "text/plain": [
              "Capacity\n",
              "2    576\n",
              "4    576\n",
              "5    576\n",
              "Name: count, dtype: int64"
            ]
          },
          "metadata": {},
          "execution_count": 29
        }
      ]
    },
    {
      "metadata": {
        "id": "-zgF8Umb7BUw",
        "outputId": "4a03f5d5-078b-4739-97b0-18c823a401af",
        "colab": {
          "base_uri": "https://localhost:8080/",
          "height": 206
        }
      },
      "cell_type": "code",
      "source": [
        "data.tail()"
      ],
      "execution_count": 30,
      "outputs": [
        {
          "output_type": "execute_result",
          "data": {
            "text/plain": [
              "      Price  Maintenance Number of Doors Capacity  Size of Luggage Boot  \\\n",
              "1723      0            0               5        5                     1   \n",
              "1724      0            0               5        5                     1   \n",
              "1725      0            0               5        5                     2   \n",
              "1726      0            0               5        5                     2   \n",
              "1727      0            0               5        5                     2   \n",
              "\n",
              "      estimated safety  classes  \n",
              "1723                 1        2  \n",
              "1724                 2        3  \n",
              "1725                 0        0  \n",
              "1726                 1        2  \n",
              "1727                 2        3  "
            ],
            "text/html": [
              "\n",
              "  <div id=\"df-b8bd8e25-0528-4061-913f-6da47a8d82d7\" class=\"colab-df-container\">\n",
              "    <div>\n",
              "<style scoped>\n",
              "    .dataframe tbody tr th:only-of-type {\n",
              "        vertical-align: middle;\n",
              "    }\n",
              "\n",
              "    .dataframe tbody tr th {\n",
              "        vertical-align: top;\n",
              "    }\n",
              "\n",
              "    .dataframe thead th {\n",
              "        text-align: right;\n",
              "    }\n",
              "</style>\n",
              "<table border=\"1\" class=\"dataframe\">\n",
              "  <thead>\n",
              "    <tr style=\"text-align: right;\">\n",
              "      <th></th>\n",
              "      <th>Price</th>\n",
              "      <th>Maintenance</th>\n",
              "      <th>Number of Doors</th>\n",
              "      <th>Capacity</th>\n",
              "      <th>Size of Luggage Boot</th>\n",
              "      <th>estimated safety</th>\n",
              "      <th>classes</th>\n",
              "    </tr>\n",
              "  </thead>\n",
              "  <tbody>\n",
              "    <tr>\n",
              "      <th>1723</th>\n",
              "      <td>0</td>\n",
              "      <td>0</td>\n",
              "      <td>5</td>\n",
              "      <td>5</td>\n",
              "      <td>1</td>\n",
              "      <td>1</td>\n",
              "      <td>2</td>\n",
              "    </tr>\n",
              "    <tr>\n",
              "      <th>1724</th>\n",
              "      <td>0</td>\n",
              "      <td>0</td>\n",
              "      <td>5</td>\n",
              "      <td>5</td>\n",
              "      <td>1</td>\n",
              "      <td>2</td>\n",
              "      <td>3</td>\n",
              "    </tr>\n",
              "    <tr>\n",
              "      <th>1725</th>\n",
              "      <td>0</td>\n",
              "      <td>0</td>\n",
              "      <td>5</td>\n",
              "      <td>5</td>\n",
              "      <td>2</td>\n",
              "      <td>0</td>\n",
              "      <td>0</td>\n",
              "    </tr>\n",
              "    <tr>\n",
              "      <th>1726</th>\n",
              "      <td>0</td>\n",
              "      <td>0</td>\n",
              "      <td>5</td>\n",
              "      <td>5</td>\n",
              "      <td>2</td>\n",
              "      <td>1</td>\n",
              "      <td>2</td>\n",
              "    </tr>\n",
              "    <tr>\n",
              "      <th>1727</th>\n",
              "      <td>0</td>\n",
              "      <td>0</td>\n",
              "      <td>5</td>\n",
              "      <td>5</td>\n",
              "      <td>2</td>\n",
              "      <td>2</td>\n",
              "      <td>3</td>\n",
              "    </tr>\n",
              "  </tbody>\n",
              "</table>\n",
              "</div>\n",
              "    <div class=\"colab-df-buttons\">\n",
              "\n",
              "  <div class=\"colab-df-container\">\n",
              "    <button class=\"colab-df-convert\" onclick=\"convertToInteractive('df-b8bd8e25-0528-4061-913f-6da47a8d82d7')\"\n",
              "            title=\"Convert this dataframe to an interactive table.\"\n",
              "            style=\"display:none;\">\n",
              "\n",
              "  <svg xmlns=\"http://www.w3.org/2000/svg\" height=\"24px\" viewBox=\"0 -960 960 960\">\n",
              "    <path d=\"M120-120v-720h720v720H120Zm60-500h600v-160H180v160Zm220 220h160v-160H400v160Zm0 220h160v-160H400v160ZM180-400h160v-160H180v160Zm440 0h160v-160H620v160ZM180-180h160v-160H180v160Zm440 0h160v-160H620v160Z\"/>\n",
              "  </svg>\n",
              "    </button>\n",
              "\n",
              "  <style>\n",
              "    .colab-df-container {\n",
              "      display:flex;\n",
              "      gap: 12px;\n",
              "    }\n",
              "\n",
              "    .colab-df-convert {\n",
              "      background-color: #E8F0FE;\n",
              "      border: none;\n",
              "      border-radius: 50%;\n",
              "      cursor: pointer;\n",
              "      display: none;\n",
              "      fill: #1967D2;\n",
              "      height: 32px;\n",
              "      padding: 0 0 0 0;\n",
              "      width: 32px;\n",
              "    }\n",
              "\n",
              "    .colab-df-convert:hover {\n",
              "      background-color: #E2EBFA;\n",
              "      box-shadow: 0px 1px 2px rgba(60, 64, 67, 0.3), 0px 1px 3px 1px rgba(60, 64, 67, 0.15);\n",
              "      fill: #174EA6;\n",
              "    }\n",
              "\n",
              "    .colab-df-buttons div {\n",
              "      margin-bottom: 4px;\n",
              "    }\n",
              "\n",
              "    [theme=dark] .colab-df-convert {\n",
              "      background-color: #3B4455;\n",
              "      fill: #D2E3FC;\n",
              "    }\n",
              "\n",
              "    [theme=dark] .colab-df-convert:hover {\n",
              "      background-color: #434B5C;\n",
              "      box-shadow: 0px 1px 3px 1px rgba(0, 0, 0, 0.15);\n",
              "      filter: drop-shadow(0px 1px 2px rgba(0, 0, 0, 0.3));\n",
              "      fill: #FFFFFF;\n",
              "    }\n",
              "  </style>\n",
              "\n",
              "    <script>\n",
              "      const buttonEl =\n",
              "        document.querySelector('#df-b8bd8e25-0528-4061-913f-6da47a8d82d7 button.colab-df-convert');\n",
              "      buttonEl.style.display =\n",
              "        google.colab.kernel.accessAllowed ? 'block' : 'none';\n",
              "\n",
              "      async function convertToInteractive(key) {\n",
              "        const element = document.querySelector('#df-b8bd8e25-0528-4061-913f-6da47a8d82d7');\n",
              "        const dataTable =\n",
              "          await google.colab.kernel.invokeFunction('convertToInteractive',\n",
              "                                                    [key], {});\n",
              "        if (!dataTable) return;\n",
              "\n",
              "        const docLinkHtml = 'Like what you see? Visit the ' +\n",
              "          '<a target=\"_blank\" href=https://colab.research.google.com/notebooks/data_table.ipynb>data table notebook</a>'\n",
              "          + ' to learn more about interactive tables.';\n",
              "        element.innerHTML = '';\n",
              "        dataTable['output_type'] = 'display_data';\n",
              "        await google.colab.output.renderOutput(dataTable, element);\n",
              "        const docLink = document.createElement('div');\n",
              "        docLink.innerHTML = docLinkHtml;\n",
              "        element.appendChild(docLink);\n",
              "      }\n",
              "    </script>\n",
              "  </div>\n",
              "\n",
              "\n",
              "<div id=\"df-5865c435-df59-4b29-b80d-3f2b2095c26b\">\n",
              "  <button class=\"colab-df-quickchart\" onclick=\"quickchart('df-5865c435-df59-4b29-b80d-3f2b2095c26b')\"\n",
              "            title=\"Suggest charts\"\n",
              "            style=\"display:none;\">\n",
              "\n",
              "<svg xmlns=\"http://www.w3.org/2000/svg\" height=\"24px\"viewBox=\"0 0 24 24\"\n",
              "     width=\"24px\">\n",
              "    <g>\n",
              "        <path d=\"M19 3H5c-1.1 0-2 .9-2 2v14c0 1.1.9 2 2 2h14c1.1 0 2-.9 2-2V5c0-1.1-.9-2-2-2zM9 17H7v-7h2v7zm4 0h-2V7h2v10zm4 0h-2v-4h2v4z\"/>\n",
              "    </g>\n",
              "</svg>\n",
              "  </button>\n",
              "\n",
              "<style>\n",
              "  .colab-df-quickchart {\n",
              "      --bg-color: #E8F0FE;\n",
              "      --fill-color: #1967D2;\n",
              "      --hover-bg-color: #E2EBFA;\n",
              "      --hover-fill-color: #174EA6;\n",
              "      --disabled-fill-color: #AAA;\n",
              "      --disabled-bg-color: #DDD;\n",
              "  }\n",
              "\n",
              "  [theme=dark] .colab-df-quickchart {\n",
              "      --bg-color: #3B4455;\n",
              "      --fill-color: #D2E3FC;\n",
              "      --hover-bg-color: #434B5C;\n",
              "      --hover-fill-color: #FFFFFF;\n",
              "      --disabled-bg-color: #3B4455;\n",
              "      --disabled-fill-color: #666;\n",
              "  }\n",
              "\n",
              "  .colab-df-quickchart {\n",
              "    background-color: var(--bg-color);\n",
              "    border: none;\n",
              "    border-radius: 50%;\n",
              "    cursor: pointer;\n",
              "    display: none;\n",
              "    fill: var(--fill-color);\n",
              "    height: 32px;\n",
              "    padding: 0;\n",
              "    width: 32px;\n",
              "  }\n",
              "\n",
              "  .colab-df-quickchart:hover {\n",
              "    background-color: var(--hover-bg-color);\n",
              "    box-shadow: 0 1px 2px rgba(60, 64, 67, 0.3), 0 1px 3px 1px rgba(60, 64, 67, 0.15);\n",
              "    fill: var(--button-hover-fill-color);\n",
              "  }\n",
              "\n",
              "  .colab-df-quickchart-complete:disabled,\n",
              "  .colab-df-quickchart-complete:disabled:hover {\n",
              "    background-color: var(--disabled-bg-color);\n",
              "    fill: var(--disabled-fill-color);\n",
              "    box-shadow: none;\n",
              "  }\n",
              "\n",
              "  .colab-df-spinner {\n",
              "    border: 2px solid var(--fill-color);\n",
              "    border-color: transparent;\n",
              "    border-bottom-color: var(--fill-color);\n",
              "    animation:\n",
              "      spin 1s steps(1) infinite;\n",
              "  }\n",
              "\n",
              "  @keyframes spin {\n",
              "    0% {\n",
              "      border-color: transparent;\n",
              "      border-bottom-color: var(--fill-color);\n",
              "      border-left-color: var(--fill-color);\n",
              "    }\n",
              "    20% {\n",
              "      border-color: transparent;\n",
              "      border-left-color: var(--fill-color);\n",
              "      border-top-color: var(--fill-color);\n",
              "    }\n",
              "    30% {\n",
              "      border-color: transparent;\n",
              "      border-left-color: var(--fill-color);\n",
              "      border-top-color: var(--fill-color);\n",
              "      border-right-color: var(--fill-color);\n",
              "    }\n",
              "    40% {\n",
              "      border-color: transparent;\n",
              "      border-right-color: var(--fill-color);\n",
              "      border-top-color: var(--fill-color);\n",
              "    }\n",
              "    60% {\n",
              "      border-color: transparent;\n",
              "      border-right-color: var(--fill-color);\n",
              "    }\n",
              "    80% {\n",
              "      border-color: transparent;\n",
              "      border-right-color: var(--fill-color);\n",
              "      border-bottom-color: var(--fill-color);\n",
              "    }\n",
              "    90% {\n",
              "      border-color: transparent;\n",
              "      border-bottom-color: var(--fill-color);\n",
              "    }\n",
              "  }\n",
              "</style>\n",
              "\n",
              "  <script>\n",
              "    async function quickchart(key) {\n",
              "      const quickchartButtonEl =\n",
              "        document.querySelector('#' + key + ' button');\n",
              "      quickchartButtonEl.disabled = true;  // To prevent multiple clicks.\n",
              "      quickchartButtonEl.classList.add('colab-df-spinner');\n",
              "      try {\n",
              "        const charts = await google.colab.kernel.invokeFunction(\n",
              "            'suggestCharts', [key], {});\n",
              "      } catch (error) {\n",
              "        console.error('Error during call to suggestCharts:', error);\n",
              "      }\n",
              "      quickchartButtonEl.classList.remove('colab-df-spinner');\n",
              "      quickchartButtonEl.classList.add('colab-df-quickchart-complete');\n",
              "    }\n",
              "    (() => {\n",
              "      let quickchartButtonEl =\n",
              "        document.querySelector('#df-5865c435-df59-4b29-b80d-3f2b2095c26b button');\n",
              "      quickchartButtonEl.style.display =\n",
              "        google.colab.kernel.accessAllowed ? 'block' : 'none';\n",
              "    })();\n",
              "  </script>\n",
              "</div>\n",
              "    </div>\n",
              "  </div>\n"
            ],
            "application/vnd.google.colaboratory.intrinsic+json": {
              "type": "dataframe",
              "repr_error": "0"
            }
          },
          "metadata": {},
          "execution_count": 30
        }
      ]
    },
    {
      "metadata": {
        "id": "U4_pQ7n_NEeG"
      },
      "cell_type": "markdown",
      "source": [
        "## Data Split 70% 15% 15%"
      ]
    },
    {
      "metadata": {
        "id": "ECDZd6RiLZV1",
        "outputId": "0439dbd6-c81e-4b74-c893-1f89cef570dd",
        "colab": {
          "base_uri": "https://localhost:8080/"
        }
      },
      "cell_type": "code",
      "source": [
        "data.shape"
      ],
      "execution_count": 31,
      "outputs": [
        {
          "output_type": "execute_result",
          "data": {
            "text/plain": [
              "(1728, 7)"
            ]
          },
          "metadata": {},
          "execution_count": 31
        }
      ]
    },
    {
      "metadata": {
        "id": "8cObnYX8LPn_",
        "outputId": "5ad1cf86-7148-40a9-e62e-cbd4f9c62667",
        "colab": {
          "base_uri": "https://localhost:8080/"
        }
      },
      "cell_type": "code",
      "source": [
        "X = data.iloc[:,:6]\n",
        "y = data.iloc[:, 6]\n",
        "\n",
        "print(\"Shape of x: \", X.shape)\n",
        "print(\"Shape of y: \", y.shape)"
      ],
      "execution_count": 32,
      "outputs": [
        {
          "output_type": "stream",
          "name": "stdout",
          "text": [
            "Shape of x:  (1728, 6)\n",
            "Shape of y:  (1728,)\n"
          ]
        }
      ]
    },
    {
      "cell_type": "code",
      "source": [
        "X_train, X_temp, y_train, y_temp = train_test_split(X, y, test_size=0.3, random_state=42)\n",
        "X_val, X_test, y_val, y_test = train_test_split(X_temp, y_temp, test_size=0.5, random_state=42)"
      ],
      "metadata": {
        "id": "QYEF5m4gCPdF"
      },
      "execution_count": 33,
      "outputs": []
    },
    {
      "metadata": {
        "id": "_j5zU5s7LtK_",
        "outputId": "bf73033e-dfcd-4624-eb21-5bf090f62e98",
        "colab": {
          "base_uri": "https://localhost:8080/"
        }
      },
      "cell_type": "code",
      "source": [
        "print(\"Shape of X_train: \", X_train.shape)\n",
        "print(\"Shape of X_val: \", X_val.shape)\n",
        "print(\"Shape of X_test: \", X_test.shape)\n",
        "print(\"Shape of y_train: \", y_train.shape)\n",
        "print(\"shape of y_val: \", y_val.shape)\n",
        "print(\"shape of y_test: \", y_test.shape)"
      ],
      "execution_count": 34,
      "outputs": [
        {
          "output_type": "stream",
          "name": "stdout",
          "text": [
            "Shape of X_train:  (1209, 6)\n",
            "Shape of X_val:  (259, 6)\n",
            "Shape of X_test:  (260, 6)\n",
            "Shape of y_train:  (1209,)\n",
            "shape of y_val:  (259,)\n",
            "shape of y_test:  (260,)\n"
          ]
        }
      ]
    },
    {
      "cell_type": "markdown",
      "source": [
        "# StandardScaler"
      ],
      "metadata": {
        "id": "UxRsznf94OrX"
      }
    },
    {
      "metadata": {
        "id": "J0KqntpfMbY9"
      },
      "cell_type": "code",
      "source": [
        "\n",
        "from sklearn.preprocessing import StandardScaler\n",
        "scaler = StandardScaler()\n",
        "X_train_scaled = scaler.fit_transform(X_train)\n",
        "X_val_scaled = scaler.transform(X_val)\n",
        "X_test_scaled = scaler.transform(X_test)\n"
      ],
      "execution_count": 154,
      "outputs": []
    },
    {
      "cell_type": "code",
      "source": [
        "print(X_train_scaled)"
      ],
      "metadata": {
        "id": "Qi2bf5Uu1JWM"
      },
      "execution_count": null,
      "outputs": []
    },
    {
      "cell_type": "markdown",
      "source": [
        "# Evaluation matrics Functions"
      ],
      "metadata": {
        "id": "KVb30_VMJJAX"
      }
    },
    {
      "cell_type": "code",
      "source": [
        "def calculate_accuracy(y_true, y_pred):\n",
        "    correct_predictions = sum(y_true == y_pred)\n",
        "    total_predictions = len(y_true)\n",
        "    accuracy = correct_predictions / total_predictions\n",
        "    return accuracy"
      ],
      "metadata": {
        "id": "KvZvY-3xHc4b"
      },
      "execution_count": 92,
      "outputs": []
    },
    {
      "cell_type": "code",
      "source": [
        "def calculate_precision(y_true, y_pred, label):\n",
        "    true_positives = sum((y_true == label) & (y_pred == label))\n",
        "    predicted_positives = sum(y_pred == label)\n",
        "    if predicted_positives > 0:\n",
        "        precision = true_positives / predicted_positives\n",
        "    else:\n",
        "        precision = 0\n",
        "    return precision\n"
      ],
      "metadata": {
        "id": "-80IufRTi_PF"
      },
      "execution_count": 100,
      "outputs": []
    },
    {
      "cell_type": "code",
      "source": [
        "def calculate_recall(y_true, y_pred, label):\n",
        "    true_positives = sum((y_true == label) & (y_pred == label))\n",
        "    actual_positives = sum(y_true == label)\n",
        "    if actual_positives > 0:\n",
        "      recall = true_positives / actual_positives\n",
        "    else :0\n",
        "    return recall"
      ],
      "metadata": {
        "id": "PDg8h35Ii_GD"
      },
      "execution_count": 94,
      "outputs": []
    },
    {
      "cell_type": "code",
      "source": [
        "def calculate_f1_score(precision, recall):\n",
        "    if (precision + recall) > 0:\n",
        "        f1_score = 2 * (precision * recall) / (precision + recall)\n",
        "    else:\n",
        "        f1_score = 0\n",
        "    return f1_score\n"
      ],
      "metadata": {
        "id": "TemTUiudi_A0"
      },
      "execution_count": 102,
      "outputs": []
    },
    {
      "cell_type": "code",
      "source": [
        "def calculate_confusion_matrix(y_true, y_pred):\n",
        "    unique_labels = sorted(set(y_true) | set(y_pred))\n",
        "    num_labels = len(unique_labels)\n",
        "    confusion_matrix = [[0] * num_labels for _ in range(num_labels)]\n",
        "\n",
        "    label_to_index = {label: i for i, label in enumerate(unique_labels)}\n",
        "\n",
        "    for true_label, pred_label in zip(y_true, y_pred):\n",
        "        true_index = label_to_index[true_label]\n",
        "        pred_index = label_to_index[pred_label]\n",
        "        confusion_matrix[true_index][pred_index] += 1\n",
        "\n",
        "    return confusion_matrix\n"
      ],
      "metadata": {
        "id": "dLsBQijsi-4h"
      },
      "execution_count": 96,
      "outputs": []
    },
    {
      "cell_type": "markdown",
      "source": [
        "# ZeroR Classifier"
      ],
      "metadata": {
        "id": "CtT3L3Y0nLuD"
      }
    },
    {
      "cell_type": "code",
      "source": [
        "from sklearn.dummy import DummyClassifier\n",
        "\n",
        "zeror_classifier = DummyClassifier(strategy=\"most_frequent\")\n",
        "zeror_classifier.fit(X_train_scaled, y_train)\n",
        "\n",
        "#on train\n",
        "y_train_pred_zeror= zeror_classifier.predict(X_train_scaled)\n",
        "train_accuracy_zeror = calculate_accuracy(y_train, y_train_pred_zeror)\n",
        "print(\"ZeroR Classifier Accuracy on training Set:\", train_accuracy_zeror)\n",
        "\n",
        "#on validation\n",
        "y_val_pred_zeror= zeror_classifier.predict(X_val_scaled)\n",
        "val_accuracy_zeror = calculate_accuracy(y_val, y_val_pred_zeror)\n",
        "print(\"ZeroR Classifier Accuracy on Validation Set:\", val_accuracy_zeror)\n",
        "\n",
        "#on test\n",
        "y_test_pred_zeror = zeror_classifier.predict(X_test_scaled)\n",
        "test_accuracy_zeror = calculate_accuracy(y_test, y_test_pred_zeror)\n",
        "print(\"ZeroR Classifier Accuracy on Test Set:\", test_accuracy_zeror)\n"
      ],
      "metadata": {
        "colab": {
          "base_uri": "https://localhost:8080/"
        },
        "id": "Y9vlH4vrnSPI",
        "outputId": "61fe37a9-6c31-4adc-9b95-a7e56f4adb34"
      },
      "execution_count": 167,
      "outputs": [
        {
          "output_type": "stream",
          "name": "stdout",
          "text": [
            "ZeroR Classifier Accuracy on training Set: 0.7047146401985112\n",
            "ZeroR Classifier Accuracy on Validation Set: 0.6872586872586872\n",
            "ZeroR Classifier Accuracy on Test Set: 0.6923076923076923\n"
          ]
        }
      ]
    },
    {
      "cell_type": "code",
      "source": [
        "unique_labels = set(y_test) | set(y_test_pred_zeror)\n",
        "average_precision = 0\n",
        "average_recall = 0\n",
        "average_f1 = 0\n",
        "for label in unique_labels:\n",
        "    precision = calculate_precision(y_test, y_test_pred_zeror, label)\n",
        "    recall = calculate_recall(y_test, y_test_pred_zeror, label)\n",
        "    f1_score = calculate_f1_score(precision, recall)\n",
        "    average_precision += precision\n",
        "    average_recall += recall\n",
        "    average_f1 += f1_score\n",
        "num_classes = len(unique_labels)\n",
        "average_precision /= num_classes\n",
        "average_recall /= num_classes\n",
        "average_f1 /= num_classes\n",
        "\n",
        "print(\"ZeroR Average Precision:{:.3f}\".format(average_precision))\n",
        "print(\"ZeroR Average Recall:{:.3f}\".format(average_recall))\n",
        "print(\"ZeroR Average F-score:{:.3f}\".format(average_f1))\n",
        "\n",
        "conf_matrix = calculate_confusion_matrix(y_test, y_test_pred_zeror)\n",
        "print(\"ZeroR Confusion Matrix:\")\n",
        "for row in conf_matrix:\n",
        "    print(row)\n"
      ],
      "metadata": {
        "colab": {
          "base_uri": "https://localhost:8080/"
        },
        "id": "EYtVFv9mpQrF",
        "outputId": "395cd548-c812-4f77-9bdc-89bb4455455c"
      },
      "execution_count": 168,
      "outputs": [
        {
          "output_type": "stream",
          "name": "stdout",
          "text": [
            "ZeroR Average Precision:0.173\n",
            "ZeroR Average Recall:0.250\n",
            "ZeroR Average F-score:0.205\n",
            "ZeroR Confusion Matrix:\n",
            "[180, 0, 0, 0]\n",
            "[61, 0, 0, 0]\n",
            "[9, 0, 0, 0]\n",
            "[10, 0, 0, 0]\n"
          ]
        }
      ]
    },
    {
      "cell_type": "markdown",
      "source": [
        "# OneR classifier"
      ],
      "metadata": {
        "id": "g0-KpGotnOaI"
      }
    },
    {
      "cell_type": "code",
      "source": [
        "from mlxtend.classifier import OneRClassifier\n",
        "oner = OneRClassifier()\n",
        "oner.fit(X_train_scaled, y_train);"
      ],
      "metadata": {
        "id": "u0OQsd9JnTUo"
      },
      "execution_count": 170,
      "outputs": []
    },
    {
      "cell_type": "code",
      "source": [
        "#on train\n",
        "y_train_pred_oner = oner.predict(X_train_scaled)\n",
        "train_accuracy_oner = calculate_accuracy(y_train, y_train_pred_oner)\n",
        "print(\"OneR Classifier Accuracy on Training Set:\", train_accuracy_oner)\n",
        "\n",
        "\n",
        "#on val\n",
        "y_val_pred_oner = oner.predict(X_val_scaled)\n",
        "val_accuracy_oner = calculate_accuracy(y_val, y_val_pred_oner)\n",
        "print(\"OneR Classifier Accuracy on Validation Set:\", val_accuracy_oner)\n",
        "\n",
        "#on test\n",
        "y_test_pred_oner = oner.predict(X_test_scaled)\n",
        "test_accuracy_oner = calculate_accuracy(y_test, y_test_pred_oner)\n",
        "print(\"OneR Classifier Accuracy on Test Set:\", test_accuracy_oner)\n"
      ],
      "metadata": {
        "colab": {
          "base_uri": "https://localhost:8080/"
        },
        "id": "MaORChcUzr6o",
        "outputId": "f78f1ec2-229b-4d9d-fe59-91b0751ece9b"
      },
      "execution_count": 171,
      "outputs": [
        {
          "output_type": "stream",
          "name": "stdout",
          "text": [
            "OneR Classifier Accuracy on Training Set: 0.7047146401985112\n",
            "OneR Classifier Accuracy on Validation Set: 0.6872586872586872\n",
            "OneR Classifier Accuracy on Test Set: 0.6923076923076923\n"
          ]
        }
      ]
    },
    {
      "cell_type": "code",
      "source": [
        "unique_labels = set(y_test) | set(y_test_pred_oner)\n",
        "average_precision = 0\n",
        "average_recall = 0\n",
        "average_f1 = 0\n",
        "for label in unique_labels:\n",
        "    precision = calculate_precision(y_test, y_test_pred_oner, label)\n",
        "    recall = calculate_recall(y_test, y_test_pred_oner, label)\n",
        "    f1_score = calculate_f1_score(precision, recall)\n",
        "    average_precision += precision\n",
        "    average_recall += recall\n",
        "    average_f1 += f1_score\n",
        "num_classes = len(unique_labels)\n",
        "average_precision /= num_classes\n",
        "average_recall /= num_classes\n",
        "average_f1 /= num_classes\n",
        "\n",
        "print(\"OneR Average Precision:{:.3f}\".format(average_precision))\n",
        "print(\"OneR Average Recall:{:.3f}\".format(average_recall))\n",
        "print(\"OneR Average F-score:{:.3f}\".format(average_f1))\n",
        "\n",
        "conf_matrix = calculate_confusion_matrix(y_test, y_test_pred_oner)\n",
        "print(\"OneR Confusion Matrix:\")\n",
        "for row in conf_matrix:\n",
        "    print(row)\n"
      ],
      "metadata": {
        "colab": {
          "base_uri": "https://localhost:8080/"
        },
        "id": "QmmqPVnfA8Nd",
        "outputId": "70636a22-254c-40da-f2f3-e5dbc4c69e37"
      },
      "execution_count": 172,
      "outputs": [
        {
          "output_type": "stream",
          "name": "stdout",
          "text": [
            "OneR Average Precision:0.173\n",
            "OneR Average Recall:0.250\n",
            "OneR Average F-score:0.205\n",
            "OneR Confusion Matrix:\n",
            "[180, 0, 0, 0]\n",
            "[61, 0, 0, 0]\n",
            "[9, 0, 0, 0]\n",
            "[10, 0, 0, 0]\n"
          ]
        }
      ]
    },
    {
      "cell_type": "markdown",
      "source": [
        "# Hyperparameter tuning using validation set for SVM\n"
      ],
      "metadata": {
        "id": "Df5QnsI9Zc9n"
      }
    },
    {
      "cell_type": "code",
      "source": [
        "from sklearn.svm import SVC\n",
        "\n",
        "best_accuracy = 0\n",
        "best_c = 0\n",
        "best_kernel = ''\n",
        "best_degree = 0\n",
        "\n",
        "C_values = [0.1, 1, 10, 100]\n",
        "kernel_values = ['linear', 'rbf', 'poly']\n",
        "degree_values = [2, 3, 4]\n",
        "\n",
        "for kernel in kernel_values:\n",
        "    if kernel == 'poly':\n",
        "        for degree in degree_values:\n",
        "            for C in C_values:\n",
        "                svm_classifier = SVC(C=C, kernel=kernel, degree=degree)\n",
        "                svm_classifier.fit(X_train_scaled, y_train)\n",
        "                y_val_pred_svm = svm_classifier.predict(X_val_scaled)\n",
        "                accuracy = calculate_accuracy(y_val, y_val_pred_svm)\n",
        "                print(f\"Kernel={kernel}, Degree={degree}, C={C}, accuracy={accuracy}\")\n",
        "                if accuracy > best_accuracy:\n",
        "                    best_accuracy = accuracy\n",
        "                    best_c = C\n",
        "                    best_kernel = kernel\n",
        "                    best_degree = degree\n",
        "    else:\n",
        "        for C in C_values:\n",
        "            svm_classifier = SVC(C=C, kernel=kernel)\n",
        "            svm_classifier.fit(X_train_scaled, y_train)\n",
        "            y_val_pred_svm = svm_classifier.predict(X_val_scaled)\n",
        "            accuracy = calculate_accuracy(y_val, y_val_pred_svm)\n",
        "            print(f\"Kernel={kernel}, C={C}, accuracy={accuracy}\")\n",
        "            if accuracy > best_accuracy:\n",
        "                best_accuracy = accuracy\n",
        "                best_c = C\n",
        "                best_kernel = kernel\n",
        "\n",
        "print(\"Best Kernel for SVM:\", best_kernel)\n",
        "print(\"Best Degree for SVM:\", best_degree) if best_kernel == 'poly' else None\n",
        "print(\"Best C for SVM:\", best_c)\n",
        "print(\"Best validation accuracy for SVM:\", best_accuracy)\n"
      ],
      "metadata": {
        "colab": {
          "base_uri": "https://localhost:8080/"
        },
        "id": "wUd8ZkehSkfv",
        "outputId": "ba7a5920-13a8-4f55-cfc2-8836f6ed28a5"
      },
      "execution_count": 173,
      "outputs": [
        {
          "output_type": "stream",
          "name": "stdout",
          "text": [
            "Kernel=linear, C=0.1, accuracy=0.8455598455598455\n",
            "Kernel=linear, C=1, accuracy=0.8725868725868726\n",
            "Kernel=linear, C=10, accuracy=0.861003861003861\n",
            "Kernel=linear, C=100, accuracy=0.861003861003861\n",
            "Kernel=rbf, C=0.1, accuracy=0.8532818532818532\n",
            "Kernel=rbf, C=1, accuracy=0.9575289575289575\n",
            "Kernel=rbf, C=10, accuracy=0.9652509652509652\n",
            "Kernel=rbf, C=100, accuracy=0.972972972972973\n",
            "Kernel=poly, Degree=2, C=0.1, accuracy=0.6872586872586872\n",
            "Kernel=poly, Degree=2, C=1, accuracy=0.7258687258687259\n",
            "Kernel=poly, Degree=2, C=10, accuracy=0.8532818532818532\n",
            "Kernel=poly, Degree=2, C=100, accuracy=0.8687258687258688\n",
            "Kernel=poly, Degree=3, C=0.1, accuracy=0.7722007722007722\n",
            "Kernel=poly, Degree=3, C=1, accuracy=0.8841698841698842\n",
            "Kernel=poly, Degree=3, C=10, accuracy=0.9073359073359073\n",
            "Kernel=poly, Degree=3, C=100, accuracy=0.9227799227799228\n",
            "Kernel=poly, Degree=4, C=0.1, accuracy=0.6833976833976834\n",
            "Kernel=poly, Degree=4, C=1, accuracy=0.7374517374517374\n",
            "Kernel=poly, Degree=4, C=10, accuracy=0.9111969111969112\n",
            "Kernel=poly, Degree=4, C=100, accuracy=0.9305019305019305\n",
            "Best Kernel for SVM: rbf\n",
            "Best C for SVM: 100\n",
            "Best validation accuracy for SVM: 0.972972972972973\n"
          ]
        }
      ]
    },
    {
      "cell_type": "code",
      "source": [
        "final_svm_classifier = SVC(C=best_c, kernel=best_kernel, degree=best_degree)\n",
        "final_svm_classifier.fit(X_train_scaled, y_train)\n",
        "y_test_pred_svm = final_svm_classifier.predict(X_test_scaled)\n",
        "test_accuracy_svm = calculate_accuracy(y_test, y_test_pred_svm)\n",
        "print(\"SVM Test accuracy : \", test_accuracy_svm)\n"
      ],
      "metadata": {
        "colab": {
          "base_uri": "https://localhost:8080/"
        },
        "id": "XKc4B5WzXNhm",
        "outputId": "6acd15a2-f8bd-4b80-a345-437fd415c412"
      },
      "execution_count": 174,
      "outputs": [
        {
          "output_type": "stream",
          "name": "stdout",
          "text": [
            "SVM Test accuracy :  0.9807692307692307\n"
          ]
        }
      ]
    },
    {
      "cell_type": "code",
      "source": [
        "unique_labels = set(y_test) | set(y_test_pred_svm)\n",
        "average_precision = 0\n",
        "average_recall = 0\n",
        "average_f1 = 0\n",
        "for label in unique_labels:\n",
        "    precision = calculate_precision(y_test, y_test_pred_svm, label)\n",
        "    recall = calculate_recall(y_test, y_test_pred_svm, label)\n",
        "    f1_score = calculate_f1_score(precision, recall)\n",
        "    average_precision += precision\n",
        "    average_recall += recall\n",
        "    average_f1 += f1_score\n",
        "num_classes = len(unique_labels)\n",
        "average_precision /= num_classes\n",
        "average_recall /= num_classes\n",
        "average_f1 /= num_classes\n",
        "\n",
        "print(\"SVC Average Precision:{:.3f}\".format(average_precision))\n",
        "print(\"SVC Average Recall:{:.3f}\".format(average_recall))\n",
        "print(\"SVC Average F-score:{:.3f}\".format(average_f1))\n",
        "\n",
        "conf_matrix = calculate_confusion_matrix(y_test, y_test_pred_svm)\n",
        "print(\"SVC Confusion Matrix:\")\n",
        "for row in conf_matrix:\n",
        "    print(row)\n"
      ],
      "metadata": {
        "colab": {
          "base_uri": "https://localhost:8080/"
        },
        "id": "MYZf8HM-XNQi",
        "outputId": "eb3bb6ce-c014-440c-c6b8-553b9c80a70c"
      },
      "execution_count": 175,
      "outputs": [
        {
          "output_type": "stream",
          "name": "stdout",
          "text": [
            "SVC Average Precision:0.945\n",
            "SVC Average Recall:0.961\n",
            "SVC Average F-score:0.950\n",
            "SVC Confusion Matrix:\n",
            "[179, 1, 0, 0]\n",
            "[1, 58, 2, 0]\n",
            "[0, 0, 9, 0]\n",
            "[0, 1, 0, 9]\n"
          ]
        }
      ]
    },
    {
      "cell_type": "markdown",
      "source": [
        "# Hyperparameter tuning using validation set for KNN\n",
        "\n",
        "\n"
      ],
      "metadata": {
        "id": "LBPHaW-WZkfJ"
      }
    },
    {
      "cell_type": "code",
      "source": [
        "from sklearn.neighbors import KNeighborsClassifier\n",
        "\n",
        "best_accuracy_knn = 0\n",
        "best_neighbors = 0\n",
        "best_weights = ''\n",
        "\n",
        "neighbor_values = [1, 3, 5, 7, 9]\n",
        "weight_values = ['uniform', 'distance']\n",
        "\n",
        "for neighbors in neighbor_values:\n",
        "    for weights in weight_values:\n",
        "        knn_classifier = KNeighborsClassifier(n_neighbors=neighbors, weights=weights)\n",
        "        knn_classifier.fit(X_train_scaled, y_train)\n",
        "        y_val_pred_knn = knn_classifier.predict(X_val_scaled)\n",
        "        accuracy_knn = calculate_accuracy(y_val, y_val_pred_knn)\n",
        "        print(f\"Neighbors={neighbors}, Weights={weights}, accuracy={accuracy_knn}\")\n",
        "\n",
        "        if accuracy_knn > best_accuracy_knn:\n",
        "            best_accuracy_knn = accuracy_knn\n",
        "            best_neighbors = neighbors\n",
        "            best_weights = weights\n",
        "\n",
        "print(\"Best number of neighbors for KNN:\", best_neighbors)\n",
        "print(\"Best weights for KNN:\", best_weights)\n",
        "print(\"Best validation accuracy for KNN:\", best_accuracy_knn)\n"
      ],
      "metadata": {
        "colab": {
          "base_uri": "https://localhost:8080/"
        },
        "id": "r1Xn_ntYZp7P",
        "outputId": "0c8a5d89-d73b-4da5-8bf7-4985589eb0cc"
      },
      "execution_count": 176,
      "outputs": [
        {
          "output_type": "stream",
          "name": "stdout",
          "text": [
            "Neighbors=1, Weights=uniform, accuracy=0.9459459459459459\n",
            "Neighbors=1, Weights=distance, accuracy=0.9459459459459459\n",
            "Neighbors=3, Weights=uniform, accuracy=0.9498069498069498\n",
            "Neighbors=3, Weights=distance, accuracy=0.9459459459459459\n",
            "Neighbors=5, Weights=uniform, accuracy=0.9613899613899614\n",
            "Neighbors=5, Weights=distance, accuracy=0.9613899613899614\n",
            "Neighbors=7, Weights=uniform, accuracy=0.9691119691119691\n",
            "Neighbors=7, Weights=distance, accuracy=0.9652509652509652\n",
            "Neighbors=9, Weights=uniform, accuracy=0.9459459459459459\n",
            "Neighbors=9, Weights=distance, accuracy=0.9459459459459459\n",
            "Best number of neighbors for KNN: 7\n",
            "Best weights for KNN: uniform\n",
            "Best validation accuracy for KNN: 0.9691119691119691\n"
          ]
        }
      ]
    },
    {
      "cell_type": "code",
      "source": [
        "final_knn_classifier = KNeighborsClassifier(n_neighbors=best_neighbors, weights=best_weights)\n",
        "final_knn_classifier.fit(X_train_scaled, y_train)\n",
        "y_test_pred_knn = final_knn_classifier.predict(X_test_scaled)\n",
        "test_accuracy_knn = calculate_accuracy(y_test, y_test_pred_knn)\n",
        "print(\"KNN Test accuracy : \", test_accuracy_knn)\n"
      ],
      "metadata": {
        "colab": {
          "base_uri": "https://localhost:8080/"
        },
        "id": "Ukrl4XxnidMp",
        "outputId": "2ee6ef0c-dc07-4c52-a3c8-3b7ff01da305"
      },
      "execution_count": 177,
      "outputs": [
        {
          "output_type": "stream",
          "name": "stdout",
          "text": [
            "KNN Test accuracy :  0.9615384615384616\n"
          ]
        }
      ]
    },
    {
      "cell_type": "code",
      "source": [
        "unique_labels = set(y_test) | set(y_test_pred_knn)\n",
        "average_precision = 0\n",
        "average_recall = 0\n",
        "average_f1 = 0\n",
        "for label in unique_labels:\n",
        "    precision = calculate_precision(y_test, y_test_pred_knn, label)\n",
        "    recall = calculate_recall(y_test, y_test_pred_knn, label)\n",
        "    f1_score = calculate_f1_score(precision, recall)\n",
        "    average_precision += precision\n",
        "    average_recall += recall\n",
        "    average_f1 += f1_score\n",
        "num_classes = len(unique_labels)\n",
        "average_precision /= num_classes\n",
        "average_recall /= num_classes\n",
        "average_f1 /= num_classes\n",
        "\n",
        "print(\"KNN Average Precision:{:.3f}\".format(average_precision))\n",
        "print(\"KNN Average Recall:{:.3f}\".format(average_recall))\n",
        "print(\"KNN Average F-score:{:.3f}\".format(average_f1))\n",
        "\n",
        "conf_matrix = calculate_confusion_matrix(y_test, y_test_pred_knn)\n",
        "print(\"KNN Confusion Matrix:\")\n",
        "for row in conf_matrix:\n",
        "    print(row)\n"
      ],
      "metadata": {
        "colab": {
          "base_uri": "https://localhost:8080/"
        },
        "id": "8c5TxKEfidIq",
        "outputId": "17467b3d-57f4-4519-b74d-1305624503c1"
      },
      "execution_count": 178,
      "outputs": [
        {
          "output_type": "stream",
          "name": "stdout",
          "text": [
            "KNN Average Precision:0.928\n",
            "KNN Average Recall:0.907\n",
            "KNN Average F-score:0.909\n",
            "KNN Confusion Matrix:\n",
            "[176, 4, 0, 0]\n",
            "[2, 58, 1, 0]\n",
            "[0, 0, 9, 0]\n",
            "[0, 2, 1, 7]\n"
          ]
        }
      ]
    },
    {
      "cell_type": "markdown",
      "source": [
        "# Hyperparameter tuning using validation set for Naive Bayes"
      ],
      "metadata": {
        "id": "exhPRWVNct6j"
      }
    },
    {
      "cell_type": "code",
      "source": [
        "from sklearn.naive_bayes import GaussianNB\n",
        "\n",
        "best_accuracy_nb = 0\n",
        "best_var_smoothing = 0\n",
        "\n",
        "var_smoothing_values = [1e-9, 1e-8, 1e-7, 1e-6]\n",
        "\n",
        "for var_smoothing in var_smoothing_values:\n",
        "    nb_classifier = GaussianNB(var_smoothing=var_smoothing)\n",
        "    nb_classifier.fit(X_train_scaled, y_train)\n",
        "    y_val_pred_nb = nb_classifier.predict(X_val_scaled)\n",
        "    accuracy_nb = calculate_accuracy(y_val, y_val_pred_nb)\n",
        "    print(f\"Var_smoothing={var_smoothing}, accuracy={accuracy_nb}\")\n",
        "\n",
        "    if accuracy_nb > best_accuracy_nb:\n",
        "        best_accuracy_nb = accuracy_nb\n",
        "        best_var_smoothing = var_smoothing\n",
        "\n",
        "print(\"Best variance_smoothing for Gaussian Naive Bayes:\", best_var_smoothing)\n",
        "print(\"Best validation accuracy for Gaussian Naive Bayes:\", best_accuracy_nb)\n"
      ],
      "metadata": {
        "colab": {
          "base_uri": "https://localhost:8080/"
        },
        "id": "s06_fiy4cpSK",
        "outputId": "c3223c98-c9d3-4f56-8bbf-e2f778f5ea28"
      },
      "execution_count": 179,
      "outputs": [
        {
          "output_type": "stream",
          "name": "stdout",
          "text": [
            "Var_smoothing=1e-09, accuracy=0.7644787644787645\n",
            "Var_smoothing=1e-08, accuracy=0.7722007722007722\n",
            "Var_smoothing=1e-07, accuracy=0.7760617760617761\n",
            "Var_smoothing=1e-06, accuracy=0.7799227799227799\n",
            "Best variance_smoothing for Gaussian Naive Bayes: 1e-06\n",
            "Best validation accuracy for Gaussian Naive Bayes: 0.7799227799227799\n"
          ]
        }
      ]
    },
    {
      "cell_type": "code",
      "source": [
        "final_nb_classifier = GaussianNB(var_smoothing=best_var_smoothing)\n",
        "final_nb_classifier.fit(X_train_scaled, y_train)\n",
        "y_test_pred_nb = final_nb_classifier.predict(X_test_scaled)\n",
        "test_accuracy_nb = calculate_accuracy(y_test, y_test_pred_nb)\n",
        "print(\"naive Bayes Test accuracy : \", test_accuracy_nb)\n"
      ],
      "metadata": {
        "colab": {
          "base_uri": "https://localhost:8080/"
        },
        "id": "6xz3Cf86e9XH",
        "outputId": "422b6e8b-d7a6-4858-8581-6f7a28fce794"
      },
      "execution_count": 180,
      "outputs": [
        {
          "output_type": "stream",
          "name": "stdout",
          "text": [
            "naive Bayes Test accuracy :  0.7807692307692308\n"
          ]
        }
      ]
    },
    {
      "cell_type": "code",
      "source": [
        "unique_labels = set(y_test) | set(y_test_pred_nb)\n",
        "average_precision = 0\n",
        "average_recall = 0\n",
        "average_f1 = 0\n",
        "for label in unique_labels:\n",
        "    precision = calculate_precision(y_test, y_test_pred_nb, label)\n",
        "    recall = calculate_recall(y_test, y_test_pred_nb, label)\n",
        "    f1_score = calculate_f1_score(precision, recall)\n",
        "    average_precision += precision\n",
        "    average_recall += recall\n",
        "    average_f1 += f1_score\n",
        "num_classes = len(unique_labels)\n",
        "average_precision /= num_classes\n",
        "average_recall /= num_classes\n",
        "average_f1 /= num_classes\n",
        "\n",
        "print(\"GNaive Bayes Average Precision:{:.3f}\".format(average_precision))\n",
        "print(\"GNaive Bayes Recall:{:.3f}\".format(average_recall))\n",
        "print(\"GNaive Bayes F-score:{:.3f}\".format(average_f1))\n",
        "\n",
        "conf_matrix = calculate_confusion_matrix(y_test, y_test_pred_nb)\n",
        "print(\"GNaive Bayes Confusion Matrix:\")\n",
        "for row in conf_matrix:\n",
        "    print(row)\n"
      ],
      "metadata": {
        "colab": {
          "base_uri": "https://localhost:8080/"
        },
        "id": "MLF4Grp6e85i",
        "outputId": "41679c95-bf62-4b9f-ad04-ce9bc6197791"
      },
      "execution_count": 181,
      "outputs": [
        {
          "output_type": "stream",
          "name": "stdout",
          "text": [
            "GNaive Bayes Average Precision:0.562\n",
            "GNaive Bayes Recall:0.657\n",
            "GNaive Bayes F-score:0.557\n",
            "GNaive Bayes Confusion Matrix:\n",
            "[168, 10, 1, 1]\n",
            "[19, 22, 4, 16]\n",
            "[1, 2, 3, 3]\n",
            "[0, 0, 0, 10]\n"
          ]
        }
      ]
    },
    {
      "cell_type": "markdown",
      "source": [
        "# Export dataset"
      ],
      "metadata": {
        "id": "tIkucCwbcYXT"
      }
    },
    {
      "cell_type": "code",
      "source": [
        "file_path = '/content/gdrive/MyDrive/data/Assignment5_processed_dataset_car_evaluation.xlsx'\n",
        "data.to_excel(file_path, index=False)"
      ],
      "metadata": {
        "id": "3ddyQhdiYwHj"
      },
      "execution_count": 182,
      "outputs": []
    }
  ]
}