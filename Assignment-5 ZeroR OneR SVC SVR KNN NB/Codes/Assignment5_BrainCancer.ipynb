{
  "nbformat": 4,
  "nbformat_minor": 0,
  "metadata": {
    "colab": {
      "provenance": [],
      "collapsed_sections": [
        "GzEav6HC5Bvr",
        "FSdw6Fx44e9t",
        "1CoGod0T4VNQ",
        "xiUSw6YrejZv",
        "QEmvNPy4enXb",
        "ZB-6JKTnerDf",
        "Zufc9fpwewy9",
        "TScn5Dbje1mc"
      ]
    },
    "kernelspec": {
      "name": "python3",
      "display_name": "Python 3"
    },
    "language_info": {
      "name": "python"
    }
  },
  "cells": [
    {
      "cell_type": "code",
      "source": [
        "''''Assignment #5\n",
        "Rezwan-Ul-Alam (ID: 2011659042)\n",
        "Md. Nur Alam Jowel (ID: 2012355042)\n",
        "Raian Ruku (ID: 2013409642)'''"
      ],
      "metadata": {
        "id": "Aesag3y9lcZB"
      },
      "execution_count": null,
      "outputs": []
    },
    {
      "cell_type": "code",
      "execution_count": 1,
      "metadata": {
        "colab": {
          "base_uri": "https://localhost:8080/"
        },
        "id": "kf5l8ITciZ3Q",
        "outputId": "2b387f3c-4418-4249-f747-f467ad93ce88"
      },
      "outputs": [
        {
          "output_type": "stream",
          "name": "stdout",
          "text": [
            "Mounted at /content/gdrive\n"
          ]
        }
      ],
      "source": [
        "from google.colab import drive\n",
        "drive.mount('/content/gdrive')"
      ]
    },
    {
      "cell_type": "code",
      "source": [
        "import numpy as np\n",
        "import pandas as pd\n",
        "import matplotlib.pyplot as plt\n",
        "from sklearn.model_selection import train_test_split\n"
      ],
      "metadata": {
        "id": "sfMzHx7_kIcS"
      },
      "execution_count": 2,
      "outputs": []
    },
    {
      "cell_type": "code",
      "source": [
        "df = pd.read_csv('/content/gdrive/MyDrive/data/DT-BrainCancer.csv')\n",
        "df.head()"
      ],
      "metadata": {
        "id": "X6IyK61ClcmE",
        "colab": {
          "base_uri": "https://localhost:8080/",
          "height": 206
        },
        "outputId": "41d5725e-bd32-4641-e74d-92a1105c67a8"
      },
      "execution_count": 3,
      "outputs": [
        {
          "output_type": "execute_result",
          "data": {
            "text/plain": [
              "   Unnamed: 0     sex   diagnosis             loc  ki    gtv  status\n",
              "0           1  Female  Meningioma  Infratentorial  90   6.11       0\n",
              "1           2    Male   HG glioma  Supratentorial  90  19.35       1\n",
              "2           3  Female  Meningioma  Infratentorial  70   7.95       0\n",
              "3           4  Female   LG glioma  Supratentorial  80   7.61       1\n",
              "4           5    Male   HG glioma  Supratentorial  90   5.06       1"
            ],
            "text/html": [
              "\n",
              "  <div id=\"df-dbae1f3b-5087-478c-9750-560012eb534f\" class=\"colab-df-container\">\n",
              "    <div>\n",
              "<style scoped>\n",
              "    .dataframe tbody tr th:only-of-type {\n",
              "        vertical-align: middle;\n",
              "    }\n",
              "\n",
              "    .dataframe tbody tr th {\n",
              "        vertical-align: top;\n",
              "    }\n",
              "\n",
              "    .dataframe thead th {\n",
              "        text-align: right;\n",
              "    }\n",
              "</style>\n",
              "<table border=\"1\" class=\"dataframe\">\n",
              "  <thead>\n",
              "    <tr style=\"text-align: right;\">\n",
              "      <th></th>\n",
              "      <th>Unnamed: 0</th>\n",
              "      <th>sex</th>\n",
              "      <th>diagnosis</th>\n",
              "      <th>loc</th>\n",
              "      <th>ki</th>\n",
              "      <th>gtv</th>\n",
              "      <th>status</th>\n",
              "    </tr>\n",
              "  </thead>\n",
              "  <tbody>\n",
              "    <tr>\n",
              "      <th>0</th>\n",
              "      <td>1</td>\n",
              "      <td>Female</td>\n",
              "      <td>Meningioma</td>\n",
              "      <td>Infratentorial</td>\n",
              "      <td>90</td>\n",
              "      <td>6.11</td>\n",
              "      <td>0</td>\n",
              "    </tr>\n",
              "    <tr>\n",
              "      <th>1</th>\n",
              "      <td>2</td>\n",
              "      <td>Male</td>\n",
              "      <td>HG glioma</td>\n",
              "      <td>Supratentorial</td>\n",
              "      <td>90</td>\n",
              "      <td>19.35</td>\n",
              "      <td>1</td>\n",
              "    </tr>\n",
              "    <tr>\n",
              "      <th>2</th>\n",
              "      <td>3</td>\n",
              "      <td>Female</td>\n",
              "      <td>Meningioma</td>\n",
              "      <td>Infratentorial</td>\n",
              "      <td>70</td>\n",
              "      <td>7.95</td>\n",
              "      <td>0</td>\n",
              "    </tr>\n",
              "    <tr>\n",
              "      <th>3</th>\n",
              "      <td>4</td>\n",
              "      <td>Female</td>\n",
              "      <td>LG glioma</td>\n",
              "      <td>Supratentorial</td>\n",
              "      <td>80</td>\n",
              "      <td>7.61</td>\n",
              "      <td>1</td>\n",
              "    </tr>\n",
              "    <tr>\n",
              "      <th>4</th>\n",
              "      <td>5</td>\n",
              "      <td>Male</td>\n",
              "      <td>HG glioma</td>\n",
              "      <td>Supratentorial</td>\n",
              "      <td>90</td>\n",
              "      <td>5.06</td>\n",
              "      <td>1</td>\n",
              "    </tr>\n",
              "  </tbody>\n",
              "</table>\n",
              "</div>\n",
              "    <div class=\"colab-df-buttons\">\n",
              "\n",
              "  <div class=\"colab-df-container\">\n",
              "    <button class=\"colab-df-convert\" onclick=\"convertToInteractive('df-dbae1f3b-5087-478c-9750-560012eb534f')\"\n",
              "            title=\"Convert this dataframe to an interactive table.\"\n",
              "            style=\"display:none;\">\n",
              "\n",
              "  <svg xmlns=\"http://www.w3.org/2000/svg\" height=\"24px\" viewBox=\"0 -960 960 960\">\n",
              "    <path d=\"M120-120v-720h720v720H120Zm60-500h600v-160H180v160Zm220 220h160v-160H400v160Zm0 220h160v-160H400v160ZM180-400h160v-160H180v160Zm440 0h160v-160H620v160ZM180-180h160v-160H180v160Zm440 0h160v-160H620v160Z\"/>\n",
              "  </svg>\n",
              "    </button>\n",
              "\n",
              "  <style>\n",
              "    .colab-df-container {\n",
              "      display:flex;\n",
              "      gap: 12px;\n",
              "    }\n",
              "\n",
              "    .colab-df-convert {\n",
              "      background-color: #E8F0FE;\n",
              "      border: none;\n",
              "      border-radius: 50%;\n",
              "      cursor: pointer;\n",
              "      display: none;\n",
              "      fill: #1967D2;\n",
              "      height: 32px;\n",
              "      padding: 0 0 0 0;\n",
              "      width: 32px;\n",
              "    }\n",
              "\n",
              "    .colab-df-convert:hover {\n",
              "      background-color: #E2EBFA;\n",
              "      box-shadow: 0px 1px 2px rgba(60, 64, 67, 0.3), 0px 1px 3px 1px rgba(60, 64, 67, 0.15);\n",
              "      fill: #174EA6;\n",
              "    }\n",
              "\n",
              "    .colab-df-buttons div {\n",
              "      margin-bottom: 4px;\n",
              "    }\n",
              "\n",
              "    [theme=dark] .colab-df-convert {\n",
              "      background-color: #3B4455;\n",
              "      fill: #D2E3FC;\n",
              "    }\n",
              "\n",
              "    [theme=dark] .colab-df-convert:hover {\n",
              "      background-color: #434B5C;\n",
              "      box-shadow: 0px 1px 3px 1px rgba(0, 0, 0, 0.15);\n",
              "      filter: drop-shadow(0px 1px 2px rgba(0, 0, 0, 0.3));\n",
              "      fill: #FFFFFF;\n",
              "    }\n",
              "  </style>\n",
              "\n",
              "    <script>\n",
              "      const buttonEl =\n",
              "        document.querySelector('#df-dbae1f3b-5087-478c-9750-560012eb534f button.colab-df-convert');\n",
              "      buttonEl.style.display =\n",
              "        google.colab.kernel.accessAllowed ? 'block' : 'none';\n",
              "\n",
              "      async function convertToInteractive(key) {\n",
              "        const element = document.querySelector('#df-dbae1f3b-5087-478c-9750-560012eb534f');\n",
              "        const dataTable =\n",
              "          await google.colab.kernel.invokeFunction('convertToInteractive',\n",
              "                                                    [key], {});\n",
              "        if (!dataTable) return;\n",
              "\n",
              "        const docLinkHtml = 'Like what you see? Visit the ' +\n",
              "          '<a target=\"_blank\" href=https://colab.research.google.com/notebooks/data_table.ipynb>data table notebook</a>'\n",
              "          + ' to learn more about interactive tables.';\n",
              "        element.innerHTML = '';\n",
              "        dataTable['output_type'] = 'display_data';\n",
              "        await google.colab.output.renderOutput(dataTable, element);\n",
              "        const docLink = document.createElement('div');\n",
              "        docLink.innerHTML = docLinkHtml;\n",
              "        element.appendChild(docLink);\n",
              "      }\n",
              "    </script>\n",
              "  </div>\n",
              "\n",
              "\n",
              "<div id=\"df-6140dc29-6d31-46aa-8ab6-48ce53f7e579\">\n",
              "  <button class=\"colab-df-quickchart\" onclick=\"quickchart('df-6140dc29-6d31-46aa-8ab6-48ce53f7e579')\"\n",
              "            title=\"Suggest charts\"\n",
              "            style=\"display:none;\">\n",
              "\n",
              "<svg xmlns=\"http://www.w3.org/2000/svg\" height=\"24px\"viewBox=\"0 0 24 24\"\n",
              "     width=\"24px\">\n",
              "    <g>\n",
              "        <path d=\"M19 3H5c-1.1 0-2 .9-2 2v14c0 1.1.9 2 2 2h14c1.1 0 2-.9 2-2V5c0-1.1-.9-2-2-2zM9 17H7v-7h2v7zm4 0h-2V7h2v10zm4 0h-2v-4h2v4z\"/>\n",
              "    </g>\n",
              "</svg>\n",
              "  </button>\n",
              "\n",
              "<style>\n",
              "  .colab-df-quickchart {\n",
              "      --bg-color: #E8F0FE;\n",
              "      --fill-color: #1967D2;\n",
              "      --hover-bg-color: #E2EBFA;\n",
              "      --hover-fill-color: #174EA6;\n",
              "      --disabled-fill-color: #AAA;\n",
              "      --disabled-bg-color: #DDD;\n",
              "  }\n",
              "\n",
              "  [theme=dark] .colab-df-quickchart {\n",
              "      --bg-color: #3B4455;\n",
              "      --fill-color: #D2E3FC;\n",
              "      --hover-bg-color: #434B5C;\n",
              "      --hover-fill-color: #FFFFFF;\n",
              "      --disabled-bg-color: #3B4455;\n",
              "      --disabled-fill-color: #666;\n",
              "  }\n",
              "\n",
              "  .colab-df-quickchart {\n",
              "    background-color: var(--bg-color);\n",
              "    border: none;\n",
              "    border-radius: 50%;\n",
              "    cursor: pointer;\n",
              "    display: none;\n",
              "    fill: var(--fill-color);\n",
              "    height: 32px;\n",
              "    padding: 0;\n",
              "    width: 32px;\n",
              "  }\n",
              "\n",
              "  .colab-df-quickchart:hover {\n",
              "    background-color: var(--hover-bg-color);\n",
              "    box-shadow: 0 1px 2px rgba(60, 64, 67, 0.3), 0 1px 3px 1px rgba(60, 64, 67, 0.15);\n",
              "    fill: var(--button-hover-fill-color);\n",
              "  }\n",
              "\n",
              "  .colab-df-quickchart-complete:disabled,\n",
              "  .colab-df-quickchart-complete:disabled:hover {\n",
              "    background-color: var(--disabled-bg-color);\n",
              "    fill: var(--disabled-fill-color);\n",
              "    box-shadow: none;\n",
              "  }\n",
              "\n",
              "  .colab-df-spinner {\n",
              "    border: 2px solid var(--fill-color);\n",
              "    border-color: transparent;\n",
              "    border-bottom-color: var(--fill-color);\n",
              "    animation:\n",
              "      spin 1s steps(1) infinite;\n",
              "  }\n",
              "\n",
              "  @keyframes spin {\n",
              "    0% {\n",
              "      border-color: transparent;\n",
              "      border-bottom-color: var(--fill-color);\n",
              "      border-left-color: var(--fill-color);\n",
              "    }\n",
              "    20% {\n",
              "      border-color: transparent;\n",
              "      border-left-color: var(--fill-color);\n",
              "      border-top-color: var(--fill-color);\n",
              "    }\n",
              "    30% {\n",
              "      border-color: transparent;\n",
              "      border-left-color: var(--fill-color);\n",
              "      border-top-color: var(--fill-color);\n",
              "      border-right-color: var(--fill-color);\n",
              "    }\n",
              "    40% {\n",
              "      border-color: transparent;\n",
              "      border-right-color: var(--fill-color);\n",
              "      border-top-color: var(--fill-color);\n",
              "    }\n",
              "    60% {\n",
              "      border-color: transparent;\n",
              "      border-right-color: var(--fill-color);\n",
              "    }\n",
              "    80% {\n",
              "      border-color: transparent;\n",
              "      border-right-color: var(--fill-color);\n",
              "      border-bottom-color: var(--fill-color);\n",
              "    }\n",
              "    90% {\n",
              "      border-color: transparent;\n",
              "      border-bottom-color: var(--fill-color);\n",
              "    }\n",
              "  }\n",
              "</style>\n",
              "\n",
              "  <script>\n",
              "    async function quickchart(key) {\n",
              "      const quickchartButtonEl =\n",
              "        document.querySelector('#' + key + ' button');\n",
              "      quickchartButtonEl.disabled = true;  // To prevent multiple clicks.\n",
              "      quickchartButtonEl.classList.add('colab-df-spinner');\n",
              "      try {\n",
              "        const charts = await google.colab.kernel.invokeFunction(\n",
              "            'suggestCharts', [key], {});\n",
              "      } catch (error) {\n",
              "        console.error('Error during call to suggestCharts:', error);\n",
              "      }\n",
              "      quickchartButtonEl.classList.remove('colab-df-spinner');\n",
              "      quickchartButtonEl.classList.add('colab-df-quickchart-complete');\n",
              "    }\n",
              "    (() => {\n",
              "      let quickchartButtonEl =\n",
              "        document.querySelector('#df-6140dc29-6d31-46aa-8ab6-48ce53f7e579 button');\n",
              "      quickchartButtonEl.style.display =\n",
              "        google.colab.kernel.accessAllowed ? 'block' : 'none';\n",
              "    })();\n",
              "  </script>\n",
              "</div>\n",
              "    </div>\n",
              "  </div>\n"
            ],
            "application/vnd.google.colaboratory.intrinsic+json": {
              "type": "dataframe",
              "variable_name": "df",
              "summary": "{\n  \"name\": \"df\",\n  \"rows\": 88,\n  \"fields\": [\n    {\n      \"column\": \"Unnamed: 0\",\n      \"properties\": {\n        \"dtype\": \"number\",\n        \"std\": 25,\n        \"min\": 1,\n        \"max\": 88,\n        \"num_unique_values\": 88,\n        \"samples\": [\n          77,\n          1,\n          27\n        ],\n        \"semantic_type\": \"\",\n        \"description\": \"\"\n      }\n    },\n    {\n      \"column\": \"sex\",\n      \"properties\": {\n        \"dtype\": \"category\",\n        \"num_unique_values\": 2,\n        \"samples\": [\n          \"Male\",\n          \"Female\"\n        ],\n        \"semantic_type\": \"\",\n        \"description\": \"\"\n      }\n    },\n    {\n      \"column\": \"diagnosis\",\n      \"properties\": {\n        \"dtype\": \"category\",\n        \"num_unique_values\": 4,\n        \"samples\": [\n          \"HG glioma\",\n          \"Other\"\n        ],\n        \"semantic_type\": \"\",\n        \"description\": \"\"\n      }\n    },\n    {\n      \"column\": \"loc\",\n      \"properties\": {\n        \"dtype\": \"category\",\n        \"num_unique_values\": 2,\n        \"samples\": [\n          \"Supratentorial\",\n          \"Infratentorial\"\n        ],\n        \"semantic_type\": \"\",\n        \"description\": \"\"\n      }\n    },\n    {\n      \"column\": \"ki\",\n      \"properties\": {\n        \"dtype\": \"number\",\n        \"std\": 10,\n        \"min\": 40,\n        \"max\": 100,\n        \"num_unique_values\": 6,\n        \"samples\": [\n          90,\n          70\n        ],\n        \"semantic_type\": \"\",\n        \"description\": \"\"\n      }\n    },\n    {\n      \"column\": \"gtv\",\n      \"properties\": {\n        \"dtype\": \"number\",\n        \"std\": 8.657576207967256,\n        \"min\": 0.01,\n        \"max\": 34.64,\n        \"num_unique_values\": 84,\n        \"samples\": [\n          2.39,\n          6.11\n        ],\n        \"semantic_type\": \"\",\n        \"description\": \"\"\n      }\n    },\n    {\n      \"column\": \"status\",\n      \"properties\": {\n        \"dtype\": \"number\",\n        \"std\": 0,\n        \"min\": 0,\n        \"max\": 1,\n        \"num_unique_values\": 2,\n        \"samples\": [\n          1,\n          0\n        ],\n        \"semantic_type\": \"\",\n        \"description\": \"\"\n      }\n    }\n  ]\n}"
            }
          },
          "metadata": {},
          "execution_count": 3
        }
      ]
    },
    {
      "cell_type": "markdown",
      "source": [
        "# Data Visualization & Preprocessing"
      ],
      "metadata": {
        "id": "GzEav6HC5Bvr"
      }
    },
    {
      "cell_type": "code",
      "source": [
        "print(\"Shape of the Data: \", df.shape )"
      ],
      "metadata": {
        "colab": {
          "base_uri": "https://localhost:8080/"
        },
        "id": "tl_fO9h_m7p3",
        "outputId": "f599e587-3971-4f76-93b2-72eafaff7144"
      },
      "execution_count": 5,
      "outputs": [
        {
          "output_type": "stream",
          "name": "stdout",
          "text": [
            "Shape of the Data:  (88, 7)\n"
          ]
        }
      ]
    },
    {
      "cell_type": "code",
      "source": [
        "df.info()"
      ],
      "metadata": {
        "id": "mOt5upXslv_S",
        "colab": {
          "base_uri": "https://localhost:8080/"
        },
        "outputId": "ee92528f-8f87-4264-8f1e-d2826cadfbd8"
      },
      "execution_count": 6,
      "outputs": [
        {
          "output_type": "stream",
          "name": "stdout",
          "text": [
            "<class 'pandas.core.frame.DataFrame'>\n",
            "RangeIndex: 88 entries, 0 to 87\n",
            "Data columns (total 7 columns):\n",
            " #   Column      Non-Null Count  Dtype  \n",
            "---  ------      --------------  -----  \n",
            " 0   Unnamed: 0  88 non-null     int64  \n",
            " 1   sex         88 non-null     object \n",
            " 2   diagnosis   87 non-null     object \n",
            " 3   loc         88 non-null     object \n",
            " 4   ki          88 non-null     int64  \n",
            " 5   gtv         88 non-null     float64\n",
            " 6   status      88 non-null     int64  \n",
            "dtypes: float64(1), int64(3), object(3)\n",
            "memory usage: 4.9+ KB\n"
          ]
        }
      ]
    },
    {
      "cell_type": "code",
      "source": [
        "df['ki'] = df['ki'].astype('float64')\n",
        "df['status'] = df['status'].astype('float64')"
      ],
      "metadata": {
        "id": "UKWh4owYmzhX"
      },
      "execution_count": 7,
      "outputs": []
    },
    {
      "cell_type": "code",
      "source": [
        "df.info()"
      ],
      "metadata": {
        "colab": {
          "base_uri": "https://localhost:8080/"
        },
        "id": "fVph7v9SpNlu",
        "outputId": "aab89474-78d3-4e5f-c6f0-56c6c5c5532c"
      },
      "execution_count": 8,
      "outputs": [
        {
          "output_type": "stream",
          "name": "stdout",
          "text": [
            "<class 'pandas.core.frame.DataFrame'>\n",
            "RangeIndex: 88 entries, 0 to 87\n",
            "Data columns (total 7 columns):\n",
            " #   Column      Non-Null Count  Dtype  \n",
            "---  ------      --------------  -----  \n",
            " 0   Unnamed: 0  88 non-null     int64  \n",
            " 1   sex         88 non-null     object \n",
            " 2   diagnosis   87 non-null     object \n",
            " 3   loc         88 non-null     object \n",
            " 4   ki          88 non-null     float64\n",
            " 5   gtv         88 non-null     float64\n",
            " 6   status      88 non-null     float64\n",
            "dtypes: float64(3), int64(1), object(3)\n",
            "memory usage: 4.9+ KB\n"
          ]
        }
      ]
    },
    {
      "cell_type": "code",
      "source": [
        "df.drop(df.columns[0], axis=1, inplace=True)"
      ],
      "metadata": {
        "id": "yYQNAU-Xplki"
      },
      "execution_count": 9,
      "outputs": []
    },
    {
      "cell_type": "code",
      "source": [
        "df.head()"
      ],
      "metadata": {
        "colab": {
          "base_uri": "https://localhost:8080/",
          "height": 0
        },
        "id": "lE7MhTdkrLpA",
        "outputId": "a49c2648-e039-4c36-f89d-677b06faae96"
      },
      "execution_count": 10,
      "outputs": [
        {
          "output_type": "execute_result",
          "data": {
            "text/plain": [
              "      sex   diagnosis             loc    ki    gtv  status\n",
              "0  Female  Meningioma  Infratentorial  90.0   6.11     0.0\n",
              "1    Male   HG glioma  Supratentorial  90.0  19.35     1.0\n",
              "2  Female  Meningioma  Infratentorial  70.0   7.95     0.0\n",
              "3  Female   LG glioma  Supratentorial  80.0   7.61     1.0\n",
              "4    Male   HG glioma  Supratentorial  90.0   5.06     1.0"
            ],
            "text/html": [
              "\n",
              "  <div id=\"df-782ce77e-0280-49aa-bd3f-e7a09aa7c3de\" class=\"colab-df-container\">\n",
              "    <div>\n",
              "<style scoped>\n",
              "    .dataframe tbody tr th:only-of-type {\n",
              "        vertical-align: middle;\n",
              "    }\n",
              "\n",
              "    .dataframe tbody tr th {\n",
              "        vertical-align: top;\n",
              "    }\n",
              "\n",
              "    .dataframe thead th {\n",
              "        text-align: right;\n",
              "    }\n",
              "</style>\n",
              "<table border=\"1\" class=\"dataframe\">\n",
              "  <thead>\n",
              "    <tr style=\"text-align: right;\">\n",
              "      <th></th>\n",
              "      <th>sex</th>\n",
              "      <th>diagnosis</th>\n",
              "      <th>loc</th>\n",
              "      <th>ki</th>\n",
              "      <th>gtv</th>\n",
              "      <th>status</th>\n",
              "    </tr>\n",
              "  </thead>\n",
              "  <tbody>\n",
              "    <tr>\n",
              "      <th>0</th>\n",
              "      <td>Female</td>\n",
              "      <td>Meningioma</td>\n",
              "      <td>Infratentorial</td>\n",
              "      <td>90.0</td>\n",
              "      <td>6.11</td>\n",
              "      <td>0.0</td>\n",
              "    </tr>\n",
              "    <tr>\n",
              "      <th>1</th>\n",
              "      <td>Male</td>\n",
              "      <td>HG glioma</td>\n",
              "      <td>Supratentorial</td>\n",
              "      <td>90.0</td>\n",
              "      <td>19.35</td>\n",
              "      <td>1.0</td>\n",
              "    </tr>\n",
              "    <tr>\n",
              "      <th>2</th>\n",
              "      <td>Female</td>\n",
              "      <td>Meningioma</td>\n",
              "      <td>Infratentorial</td>\n",
              "      <td>70.0</td>\n",
              "      <td>7.95</td>\n",
              "      <td>0.0</td>\n",
              "    </tr>\n",
              "    <tr>\n",
              "      <th>3</th>\n",
              "      <td>Female</td>\n",
              "      <td>LG glioma</td>\n",
              "      <td>Supratentorial</td>\n",
              "      <td>80.0</td>\n",
              "      <td>7.61</td>\n",
              "      <td>1.0</td>\n",
              "    </tr>\n",
              "    <tr>\n",
              "      <th>4</th>\n",
              "      <td>Male</td>\n",
              "      <td>HG glioma</td>\n",
              "      <td>Supratentorial</td>\n",
              "      <td>90.0</td>\n",
              "      <td>5.06</td>\n",
              "      <td>1.0</td>\n",
              "    </tr>\n",
              "  </tbody>\n",
              "</table>\n",
              "</div>\n",
              "    <div class=\"colab-df-buttons\">\n",
              "\n",
              "  <div class=\"colab-df-container\">\n",
              "    <button class=\"colab-df-convert\" onclick=\"convertToInteractive('df-782ce77e-0280-49aa-bd3f-e7a09aa7c3de')\"\n",
              "            title=\"Convert this dataframe to an interactive table.\"\n",
              "            style=\"display:none;\">\n",
              "\n",
              "  <svg xmlns=\"http://www.w3.org/2000/svg\" height=\"24px\" viewBox=\"0 -960 960 960\">\n",
              "    <path d=\"M120-120v-720h720v720H120Zm60-500h600v-160H180v160Zm220 220h160v-160H400v160Zm0 220h160v-160H400v160ZM180-400h160v-160H180v160Zm440 0h160v-160H620v160ZM180-180h160v-160H180v160Zm440 0h160v-160H620v160Z\"/>\n",
              "  </svg>\n",
              "    </button>\n",
              "\n",
              "  <style>\n",
              "    .colab-df-container {\n",
              "      display:flex;\n",
              "      gap: 12px;\n",
              "    }\n",
              "\n",
              "    .colab-df-convert {\n",
              "      background-color: #E8F0FE;\n",
              "      border: none;\n",
              "      border-radius: 50%;\n",
              "      cursor: pointer;\n",
              "      display: none;\n",
              "      fill: #1967D2;\n",
              "      height: 32px;\n",
              "      padding: 0 0 0 0;\n",
              "      width: 32px;\n",
              "    }\n",
              "\n",
              "    .colab-df-convert:hover {\n",
              "      background-color: #E2EBFA;\n",
              "      box-shadow: 0px 1px 2px rgba(60, 64, 67, 0.3), 0px 1px 3px 1px rgba(60, 64, 67, 0.15);\n",
              "      fill: #174EA6;\n",
              "    }\n",
              "\n",
              "    .colab-df-buttons div {\n",
              "      margin-bottom: 4px;\n",
              "    }\n",
              "\n",
              "    [theme=dark] .colab-df-convert {\n",
              "      background-color: #3B4455;\n",
              "      fill: #D2E3FC;\n",
              "    }\n",
              "\n",
              "    [theme=dark] .colab-df-convert:hover {\n",
              "      background-color: #434B5C;\n",
              "      box-shadow: 0px 1px 3px 1px rgba(0, 0, 0, 0.15);\n",
              "      filter: drop-shadow(0px 1px 2px rgba(0, 0, 0, 0.3));\n",
              "      fill: #FFFFFF;\n",
              "    }\n",
              "  </style>\n",
              "\n",
              "    <script>\n",
              "      const buttonEl =\n",
              "        document.querySelector('#df-782ce77e-0280-49aa-bd3f-e7a09aa7c3de button.colab-df-convert');\n",
              "      buttonEl.style.display =\n",
              "        google.colab.kernel.accessAllowed ? 'block' : 'none';\n",
              "\n",
              "      async function convertToInteractive(key) {\n",
              "        const element = document.querySelector('#df-782ce77e-0280-49aa-bd3f-e7a09aa7c3de');\n",
              "        const dataTable =\n",
              "          await google.colab.kernel.invokeFunction('convertToInteractive',\n",
              "                                                    [key], {});\n",
              "        if (!dataTable) return;\n",
              "\n",
              "        const docLinkHtml = 'Like what you see? Visit the ' +\n",
              "          '<a target=\"_blank\" href=https://colab.research.google.com/notebooks/data_table.ipynb>data table notebook</a>'\n",
              "          + ' to learn more about interactive tables.';\n",
              "        element.innerHTML = '';\n",
              "        dataTable['output_type'] = 'display_data';\n",
              "        await google.colab.output.renderOutput(dataTable, element);\n",
              "        const docLink = document.createElement('div');\n",
              "        docLink.innerHTML = docLinkHtml;\n",
              "        element.appendChild(docLink);\n",
              "      }\n",
              "    </script>\n",
              "  </div>\n",
              "\n",
              "\n",
              "<div id=\"df-e03c547a-57a9-4bb9-95bd-0954104c5cb3\">\n",
              "  <button class=\"colab-df-quickchart\" onclick=\"quickchart('df-e03c547a-57a9-4bb9-95bd-0954104c5cb3')\"\n",
              "            title=\"Suggest charts\"\n",
              "            style=\"display:none;\">\n",
              "\n",
              "<svg xmlns=\"http://www.w3.org/2000/svg\" height=\"24px\"viewBox=\"0 0 24 24\"\n",
              "     width=\"24px\">\n",
              "    <g>\n",
              "        <path d=\"M19 3H5c-1.1 0-2 .9-2 2v14c0 1.1.9 2 2 2h14c1.1 0 2-.9 2-2V5c0-1.1-.9-2-2-2zM9 17H7v-7h2v7zm4 0h-2V7h2v10zm4 0h-2v-4h2v4z\"/>\n",
              "    </g>\n",
              "</svg>\n",
              "  </button>\n",
              "\n",
              "<style>\n",
              "  .colab-df-quickchart {\n",
              "      --bg-color: #E8F0FE;\n",
              "      --fill-color: #1967D2;\n",
              "      --hover-bg-color: #E2EBFA;\n",
              "      --hover-fill-color: #174EA6;\n",
              "      --disabled-fill-color: #AAA;\n",
              "      --disabled-bg-color: #DDD;\n",
              "  }\n",
              "\n",
              "  [theme=dark] .colab-df-quickchart {\n",
              "      --bg-color: #3B4455;\n",
              "      --fill-color: #D2E3FC;\n",
              "      --hover-bg-color: #434B5C;\n",
              "      --hover-fill-color: #FFFFFF;\n",
              "      --disabled-bg-color: #3B4455;\n",
              "      --disabled-fill-color: #666;\n",
              "  }\n",
              "\n",
              "  .colab-df-quickchart {\n",
              "    background-color: var(--bg-color);\n",
              "    border: none;\n",
              "    border-radius: 50%;\n",
              "    cursor: pointer;\n",
              "    display: none;\n",
              "    fill: var(--fill-color);\n",
              "    height: 32px;\n",
              "    padding: 0;\n",
              "    width: 32px;\n",
              "  }\n",
              "\n",
              "  .colab-df-quickchart:hover {\n",
              "    background-color: var(--hover-bg-color);\n",
              "    box-shadow: 0 1px 2px rgba(60, 64, 67, 0.3), 0 1px 3px 1px rgba(60, 64, 67, 0.15);\n",
              "    fill: var(--button-hover-fill-color);\n",
              "  }\n",
              "\n",
              "  .colab-df-quickchart-complete:disabled,\n",
              "  .colab-df-quickchart-complete:disabled:hover {\n",
              "    background-color: var(--disabled-bg-color);\n",
              "    fill: var(--disabled-fill-color);\n",
              "    box-shadow: none;\n",
              "  }\n",
              "\n",
              "  .colab-df-spinner {\n",
              "    border: 2px solid var(--fill-color);\n",
              "    border-color: transparent;\n",
              "    border-bottom-color: var(--fill-color);\n",
              "    animation:\n",
              "      spin 1s steps(1) infinite;\n",
              "  }\n",
              "\n",
              "  @keyframes spin {\n",
              "    0% {\n",
              "      border-color: transparent;\n",
              "      border-bottom-color: var(--fill-color);\n",
              "      border-left-color: var(--fill-color);\n",
              "    }\n",
              "    20% {\n",
              "      border-color: transparent;\n",
              "      border-left-color: var(--fill-color);\n",
              "      border-top-color: var(--fill-color);\n",
              "    }\n",
              "    30% {\n",
              "      border-color: transparent;\n",
              "      border-left-color: var(--fill-color);\n",
              "      border-top-color: var(--fill-color);\n",
              "      border-right-color: var(--fill-color);\n",
              "    }\n",
              "    40% {\n",
              "      border-color: transparent;\n",
              "      border-right-color: var(--fill-color);\n",
              "      border-top-color: var(--fill-color);\n",
              "    }\n",
              "    60% {\n",
              "      border-color: transparent;\n",
              "      border-right-color: var(--fill-color);\n",
              "    }\n",
              "    80% {\n",
              "      border-color: transparent;\n",
              "      border-right-color: var(--fill-color);\n",
              "      border-bottom-color: var(--fill-color);\n",
              "    }\n",
              "    90% {\n",
              "      border-color: transparent;\n",
              "      border-bottom-color: var(--fill-color);\n",
              "    }\n",
              "  }\n",
              "</style>\n",
              "\n",
              "  <script>\n",
              "    async function quickchart(key) {\n",
              "      const quickchartButtonEl =\n",
              "        document.querySelector('#' + key + ' button');\n",
              "      quickchartButtonEl.disabled = true;  // To prevent multiple clicks.\n",
              "      quickchartButtonEl.classList.add('colab-df-spinner');\n",
              "      try {\n",
              "        const charts = await google.colab.kernel.invokeFunction(\n",
              "            'suggestCharts', [key], {});\n",
              "      } catch (error) {\n",
              "        console.error('Error during call to suggestCharts:', error);\n",
              "      }\n",
              "      quickchartButtonEl.classList.remove('colab-df-spinner');\n",
              "      quickchartButtonEl.classList.add('colab-df-quickchart-complete');\n",
              "    }\n",
              "    (() => {\n",
              "      let quickchartButtonEl =\n",
              "        document.querySelector('#df-e03c547a-57a9-4bb9-95bd-0954104c5cb3 button');\n",
              "      quickchartButtonEl.style.display =\n",
              "        google.colab.kernel.accessAllowed ? 'block' : 'none';\n",
              "    })();\n",
              "  </script>\n",
              "</div>\n",
              "    </div>\n",
              "  </div>\n"
            ],
            "application/vnd.google.colaboratory.intrinsic+json": {
              "type": "dataframe",
              "variable_name": "df",
              "summary": "{\n  \"name\": \"df\",\n  \"rows\": 88,\n  \"fields\": [\n    {\n      \"column\": \"sex\",\n      \"properties\": {\n        \"dtype\": \"category\",\n        \"num_unique_values\": 2,\n        \"samples\": [\n          \"Male\",\n          \"Female\"\n        ],\n        \"semantic_type\": \"\",\n        \"description\": \"\"\n      }\n    },\n    {\n      \"column\": \"diagnosis\",\n      \"properties\": {\n        \"dtype\": \"category\",\n        \"num_unique_values\": 4,\n        \"samples\": [\n          \"HG glioma\",\n          \"Other\"\n        ],\n        \"semantic_type\": \"\",\n        \"description\": \"\"\n      }\n    },\n    {\n      \"column\": \"loc\",\n      \"properties\": {\n        \"dtype\": \"category\",\n        \"num_unique_values\": 2,\n        \"samples\": [\n          \"Supratentorial\",\n          \"Infratentorial\"\n        ],\n        \"semantic_type\": \"\",\n        \"description\": \"\"\n      }\n    },\n    {\n      \"column\": \"ki\",\n      \"properties\": {\n        \"dtype\": \"number\",\n        \"std\": 10.508865740086115,\n        \"min\": 40.0,\n        \"max\": 100.0,\n        \"num_unique_values\": 6,\n        \"samples\": [\n          90.0,\n          70.0\n        ],\n        \"semantic_type\": \"\",\n        \"description\": \"\"\n      }\n    },\n    {\n      \"column\": \"gtv\",\n      \"properties\": {\n        \"dtype\": \"number\",\n        \"std\": 8.657576207967256,\n        \"min\": 0.01,\n        \"max\": 34.64,\n        \"num_unique_values\": 84,\n        \"samples\": [\n          2.39,\n          6.11\n        ],\n        \"semantic_type\": \"\",\n        \"description\": \"\"\n      }\n    },\n    {\n      \"column\": \"status\",\n      \"properties\": {\n        \"dtype\": \"number\",\n        \"std\": 0.49223330435304313,\n        \"min\": 0.0,\n        \"max\": 1.0,\n        \"num_unique_values\": 2,\n        \"samples\": [\n          1.0,\n          0.0\n        ],\n        \"semantic_type\": \"\",\n        \"description\": \"\"\n      }\n    }\n  ]\n}"
            }
          },
          "metadata": {},
          "execution_count": 10
        }
      ]
    },
    {
      "cell_type": "code",
      "source": [
        "for column in df.columns:\n",
        "    total = df[column].isnull().sum()\n",
        "    print(f\"Column '{column}' has {total} null values\")\n",
        "    print(\"\\n\")"
      ],
      "metadata": {
        "colab": {
          "base_uri": "https://localhost:8080/"
        },
        "id": "E_DANVtTrTVA",
        "outputId": "4dc4d16b-1dda-4398-bbba-b425b2e49ed3"
      },
      "execution_count": 11,
      "outputs": [
        {
          "output_type": "stream",
          "name": "stdout",
          "text": [
            "Column 'sex' has 0 null values\n",
            "\n",
            "\n",
            "Column 'diagnosis' has 1 null values\n",
            "\n",
            "\n",
            "Column 'loc' has 0 null values\n",
            "\n",
            "\n",
            "Column 'ki' has 0 null values\n",
            "\n",
            "\n",
            "Column 'gtv' has 0 null values\n",
            "\n",
            "\n",
            "Column 'status' has 0 null values\n",
            "\n",
            "\n"
          ]
        }
      ]
    },
    {
      "cell_type": "code",
      "source": [
        "df.dropna(subset=['diagnosis'], inplace=True)\n",
        "print(\"Number of null values in 'diagnosis' column after dropping:\", df['diagnosis'].isnull().sum())"
      ],
      "metadata": {
        "colab": {
          "base_uri": "https://localhost:8080/"
        },
        "id": "Fm8IYwv7sO6h",
        "outputId": "cf8d7a38-251e-422a-a6da-04071d4104dc"
      },
      "execution_count": 12,
      "outputs": [
        {
          "output_type": "stream",
          "name": "stdout",
          "text": [
            "Number of null values in 'diagnosis' column after dropping: 0\n"
          ]
        }
      ]
    },
    {
      "cell_type": "code",
      "source": [
        "print(df['loc'].value_counts())\n",
        "print(df['sex'].value_counts())\n",
        "print(df['diagnosis'].value_counts())"
      ],
      "metadata": {
        "colab": {
          "base_uri": "https://localhost:8080/"
        },
        "id": "wJYT99uKnppa",
        "outputId": "6ff63ed6-b0c5-492a-97f7-b8a62b2446c0"
      },
      "execution_count": 13,
      "outputs": [
        {
          "output_type": "stream",
          "name": "stdout",
          "text": [
            "loc\n",
            "Supratentorial    68\n",
            "Infratentorial    19\n",
            "Name: count, dtype: int64\n",
            "sex\n",
            "Female    45\n",
            "Male      42\n",
            "Name: count, dtype: int64\n",
            "diagnosis\n",
            "Meningioma    42\n",
            "HG glioma     22\n",
            "Other         14\n",
            "LG glioma      9\n",
            "Name: count, dtype: int64\n"
          ]
        }
      ]
    },
    {
      "cell_type": "markdown",
      "source": [
        "# Label Encoding & One Hot Encoding"
      ],
      "metadata": {
        "id": "9_ku8DaH49mT"
      }
    },
    {
      "cell_type": "code",
      "source": [
        "from sklearn.preprocessing import LabelEncoder,OneHotEncoder\n",
        "label_enc=LabelEncoder()\n",
        "df['sex'] = label_enc.fit_transform(df['sex'])\n",
        "df['loc'] = label_enc.fit_transform(df['loc'])\n",
        "df['diagnosis'] = label_enc.fit_transform(df['diagnosis'])"
      ],
      "metadata": {
        "id": "bd9B4sXaUpCU"
      },
      "execution_count": 14,
      "outputs": []
    },
    {
      "cell_type": "code",
      "source": [
        "'''one_hot_enc = OneHotEncoder(sparse_output=False, drop='first')\n",
        "diagnosis_encoded = one_hot_enc.fit_transform(df[['diagnosis']])\n",
        "diagnosis_categories = one_hot_enc.categories_[0]\n",
        "diagnosis_columns = [f'diagnosis_{category}' for category in diagnosis_categories[1:]]\n",
        "diagnosis_df = pd.DataFrame(diagnosis_encoded, columns=diagnosis_columns)\n",
        "df = pd.concat([df, diagnosis_df], axis=1)'''"
      ],
      "metadata": {
        "id": "kD-8BoPsol2D"
      },
      "execution_count": null,
      "outputs": []
    },
    {
      "cell_type": "code",
      "source": [
        "#df.dropna(inplace = True)"
      ],
      "metadata": {
        "id": "jRB2sTJBu7zE"
      },
      "execution_count": null,
      "outputs": []
    },
    {
      "cell_type": "code",
      "source": [
        "'''for column in df.columns:\n",
        "    total = df[column].isnull().sum()\n",
        "    print(f\"Column '{column}' has {total} null values\")\n",
        "    print(\"\\n\")'''"
      ],
      "metadata": {
        "id": "HrgzVOm4u-vK"
      },
      "execution_count": null,
      "outputs": []
    },
    {
      "cell_type": "code",
      "source": [
        "df.head()"
      ],
      "metadata": {
        "colab": {
          "base_uri": "https://localhost:8080/",
          "height": 206
        },
        "id": "o9MhyVVWcNnl",
        "outputId": "a000b00e-3a61-4e50-8059-e924e1366cc4"
      },
      "execution_count": 15,
      "outputs": [
        {
          "output_type": "execute_result",
          "data": {
            "text/plain": [
              "   sex  diagnosis  loc    ki    gtv  status\n",
              "0    0          2    0  90.0   6.11     0.0\n",
              "1    1          0    1  90.0  19.35     1.0\n",
              "2    0          2    0  70.0   7.95     0.0\n",
              "3    0          1    1  80.0   7.61     1.0\n",
              "4    1          0    1  90.0   5.06     1.0"
            ],
            "text/html": [
              "\n",
              "  <div id=\"df-8ff23dfc-6cfd-471d-b0a5-f9ba6eb0dcdd\" class=\"colab-df-container\">\n",
              "    <div>\n",
              "<style scoped>\n",
              "    .dataframe tbody tr th:only-of-type {\n",
              "        vertical-align: middle;\n",
              "    }\n",
              "\n",
              "    .dataframe tbody tr th {\n",
              "        vertical-align: top;\n",
              "    }\n",
              "\n",
              "    .dataframe thead th {\n",
              "        text-align: right;\n",
              "    }\n",
              "</style>\n",
              "<table border=\"1\" class=\"dataframe\">\n",
              "  <thead>\n",
              "    <tr style=\"text-align: right;\">\n",
              "      <th></th>\n",
              "      <th>sex</th>\n",
              "      <th>diagnosis</th>\n",
              "      <th>loc</th>\n",
              "      <th>ki</th>\n",
              "      <th>gtv</th>\n",
              "      <th>status</th>\n",
              "    </tr>\n",
              "  </thead>\n",
              "  <tbody>\n",
              "    <tr>\n",
              "      <th>0</th>\n",
              "      <td>0</td>\n",
              "      <td>2</td>\n",
              "      <td>0</td>\n",
              "      <td>90.0</td>\n",
              "      <td>6.11</td>\n",
              "      <td>0.0</td>\n",
              "    </tr>\n",
              "    <tr>\n",
              "      <th>1</th>\n",
              "      <td>1</td>\n",
              "      <td>0</td>\n",
              "      <td>1</td>\n",
              "      <td>90.0</td>\n",
              "      <td>19.35</td>\n",
              "      <td>1.0</td>\n",
              "    </tr>\n",
              "    <tr>\n",
              "      <th>2</th>\n",
              "      <td>0</td>\n",
              "      <td>2</td>\n",
              "      <td>0</td>\n",
              "      <td>70.0</td>\n",
              "      <td>7.95</td>\n",
              "      <td>0.0</td>\n",
              "    </tr>\n",
              "    <tr>\n",
              "      <th>3</th>\n",
              "      <td>0</td>\n",
              "      <td>1</td>\n",
              "      <td>1</td>\n",
              "      <td>80.0</td>\n",
              "      <td>7.61</td>\n",
              "      <td>1.0</td>\n",
              "    </tr>\n",
              "    <tr>\n",
              "      <th>4</th>\n",
              "      <td>1</td>\n",
              "      <td>0</td>\n",
              "      <td>1</td>\n",
              "      <td>90.0</td>\n",
              "      <td>5.06</td>\n",
              "      <td>1.0</td>\n",
              "    </tr>\n",
              "  </tbody>\n",
              "</table>\n",
              "</div>\n",
              "    <div class=\"colab-df-buttons\">\n",
              "\n",
              "  <div class=\"colab-df-container\">\n",
              "    <button class=\"colab-df-convert\" onclick=\"convertToInteractive('df-8ff23dfc-6cfd-471d-b0a5-f9ba6eb0dcdd')\"\n",
              "            title=\"Convert this dataframe to an interactive table.\"\n",
              "            style=\"display:none;\">\n",
              "\n",
              "  <svg xmlns=\"http://www.w3.org/2000/svg\" height=\"24px\" viewBox=\"0 -960 960 960\">\n",
              "    <path d=\"M120-120v-720h720v720H120Zm60-500h600v-160H180v160Zm220 220h160v-160H400v160Zm0 220h160v-160H400v160ZM180-400h160v-160H180v160Zm440 0h160v-160H620v160ZM180-180h160v-160H180v160Zm440 0h160v-160H620v160Z\"/>\n",
              "  </svg>\n",
              "    </button>\n",
              "\n",
              "  <style>\n",
              "    .colab-df-container {\n",
              "      display:flex;\n",
              "      gap: 12px;\n",
              "    }\n",
              "\n",
              "    .colab-df-convert {\n",
              "      background-color: #E8F0FE;\n",
              "      border: none;\n",
              "      border-radius: 50%;\n",
              "      cursor: pointer;\n",
              "      display: none;\n",
              "      fill: #1967D2;\n",
              "      height: 32px;\n",
              "      padding: 0 0 0 0;\n",
              "      width: 32px;\n",
              "    }\n",
              "\n",
              "    .colab-df-convert:hover {\n",
              "      background-color: #E2EBFA;\n",
              "      box-shadow: 0px 1px 2px rgba(60, 64, 67, 0.3), 0px 1px 3px 1px rgba(60, 64, 67, 0.15);\n",
              "      fill: #174EA6;\n",
              "    }\n",
              "\n",
              "    .colab-df-buttons div {\n",
              "      margin-bottom: 4px;\n",
              "    }\n",
              "\n",
              "    [theme=dark] .colab-df-convert {\n",
              "      background-color: #3B4455;\n",
              "      fill: #D2E3FC;\n",
              "    }\n",
              "\n",
              "    [theme=dark] .colab-df-convert:hover {\n",
              "      background-color: #434B5C;\n",
              "      box-shadow: 0px 1px 3px 1px rgba(0, 0, 0, 0.15);\n",
              "      filter: drop-shadow(0px 1px 2px rgba(0, 0, 0, 0.3));\n",
              "      fill: #FFFFFF;\n",
              "    }\n",
              "  </style>\n",
              "\n",
              "    <script>\n",
              "      const buttonEl =\n",
              "        document.querySelector('#df-8ff23dfc-6cfd-471d-b0a5-f9ba6eb0dcdd button.colab-df-convert');\n",
              "      buttonEl.style.display =\n",
              "        google.colab.kernel.accessAllowed ? 'block' : 'none';\n",
              "\n",
              "      async function convertToInteractive(key) {\n",
              "        const element = document.querySelector('#df-8ff23dfc-6cfd-471d-b0a5-f9ba6eb0dcdd');\n",
              "        const dataTable =\n",
              "          await google.colab.kernel.invokeFunction('convertToInteractive',\n",
              "                                                    [key], {});\n",
              "        if (!dataTable) return;\n",
              "\n",
              "        const docLinkHtml = 'Like what you see? Visit the ' +\n",
              "          '<a target=\"_blank\" href=https://colab.research.google.com/notebooks/data_table.ipynb>data table notebook</a>'\n",
              "          + ' to learn more about interactive tables.';\n",
              "        element.innerHTML = '';\n",
              "        dataTable['output_type'] = 'display_data';\n",
              "        await google.colab.output.renderOutput(dataTable, element);\n",
              "        const docLink = document.createElement('div');\n",
              "        docLink.innerHTML = docLinkHtml;\n",
              "        element.appendChild(docLink);\n",
              "      }\n",
              "    </script>\n",
              "  </div>\n",
              "\n",
              "\n",
              "<div id=\"df-6b76e148-b59b-4c76-93a5-6e629fc5fcfe\">\n",
              "  <button class=\"colab-df-quickchart\" onclick=\"quickchart('df-6b76e148-b59b-4c76-93a5-6e629fc5fcfe')\"\n",
              "            title=\"Suggest charts\"\n",
              "            style=\"display:none;\">\n",
              "\n",
              "<svg xmlns=\"http://www.w3.org/2000/svg\" height=\"24px\"viewBox=\"0 0 24 24\"\n",
              "     width=\"24px\">\n",
              "    <g>\n",
              "        <path d=\"M19 3H5c-1.1 0-2 .9-2 2v14c0 1.1.9 2 2 2h14c1.1 0 2-.9 2-2V5c0-1.1-.9-2-2-2zM9 17H7v-7h2v7zm4 0h-2V7h2v10zm4 0h-2v-4h2v4z\"/>\n",
              "    </g>\n",
              "</svg>\n",
              "  </button>\n",
              "\n",
              "<style>\n",
              "  .colab-df-quickchart {\n",
              "      --bg-color: #E8F0FE;\n",
              "      --fill-color: #1967D2;\n",
              "      --hover-bg-color: #E2EBFA;\n",
              "      --hover-fill-color: #174EA6;\n",
              "      --disabled-fill-color: #AAA;\n",
              "      --disabled-bg-color: #DDD;\n",
              "  }\n",
              "\n",
              "  [theme=dark] .colab-df-quickchart {\n",
              "      --bg-color: #3B4455;\n",
              "      --fill-color: #D2E3FC;\n",
              "      --hover-bg-color: #434B5C;\n",
              "      --hover-fill-color: #FFFFFF;\n",
              "      --disabled-bg-color: #3B4455;\n",
              "      --disabled-fill-color: #666;\n",
              "  }\n",
              "\n",
              "  .colab-df-quickchart {\n",
              "    background-color: var(--bg-color);\n",
              "    border: none;\n",
              "    border-radius: 50%;\n",
              "    cursor: pointer;\n",
              "    display: none;\n",
              "    fill: var(--fill-color);\n",
              "    height: 32px;\n",
              "    padding: 0;\n",
              "    width: 32px;\n",
              "  }\n",
              "\n",
              "  .colab-df-quickchart:hover {\n",
              "    background-color: var(--hover-bg-color);\n",
              "    box-shadow: 0 1px 2px rgba(60, 64, 67, 0.3), 0 1px 3px 1px rgba(60, 64, 67, 0.15);\n",
              "    fill: var(--button-hover-fill-color);\n",
              "  }\n",
              "\n",
              "  .colab-df-quickchart-complete:disabled,\n",
              "  .colab-df-quickchart-complete:disabled:hover {\n",
              "    background-color: var(--disabled-bg-color);\n",
              "    fill: var(--disabled-fill-color);\n",
              "    box-shadow: none;\n",
              "  }\n",
              "\n",
              "  .colab-df-spinner {\n",
              "    border: 2px solid var(--fill-color);\n",
              "    border-color: transparent;\n",
              "    border-bottom-color: var(--fill-color);\n",
              "    animation:\n",
              "      spin 1s steps(1) infinite;\n",
              "  }\n",
              "\n",
              "  @keyframes spin {\n",
              "    0% {\n",
              "      border-color: transparent;\n",
              "      border-bottom-color: var(--fill-color);\n",
              "      border-left-color: var(--fill-color);\n",
              "    }\n",
              "    20% {\n",
              "      border-color: transparent;\n",
              "      border-left-color: var(--fill-color);\n",
              "      border-top-color: var(--fill-color);\n",
              "    }\n",
              "    30% {\n",
              "      border-color: transparent;\n",
              "      border-left-color: var(--fill-color);\n",
              "      border-top-color: var(--fill-color);\n",
              "      border-right-color: var(--fill-color);\n",
              "    }\n",
              "    40% {\n",
              "      border-color: transparent;\n",
              "      border-right-color: var(--fill-color);\n",
              "      border-top-color: var(--fill-color);\n",
              "    }\n",
              "    60% {\n",
              "      border-color: transparent;\n",
              "      border-right-color: var(--fill-color);\n",
              "    }\n",
              "    80% {\n",
              "      border-color: transparent;\n",
              "      border-right-color: var(--fill-color);\n",
              "      border-bottom-color: var(--fill-color);\n",
              "    }\n",
              "    90% {\n",
              "      border-color: transparent;\n",
              "      border-bottom-color: var(--fill-color);\n",
              "    }\n",
              "  }\n",
              "</style>\n",
              "\n",
              "  <script>\n",
              "    async function quickchart(key) {\n",
              "      const quickchartButtonEl =\n",
              "        document.querySelector('#' + key + ' button');\n",
              "      quickchartButtonEl.disabled = true;  // To prevent multiple clicks.\n",
              "      quickchartButtonEl.classList.add('colab-df-spinner');\n",
              "      try {\n",
              "        const charts = await google.colab.kernel.invokeFunction(\n",
              "            'suggestCharts', [key], {});\n",
              "      } catch (error) {\n",
              "        console.error('Error during call to suggestCharts:', error);\n",
              "      }\n",
              "      quickchartButtonEl.classList.remove('colab-df-spinner');\n",
              "      quickchartButtonEl.classList.add('colab-df-quickchart-complete');\n",
              "    }\n",
              "    (() => {\n",
              "      let quickchartButtonEl =\n",
              "        document.querySelector('#df-6b76e148-b59b-4c76-93a5-6e629fc5fcfe button');\n",
              "      quickchartButtonEl.style.display =\n",
              "        google.colab.kernel.accessAllowed ? 'block' : 'none';\n",
              "    })();\n",
              "  </script>\n",
              "</div>\n",
              "    </div>\n",
              "  </div>\n"
            ],
            "application/vnd.google.colaboratory.intrinsic+json": {
              "type": "dataframe",
              "variable_name": "df",
              "summary": "{\n  \"name\": \"df\",\n  \"rows\": 87,\n  \"fields\": [\n    {\n      \"column\": \"sex\",\n      \"properties\": {\n        \"dtype\": \"number\",\n        \"std\": 0,\n        \"min\": 0,\n        \"max\": 1,\n        \"num_unique_values\": 2,\n        \"samples\": [\n          1,\n          0\n        ],\n        \"semantic_type\": \"\",\n        \"description\": \"\"\n      }\n    },\n    {\n      \"column\": \"diagnosis\",\n      \"properties\": {\n        \"dtype\": \"number\",\n        \"std\": 1,\n        \"min\": 0,\n        \"max\": 3,\n        \"num_unique_values\": 4,\n        \"samples\": [\n          0,\n          3\n        ],\n        \"semantic_type\": \"\",\n        \"description\": \"\"\n      }\n    },\n    {\n      \"column\": \"loc\",\n      \"properties\": {\n        \"dtype\": \"number\",\n        \"std\": 0,\n        \"min\": 0,\n        \"max\": 1,\n        \"num_unique_values\": 2,\n        \"samples\": [\n          1,\n          0\n        ],\n        \"semantic_type\": \"\",\n        \"description\": \"\"\n      }\n    },\n    {\n      \"column\": \"ki\",\n      \"properties\": {\n        \"dtype\": \"number\",\n        \"std\": 10.524852527061173,\n        \"min\": 40.0,\n        \"max\": 100.0,\n        \"num_unique_values\": 6,\n        \"samples\": [\n          90.0,\n          70.0\n        ],\n        \"semantic_type\": \"\",\n        \"description\": \"\"\n      }\n    },\n    {\n      \"column\": \"gtv\",\n      \"properties\": {\n        \"dtype\": \"number\",\n        \"std\": 8.704251582769505,\n        \"min\": 0.01,\n        \"max\": 34.64,\n        \"num_unique_values\": 83,\n        \"samples\": [\n          2.56,\n          6.11\n        ],\n        \"semantic_type\": \"\",\n        \"description\": \"\"\n      }\n    },\n    {\n      \"column\": \"status\",\n      \"properties\": {\n        \"dtype\": \"number\",\n        \"std\": 0.4932042860614262,\n        \"min\": 0.0,\n        \"max\": 1.0,\n        \"num_unique_values\": 2,\n        \"samples\": [\n          1.0,\n          0.0\n        ],\n        \"semantic_type\": \"\",\n        \"description\": \"\"\n      }\n    }\n  ]\n}"
            }
          },
          "metadata": {},
          "execution_count": 15
        }
      ]
    },
    {
      "cell_type": "code",
      "source": [
        "#df.reset_index(drop=True, inplace=True)"
      ],
      "metadata": {
        "id": "kPe1vkIZuC2T"
      },
      "execution_count": null,
      "outputs": []
    },
    {
      "cell_type": "code",
      "source": [
        "#df = df[['sex', 'diagnosis', 'loc', 'ki', 'gtv', 'diagnosis_LG glioma', 'diagnosis_Meningioma', 'diagnosis_Other', 'status']]\n"
      ],
      "metadata": {
        "id": "h--hsiTIppxY"
      },
      "execution_count": null,
      "outputs": []
    },
    {
      "cell_type": "code",
      "source": [
        "#df.drop('diagnosis', axis=1, inplace=True)\n",
        "#df.head()"
      ],
      "metadata": {
        "id": "IaKim88QtCqG"
      },
      "execution_count": null,
      "outputs": []
    },
    {
      "cell_type": "code",
      "source": [
        "df.info()"
      ],
      "metadata": {
        "colab": {
          "base_uri": "https://localhost:8080/"
        },
        "id": "DzIThL3eayV5",
        "outputId": "793a6289-37a5-451c-85f8-fc3b25e996fb"
      },
      "execution_count": 16,
      "outputs": [
        {
          "output_type": "stream",
          "name": "stdout",
          "text": [
            "<class 'pandas.core.frame.DataFrame'>\n",
            "Index: 87 entries, 0 to 87\n",
            "Data columns (total 6 columns):\n",
            " #   Column     Non-Null Count  Dtype  \n",
            "---  ------     --------------  -----  \n",
            " 0   sex        87 non-null     int64  \n",
            " 1   diagnosis  87 non-null     int64  \n",
            " 2   loc        87 non-null     int64  \n",
            " 3   ki         87 non-null     float64\n",
            " 4   gtv        87 non-null     float64\n",
            " 5   status     87 non-null     float64\n",
            "dtypes: float64(3), int64(3)\n",
            "memory usage: 4.8 KB\n"
          ]
        }
      ]
    },
    {
      "cell_type": "code",
      "source": [
        "df.shape"
      ],
      "metadata": {
        "colab": {
          "base_uri": "https://localhost:8080/"
        },
        "id": "MtXofJe_qfzH",
        "outputId": "475ca547-5916-4129-c23e-94fa1be5f9c4"
      },
      "execution_count": 17,
      "outputs": [
        {
          "output_type": "execute_result",
          "data": {
            "text/plain": [
              "(87, 6)"
            ]
          },
          "metadata": {},
          "execution_count": 17
        }
      ]
    },
    {
      "cell_type": "markdown",
      "source": [
        "# Data Split 70% 15% 15%"
      ],
      "metadata": {
        "id": "FSdw6Fx44e9t"
      }
    },
    {
      "cell_type": "code",
      "source": [
        "X = df.iloc[:,:5]\n",
        "y = df.iloc[:, 5]\n",
        "\n",
        "print(\"Shape of x: \", X.shape)\n",
        "print(\"Shape of y: \", y.shape)"
      ],
      "metadata": {
        "colab": {
          "base_uri": "https://localhost:8080/"
        },
        "id": "3YHcyWJ9cStX",
        "outputId": "43c78923-9b94-47d8-ea64-c0c2ea699d1c"
      },
      "execution_count": 18,
      "outputs": [
        {
          "output_type": "stream",
          "name": "stdout",
          "text": [
            "Shape of x:  (87, 5)\n",
            "Shape of y:  (87,)\n"
          ]
        }
      ]
    },
    {
      "cell_type": "code",
      "source": [
        "X_train, X_temp, y_train, y_temp = train_test_split(X, y, test_size=0.3, random_state=42)\n",
        "X_val, X_test, y_val, y_test = train_test_split(X_temp, y_temp, test_size=0.5, random_state=42)\n",
        "\n",
        "print(\"Shape of X_train: \", X_train.shape)\n",
        "print(\"Shape of X_val: \", X_val.shape)\n",
        "print(\"Shape of X_test: \", X_test.shape)\n",
        "print(\"Shape of y_train: \", y_train.shape)\n",
        "print(\"shape of y_val: \", y_val.shape)\n",
        "print(\"shape of y_test: \", y_test.shape)"
      ],
      "metadata": {
        "colab": {
          "base_uri": "https://localhost:8080/"
        },
        "id": "FzyqZy9Wdtp3",
        "outputId": "ec3362a5-36f0-4e17-cf6a-ff525662c42a"
      },
      "execution_count": 19,
      "outputs": [
        {
          "output_type": "stream",
          "name": "stdout",
          "text": [
            "Shape of X_train:  (60, 5)\n",
            "Shape of X_val:  (13, 5)\n",
            "Shape of X_test:  (14, 5)\n",
            "Shape of y_train:  (60,)\n",
            "shape of y_val:  (13,)\n",
            "shape of y_test:  (14,)\n"
          ]
        }
      ]
    },
    {
      "cell_type": "markdown",
      "source": [
        "# MinMax Scaler"
      ],
      "metadata": {
        "id": "1CoGod0T4VNQ"
      }
    },
    {
      "cell_type": "code",
      "source": [
        "\n",
        "from sklearn.preprocessing import MinMaxScaler\n",
        "scaler = MinMaxScaler()\n",
        "X_train_scaled = scaler.fit_transform(X_train)\n",
        "X_val_scaled = scaler.transform(X_val)\n",
        "X_test_scaled = scaler.transform(X_test)\n",
        "\n"
      ],
      "metadata": {
        "id": "XjkI2djbz4du"
      },
      "execution_count": 20,
      "outputs": []
    },
    {
      "cell_type": "markdown",
      "source": [
        "# Evaluation matrics Functions"
      ],
      "metadata": {
        "id": "Adq0LJOqeUoT"
      }
    },
    {
      "cell_type": "code",
      "source": [
        "def calculate_accuracy(y_true, y_pred):\n",
        "    correct_predictions = sum(y_true == y_pred)\n",
        "    total_predictions = len(y_true)\n",
        "    accuracy = correct_predictions / total_predictions\n",
        "    return accuracy"
      ],
      "metadata": {
        "id": "Hagbwr4meX67"
      },
      "execution_count": 26,
      "outputs": []
    },
    {
      "cell_type": "code",
      "source": [
        "def calculate_precision(y_true, y_pred, label):\n",
        "    true_positives = sum((y_true == label) & (y_pred == label))\n",
        "    predicted_positives = sum(y_pred == label)\n",
        "    if predicted_positives > 0:\n",
        "        precision = true_positives / predicted_positives\n",
        "    else:\n",
        "        precision = 0\n",
        "    return precision\n"
      ],
      "metadata": {
        "id": "Cjfl0WACeYd-"
      },
      "execution_count": 27,
      "outputs": []
    },
    {
      "cell_type": "code",
      "source": [
        "def calculate_recall(y_true, y_pred, label):\n",
        "    true_positives = sum((y_true == label) & (y_pred == label))\n",
        "    actual_positives = sum(y_true == label)\n",
        "    if actual_positives > 0:\n",
        "      recall = true_positives / actual_positives\n",
        "    else :0\n",
        "    return recall"
      ],
      "metadata": {
        "id": "2LPxgKaweYXu"
      },
      "execution_count": 28,
      "outputs": []
    },
    {
      "cell_type": "code",
      "source": [
        "def calculate_f1_score(precision, recall):\n",
        "    if (precision + recall) > 0:\n",
        "        f1_score = 2 * (precision * recall) / (precision + recall)\n",
        "    else:\n",
        "        f1_score = 0\n",
        "    return f1_score\n"
      ],
      "metadata": {
        "id": "AgisD8REeYQN"
      },
      "execution_count": 29,
      "outputs": []
    },
    {
      "cell_type": "code",
      "source": [
        "def calculate_confusion_matrix(y_true, y_pred):\n",
        "    unique_labels = sorted(set(y_true) | set(y_pred))\n",
        "    num_labels = len(unique_labels)\n",
        "    confusion_matrix = [[0] * num_labels for _ in range(num_labels)]\n",
        "\n",
        "    label_to_index = {label: i for i, label in enumerate(unique_labels)}\n",
        "\n",
        "    for true_label, pred_label in zip(y_true, y_pred):\n",
        "        true_index = label_to_index[true_label]\n",
        "        pred_index = label_to_index[pred_label]\n",
        "        confusion_matrix[true_index][pred_index] += 1\n",
        "\n",
        "    return confusion_matrix\n"
      ],
      "metadata": {
        "id": "SJEWKJiXhAOo"
      },
      "execution_count": 33,
      "outputs": []
    },
    {
      "cell_type": "markdown",
      "source": [
        "# ZeroR Classifier"
      ],
      "metadata": {
        "id": "xiUSw6YrejZv"
      }
    },
    {
      "cell_type": "code",
      "source": [
        "from sklearn.dummy import DummyClassifier\n",
        "\n",
        "zeror_classifier = DummyClassifier(strategy=\"most_frequent\")\n",
        "zeror_classifier.fit(X_train_scaled, y_train)\n",
        "\n",
        "#on train\n",
        "y_train_pred_zeror= zeror_classifier.predict(X_train_scaled)\n",
        "train_accuracy_zeror = calculate_accuracy(y_train, y_train_pred_zeror)\n",
        "print(\"ZeroR Classifier Accuracy on training Set:\", train_accuracy_zeror)\n",
        "\n",
        "#on validation\n",
        "y_val_pred_zeror= zeror_classifier.predict(X_val_scaled)\n",
        "val_accuracy_zeror = calculate_accuracy(y_val, y_val_pred_zeror)\n",
        "print(\"ZeroR Classifier Accuracy on Validation Set:\", val_accuracy_zeror)\n",
        "\n",
        "#on test\n",
        "y_test_pred_zeror = zeror_classifier.predict(X_test_scaled)\n",
        "test_accuracy_zeror = calculate_accuracy(y_test, y_test_pred_zeror)\n",
        "print(\"ZeroR Classifier Accuracy on Test Set:\", test_accuracy_zeror)\n"
      ],
      "metadata": {
        "colab": {
          "base_uri": "https://localhost:8080/"
        },
        "id": "YyTwoXGEeiH6",
        "outputId": "db7ea434-8405-48d5-c3a1-a5f38b2d481f"
      },
      "execution_count": 30,
      "outputs": [
        {
          "output_type": "stream",
          "name": "stdout",
          "text": [
            "ZeroR Classifier Accuracy on training Set: 0.5666666666666667\n",
            "ZeroR Classifier Accuracy on Validation Set: 0.6923076923076923\n",
            "ZeroR Classifier Accuracy on Test Set: 0.6428571428571429\n"
          ]
        }
      ]
    },
    {
      "cell_type": "code",
      "source": [
        "# Initialize empty lists to store Precision, Recall, and F1-score for each class\n",
        "precisions = []\n",
        "recalls = []\n",
        "f1_scores = []\n",
        "unique_labels = set(y_test) | set(y_test_pred_zeror)\n",
        "for label in unique_labels:\n",
        "    precision = calculate_precision(y_test, y_test_pred_zeror, label)\n",
        "    recall = calculate_recall(y_test, y_test_pred_zeror, label)\n",
        "    f1_score = calculate_f1_score(precision, recall)\n",
        "    precisions.append(precision)\n",
        "    recalls.append(recall)\n",
        "    f1_scores.append(f1_score)\n",
        "for i, label in enumerate(unique_labels):\n",
        "    print(f\"\\tClass {label}\")\n",
        "    print(f\"Precision: {precisions[i]}\")\n",
        "    print(f\"Recall: {recalls[i]}\")\n",
        "    print(f\"F1-score: {f1_scores[i]}\")\n"
      ],
      "metadata": {
        "colab": {
          "base_uri": "https://localhost:8080/"
        },
        "id": "H89XgU7Zfrfd",
        "outputId": "142d6f63-2aa6-4205-d5a4-5706171c1717"
      },
      "execution_count": 31,
      "outputs": [
        {
          "output_type": "stream",
          "name": "stdout",
          "text": [
            "\tClass 0.0\n",
            "Precision: 0.6428571428571429\n",
            "Recall: 1.0\n",
            "F1-score: 0.782608695652174\n",
            "\tClass 1.0\n",
            "Precision: 0\n",
            "Recall: 0.0\n",
            "F1-score: 0\n"
          ]
        }
      ]
    },
    {
      "cell_type": "code",
      "source": [
        "\n",
        "for label in unique_labels:\n",
        "    true_positives = sum((y_test == label) & (y_test_pred_zeror == label))\n",
        "    predicted_positives = sum(y_test_pred_zeror == label)\n",
        "    actual_positives = sum(y_test == label)\n",
        "\n",
        "    if predicted_positives > 0:\n",
        "        precision = true_positives / predicted_positives\n",
        "    else:\n",
        "        precision = 0\n",
        "\n",
        "    if actual_positives > 0:\n",
        "        recall = true_positives / actual_positives\n",
        "    else:\n",
        "        recall = 0\n",
        "\n",
        "    precisions.append(precision)\n",
        "    recalls.append(recall)\n",
        "\n",
        "# Plot Precision-Recall curve\n",
        "plt.figure(figsize=(8, 6))\n",
        "plt.plot(recalls, precisions, marker='.')\n",
        "plt.xlabel('Recall')\n",
        "plt.ylabel('Precision')\n",
        "plt.title('Precision-Recall Curve')\n",
        "plt.grid(True)\n",
        "plt.show()\n"
      ],
      "metadata": {
        "colab": {
          "base_uri": "https://localhost:8080/",
          "height": 564
        },
        "id": "_FNWDVebgbqQ",
        "outputId": "828c93d3-d94f-4a8f-d4c9-deaac9bcd4aa"
      },
      "execution_count": 32,
      "outputs": [
        {
          "output_type": "display_data",
          "data": {
            "text/plain": [
              "<Figure size 800x600 with 1 Axes>"
            ],
            "image/png": "[encoded data removed]"
          },
          "metadata": {}
        }
      ]
    },
    {
      "cell_type": "code",
      "source": [
        "conf_matrix = calculate_confusion_matrix(y_test, y_test_pred_zeror)\n",
        "print(\"ZeroR Confusion Matrix:\")\n",
        "for row in conf_matrix:\n",
        "    print(row)"
      ],
      "metadata": {
        "colab": {
          "base_uri": "https://localhost:8080/"
        },
        "id": "SBKPeyQxgoja",
        "outputId": "3e932a5c-42a9-4c79-b0db-0aa8c5b310aa"
      },
      "execution_count": 34,
      "outputs": [
        {
          "output_type": "stream",
          "name": "stdout",
          "text": [
            "ZeroR Confusion Matrix:\n",
            "[9, 0]\n",
            "[5, 0]\n"
          ]
        }
      ]
    },
    {
      "cell_type": "markdown",
      "source": [
        "# OneR classifier"
      ],
      "metadata": {
        "id": "QEmvNPy4enXb"
      }
    },
    {
      "cell_type": "code",
      "source": [
        "from mlxtend.classifier import OneRClassifier\n",
        "oner = OneRClassifier()\n",
        "oner.fit(X_train_scaled, y_train);"
      ],
      "metadata": {
        "id": "eGQTxvCZep_m"
      },
      "execution_count": 35,
      "outputs": []
    },
    {
      "cell_type": "code",
      "source": [
        "#on train\n",
        "y_train_pred_oner = oner.predict(X_train_scaled)\n",
        "train_accuracy_oner = calculate_accuracy(y_train, y_train_pred_oner)\n",
        "print(\"OneR Classifier Accuracy on Training Set:\", train_accuracy_oner)\n",
        "\n",
        "\n",
        "#on val\n",
        "y_val_pred_oner = oner.predict(X_val_scaled)\n",
        "val_accuracy_oner = calculate_accuracy(y_val, y_val_pred_oner)\n",
        "print(\"OneR Classifier Accuracy on Validation Set:\", val_accuracy_oner)\n",
        "\n",
        "#on test\n",
        "y_test_pred_oner = oner.predict(X_test_scaled)\n",
        "test_accuracy_oner = calculate_accuracy(y_test, y_test_pred_oner)\n",
        "print(\"OneR Classifier Accuracy on Test Set:\", test_accuracy_oner)\n"
      ],
      "metadata": {
        "colab": {
          "base_uri": "https://localhost:8080/"
        },
        "id": "FpzcIAl2hK-O",
        "outputId": "543a884d-0651-4c92-9dac-15bae328117a"
      },
      "execution_count": 36,
      "outputs": [
        {
          "output_type": "stream",
          "name": "stdout",
          "text": [
            "OneR Classifier Accuracy on Training Set: 0.9833333333333333\n",
            "OneR Classifier Accuracy on Validation Set: 0.5384615384615384\n",
            "OneR Classifier Accuracy on Test Set: 0.6428571428571429\n"
          ]
        }
      ]
    },
    {
      "cell_type": "code",
      "source": [
        "# Initialize empty lists to store Precision, Recall, and F1-score for each class\n",
        "precisions = []\n",
        "recalls = []\n",
        "f1_scores = []\n",
        "unique_labels = set(y_test) | set(y_test_pred_oner)\n",
        "for label in unique_labels:\n",
        "    precision = calculate_precision(y_test, y_test_pred_oner, label)\n",
        "    recall = calculate_recall(y_test, y_test_pred_oner, label)\n",
        "    f1_score = calculate_f1_score(precision, recall)\n",
        "    precisions.append(precision)\n",
        "    recalls.append(recall)\n",
        "    f1_scores.append(f1_score)\n",
        "for i, label in enumerate(unique_labels):\n",
        "    print(f\"Class {label}:\")\n",
        "    print(f\"Precision: {precisions[i]}\")\n",
        "    print(f\"Recall: {recalls[i]}\")\n",
        "    print(f\"F1-score: {f1_scores[i]}\")\n"
      ],
      "metadata": {
        "colab": {
          "base_uri": "https://localhost:8080/"
        },
        "id": "xqkfbaSjhK4H",
        "outputId": "09887e41-1586-4c51-a999-a568389e1711"
      },
      "execution_count": 37,
      "outputs": [
        {
          "output_type": "stream",
          "name": "stdout",
          "text": [
            "Class 0.0:\n",
            "Precision: 0.6428571428571429\n",
            "Recall: 1.0\n",
            "F1-score: 0.782608695652174\n",
            "Class 1.0:\n",
            "Precision: 0\n",
            "Recall: 0.0\n",
            "F1-score: 0\n"
          ]
        }
      ]
    },
    {
      "cell_type": "code",
      "source": [
        "\n",
        "for label in unique_labels:\n",
        "    true_positives = sum((y_test == label) & (y_test_pred_oner == label))\n",
        "    predicted_positives = sum(y_test_pred_oner == label)\n",
        "    actual_positives = sum(y_test == label)\n",
        "\n",
        "    if predicted_positives > 0:\n",
        "        precision = true_positives / predicted_positives\n",
        "    else:\n",
        "        precision = 0\n",
        "\n",
        "    if actual_positives > 0:\n",
        "        recall = true_positives / actual_positives\n",
        "    else:\n",
        "        recall = 0\n",
        "\n",
        "    precisions.append(precision)\n",
        "    recalls.append(recall)\n",
        "\n",
        "# Plot Precision-Recall curve\n",
        "plt.figure(figsize=(8, 6))\n",
        "plt.plot(recalls, precisions, marker='.')\n",
        "plt.xlabel('Recall')\n",
        "plt.ylabel('Precision')\n",
        "plt.title('Precision-Recall Curve')\n",
        "plt.grid(True)\n",
        "plt.show()\n"
      ],
      "metadata": {
        "colab": {
          "base_uri": "https://localhost:8080/",
          "height": 564
        },
        "id": "4baq7K-8hKsW",
        "outputId": "43ec8662-75f5-45dd-9a03-ef853b162304"
      },
      "execution_count": 38,
      "outputs": [
        {
          "output_type": "display_data",
          "data": {
            "text/plain": [
              "<Figure size 800x600 with 1 Axes>"
            ],
            "image/png": "[encoded data removed]"
          },
          "metadata": {}
        }
      ]
    },
    {
      "cell_type": "code",
      "source": [
        "conf_matrix = calculate_confusion_matrix(y_test, y_test_pred_oner)\n",
        "print(\"OneR Confusion Matrix:\")\n",
        "for row in conf_matrix:\n",
        "    print(row)"
      ],
      "metadata": {
        "colab": {
          "base_uri": "https://localhost:8080/"
        },
        "id": "14D7v97hhKb4",
        "outputId": "0a88c033-c04b-4346-cabe-eac407eac0aa"
      },
      "execution_count": 39,
      "outputs": [
        {
          "output_type": "stream",
          "name": "stdout",
          "text": [
            "OneR Confusion Matrix:\n",
            "[9, 0]\n",
            "[5, 0]\n"
          ]
        }
      ]
    },
    {
      "cell_type": "markdown",
      "source": [
        "# Hyperparameter tuning using validation set for SVM"
      ],
      "metadata": {
        "id": "ZB-6JKTnerDf"
      }
    },
    {
      "cell_type": "code",
      "source": [
        "from sklearn.svm import SVC\n",
        "\n",
        "best_accuracy = 0\n",
        "best_c = 0\n",
        "best_kernel = ''\n",
        "best_degree = 0\n",
        "\n",
        "C_values = [0.1, 1, 10, 100]\n",
        "kernel_values = ['linear', 'rbf', 'poly']\n",
        "degree_values = [2, 3, 4]\n",
        "\n",
        "for kernel in kernel_values:\n",
        "    if kernel == 'poly':\n",
        "        for degree in degree_values:\n",
        "            for C in C_values:\n",
        "                svm_classifier = SVC(C=C, kernel=kernel, degree=degree)\n",
        "                svm_classifier.fit(X_train_scaled, y_train)\n",
        "                y_val_pred_svm = svm_classifier.predict(X_val_scaled)\n",
        "                accuracy = calculate_accuracy(y_val, y_val_pred_svm)\n",
        "                print(f\"Kernel={kernel}, Degree={degree}, C={C}, accuracy={accuracy}\")\n",
        "                if accuracy > best_accuracy:\n",
        "                    best_accuracy = accuracy\n",
        "                    best_c = C\n",
        "                    best_kernel = kernel\n",
        "                    best_degree = degree\n",
        "    else:\n",
        "        for C in C_values:\n",
        "            svm_classifier = SVC(C=C, kernel=kernel)\n",
        "            svm_classifier.fit(X_train_scaled, y_train)\n",
        "            y_val_pred_svm = svm_classifier.predict(X_val_scaled)\n",
        "            accuracy = calculate_accuracy(y_val, y_val_pred_svm)\n",
        "            print(f\"Kernel={kernel}, C={C}, accuracy={accuracy}\")\n",
        "            if accuracy > best_accuracy:\n",
        "                best_accuracy = accuracy\n",
        "                best_c = C\n",
        "                best_kernel = kernel\n",
        "\n",
        "print(\"Best Kernel for SVM:\", best_kernel)\n",
        "print(\"Best Degree for SVM:\", best_degree) if best_kernel == 'poly' else None\n",
        "print(\"Best C for SVM:\", best_c)\n",
        "print(\"Best validation accuracy for SVM:\", best_accuracy)\n"
      ],
      "metadata": {
        "colab": {
          "base_uri": "https://localhost:8080/"
        },
        "id": "PFbg4bvpevI6",
        "outputId": "9f47c031-e0a5-4412-97d9-d5224135aa27"
      },
      "execution_count": 42,
      "outputs": [
        {
          "output_type": "stream",
          "name": "stdout",
          "text": [
            "Kernel=linear, C=0.1, accuracy=0.6923076923076923\n",
            "Kernel=linear, C=1, accuracy=0.8461538461538461\n",
            "Kernel=linear, C=10, accuracy=0.8461538461538461\n",
            "Kernel=linear, C=100, accuracy=0.8461538461538461\n",
            "Kernel=rbf, C=0.1, accuracy=0.6923076923076923\n",
            "Kernel=rbf, C=1, accuracy=0.8461538461538461\n",
            "Kernel=rbf, C=10, accuracy=0.7692307692307693\n",
            "Kernel=rbf, C=100, accuracy=0.7692307692307693\n",
            "Kernel=poly, Degree=2, C=0.1, accuracy=0.7692307692307693\n",
            "Kernel=poly, Degree=2, C=1, accuracy=0.8461538461538461\n",
            "Kernel=poly, Degree=2, C=10, accuracy=0.7692307692307693\n",
            "Kernel=poly, Degree=2, C=100, accuracy=0.7692307692307693\n",
            "Kernel=poly, Degree=3, C=0.1, accuracy=0.9230769230769231\n",
            "Kernel=poly, Degree=3, C=1, accuracy=0.7692307692307693\n",
            "Kernel=poly, Degree=3, C=10, accuracy=0.7692307692307693\n",
            "Kernel=poly, Degree=3, C=100, accuracy=0.7692307692307693\n",
            "Kernel=poly, Degree=4, C=0.1, accuracy=0.7692307692307693\n",
            "Kernel=poly, Degree=4, C=1, accuracy=0.7692307692307693\n",
            "Kernel=poly, Degree=4, C=10, accuracy=0.7692307692307693\n",
            "Kernel=poly, Degree=4, C=100, accuracy=0.7692307692307693\n",
            "Best Kernel for SVM: poly\n",
            "Best Degree for SVM: 3\n",
            "Best C for SVM: 0.1\n",
            "Best validation accuracy for SVM: 0.9230769230769231\n"
          ]
        }
      ]
    },
    {
      "cell_type": "code",
      "source": [
        "final_svm_classifier = SVC(C=best_c, kernel=best_kernel, degree=best_degree)\n",
        "final_svm_classifier.fit(X_train_scaled, y_train)\n",
        "y_test_pred_svm = final_svm_classifier.predict(X_test_scaled)\n",
        "test_accuracy_svm = calculate_accuracy(y_test, y_test_pred_svm)\n",
        "print(\"SVM Test accuracy : \", test_accuracy_svm)\n"
      ],
      "metadata": {
        "colab": {
          "base_uri": "https://localhost:8080/"
        },
        "id": "jHNgb5-MiNS_",
        "outputId": "0749ad29-bae7-4a71-846a-b287bd8a95a2"
      },
      "execution_count": 43,
      "outputs": [
        {
          "output_type": "stream",
          "name": "stdout",
          "text": [
            "SVM Test accuracy :  0.9285714285714286\n"
          ]
        }
      ]
    },
    {
      "cell_type": "code",
      "source": [
        "# Initialize empty lists to store Precision, Recall, and F1-score for each class\n",
        "precisions = []\n",
        "recalls = []\n",
        "f1_scores = []\n",
        "unique_labels = set(y_test) | set(y_test_pred_svm)\n",
        "for label in unique_labels:\n",
        "    precision = calculate_precision(y_test, y_test_pred_svm, label)\n",
        "    recall = calculate_recall(y_test, y_test_pred_svm, label)\n",
        "    f1_score = calculate_f1_score(precision, recall)\n",
        "    precisions.append(precision)\n",
        "    recalls.append(recall)\n",
        "    f1_scores.append(f1_score)\n",
        "for i, label in enumerate(unique_labels):\n",
        "    print(f\"Class {label}:\")\n",
        "    print(f\"Precision: {precisions[i]}\")\n",
        "    print(f\"Recall: {recalls[i]}\")\n",
        "    print(f\"F1-score: {f1_scores[i]}\")\n"
      ],
      "metadata": {
        "colab": {
          "base_uri": "https://localhost:8080/"
        },
        "id": "Gphy6961iZHu",
        "outputId": "eb845336-23c2-435d-ce2c-1abd46996acf"
      },
      "execution_count": 44,
      "outputs": [
        {
          "output_type": "stream",
          "name": "stdout",
          "text": [
            "Class 0.0:\n",
            "Precision: 1.0\n",
            "Recall: 0.8888888888888888\n",
            "F1-score: 0.9411764705882353\n",
            "Class 1.0:\n",
            "Precision: 0.8333333333333334\n",
            "Recall: 1.0\n",
            "F1-score: 0.9090909090909091\n"
          ]
        }
      ]
    },
    {
      "cell_type": "code",
      "source": [
        "\n",
        "for label in unique_labels:\n",
        "    true_positives = sum((y_test == label) & (y_test_pred_svm == label))\n",
        "    predicted_positives = sum(y_test_pred_svm == label)\n",
        "    actual_positives = sum(y_test == label)\n",
        "\n",
        "    if predicted_positives > 0:\n",
        "        precision = true_positives / predicted_positives\n",
        "    else:\n",
        "        precision = 0\n",
        "\n",
        "    if actual_positives > 0:\n",
        "        recall = true_positives / actual_positives\n",
        "    else:\n",
        "        recall = 0\n",
        "\n",
        "    precisions.append(precision)\n",
        "    recalls.append(recall)\n",
        "\n",
        "# Plot Precision-Recall curve\n",
        "plt.figure(figsize=(8, 6))\n",
        "plt.plot(recalls, precisions, marker='.')\n",
        "plt.xlabel('Recall')\n",
        "plt.ylabel('Precision')\n",
        "plt.title('Precision-Recall Curve')\n",
        "plt.grid(True)\n",
        "plt.show()\n"
      ],
      "metadata": {
        "colab": {
          "base_uri": "https://localhost:8080/",
          "height": 564
        },
        "id": "bOnz0ggViY5K",
        "outputId": "6c109fb8-98ca-42b2-80ef-35e5561cff6d"
      },
      "execution_count": 45,
      "outputs": [
        {
          "output_type": "display_data",
          "data": {
            "text/plain": [
              "<Figure size 800x600 with 1 Axes>"
            ],
            "image/png": "[encoded data removed]"
          },
          "metadata": {}
        }
      ]
    },
    {
      "cell_type": "code",
      "source": [
        "conf_matrix = calculate_confusion_matrix(y_test, y_test_pred_svm)\n",
        "print(\"SVC Confusion Matrix:\")\n",
        "for row in conf_matrix:\n",
        "    print(row)"
      ],
      "metadata": {
        "colab": {
          "base_uri": "https://localhost:8080/"
        },
        "id": "UtBmQNigiYi8",
        "outputId": "927da16d-0de7-4520-c051-8148190ada54"
      },
      "execution_count": 46,
      "outputs": [
        {
          "output_type": "stream",
          "name": "stdout",
          "text": [
            "SVC Confusion Matrix:\n",
            "[8, 1]\n",
            "[0, 5]\n"
          ]
        }
      ]
    },
    {
      "cell_type": "markdown",
      "source": [
        "# Hyperparameter tuning using validation set for KNN"
      ],
      "metadata": {
        "id": "Zufc9fpwewy9"
      }
    },
    {
      "cell_type": "code",
      "source": [
        "from sklearn.neighbors import KNeighborsClassifier\n",
        "\n",
        "best_accuracy_knn = 0\n",
        "best_neighbors = 0\n",
        "best_weights = ''\n",
        "\n",
        "neighbor_values = [1, 3, 5, 7, 9]\n",
        "weight_values = ['uniform', 'distance']\n",
        "\n",
        "for neighbors in neighbor_values:\n",
        "    for weights in weight_values:\n",
        "        knn_classifier = KNeighborsClassifier(n_neighbors=neighbors, weights=weights)\n",
        "        knn_classifier.fit(X_train_scaled, y_train)\n",
        "        y_val_pred_knn = knn_classifier.predict(X_val_scaled)\n",
        "        accuracy_knn = calculate_accuracy(y_val, y_val_pred_knn)\n",
        "        print(f\"Neighbors={neighbors}, Weights={weights}, accuracy={accuracy_knn}\")\n",
        "\n",
        "        if accuracy_knn > best_accuracy_knn:\n",
        "            best_accuracy_knn = accuracy_knn\n",
        "            best_neighbors = neighbors\n",
        "            best_weights = weights\n",
        "\n",
        "print(\"Best number of neighbors for KNN:\", best_neighbors)\n",
        "print(\"Best weights for KNN:\", best_weights)\n",
        "print(\"Best validation accuracy for KNN:\", best_accuracy_knn)\n"
      ],
      "metadata": {
        "colab": {
          "base_uri": "https://localhost:8080/"
        },
        "id": "4ku07CrFe1Ef",
        "outputId": "a87445f5-e0e0-45bb-b206-690862b10016"
      },
      "execution_count": 47,
      "outputs": [
        {
          "output_type": "stream",
          "name": "stdout",
          "text": [
            "Neighbors=1, Weights=uniform, accuracy=0.7692307692307693\n",
            "Neighbors=1, Weights=distance, accuracy=0.7692307692307693\n",
            "Neighbors=3, Weights=uniform, accuracy=0.7692307692307693\n",
            "Neighbors=3, Weights=distance, accuracy=0.7692307692307693\n",
            "Neighbors=5, Weights=uniform, accuracy=0.7692307692307693\n",
            "Neighbors=5, Weights=distance, accuracy=0.7692307692307693\n",
            "Neighbors=7, Weights=uniform, accuracy=0.6923076923076923\n",
            "Neighbors=7, Weights=distance, accuracy=0.7692307692307693\n",
            "Neighbors=9, Weights=uniform, accuracy=0.6923076923076923\n",
            "Neighbors=9, Weights=distance, accuracy=0.7692307692307693\n",
            "Best number of neighbors for KNN: 1\n",
            "Best weights for KNN: uniform\n",
            "Best validation accuracy for KNN: 0.7692307692307693\n"
          ]
        }
      ]
    },
    {
      "cell_type": "code",
      "source": [
        "final_knn_classifier = KNeighborsClassifier(n_neighbors=best_neighbors, weights=best_weights)\n",
        "final_knn_classifier.fit(X_train_scaled, y_train)\n",
        "y_test_pred_knn = final_knn_classifier.predict(X_test_scaled)\n",
        "test_accuracy_knn = calculate_accuracy(y_test, y_test_pred_knn)\n",
        "print(\"KNN Test accuracy : \", test_accuracy_knn)\n"
      ],
      "metadata": {
        "colab": {
          "base_uri": "https://localhost:8080/"
        },
        "id": "ws4qG2zpixi7",
        "outputId": "524434d6-4ba2-4906-833c-e3bc5a4292cb"
      },
      "execution_count": 48,
      "outputs": [
        {
          "output_type": "stream",
          "name": "stdout",
          "text": [
            "KNN Test accuracy :  0.7857142857142857\n"
          ]
        }
      ]
    },
    {
      "cell_type": "code",
      "source": [
        "# Initialize empty lists to store Precision, Recall, and F1-score for each class\n",
        "precisions = []\n",
        "recalls = []\n",
        "f1_scores = []\n",
        "unique_labels = set(y_test) | set(y_test_pred_knn)\n",
        "for label in unique_labels:\n",
        "    precision = calculate_precision(y_test, y_test_pred_knn, label)\n",
        "    recall = calculate_recall(y_test, y_test_pred_knn, label)\n",
        "    f1_score = calculate_f1_score(precision, recall)\n",
        "    precisions.append(precision)\n",
        "    recalls.append(recall)\n",
        "    f1_scores.append(f1_score)\n",
        "for i, label in enumerate(unique_labels):\n",
        "    print(f\"Class {label}:\")\n",
        "    print(f\"Precision: {precisions[i]}\")\n",
        "    print(f\"Recall: {recalls[i]}\")\n",
        "    print(f\"F1-score: {f1_scores[i]}\")\n"
      ],
      "metadata": {
        "colab": {
          "base_uri": "https://localhost:8080/"
        },
        "id": "RWibN59uixFZ",
        "outputId": "ffe18756-578b-4abb-a185-cb55c12d3404"
      },
      "execution_count": 49,
      "outputs": [
        {
          "output_type": "stream",
          "name": "stdout",
          "text": [
            "Class 0.0:\n",
            "Precision: 0.875\n",
            "Recall: 0.7777777777777778\n",
            "F1-score: 0.823529411764706\n",
            "Class 1.0:\n",
            "Precision: 0.6666666666666666\n",
            "Recall: 0.8\n",
            "F1-score: 0.7272727272727272\n"
          ]
        }
      ]
    },
    {
      "cell_type": "code",
      "source": [
        "\n",
        "for label in unique_labels:\n",
        "    true_positives = sum((y_test == label) & (y_test_pred_knn == label))\n",
        "    predicted_positives = sum(y_test_pred_knn == label)\n",
        "    actual_positives = sum(y_test == label)\n",
        "\n",
        "    if predicted_positives > 0:\n",
        "        precision = true_positives / predicted_positives\n",
        "    else:\n",
        "        precision = 0\n",
        "\n",
        "    if actual_positives > 0:\n",
        "        recall = true_positives / actual_positives\n",
        "    else:\n",
        "        recall = 0\n",
        "\n",
        "    precisions.append(precision)\n",
        "    recalls.append(recall)\n",
        "\n",
        "# Plot Precision-Recall curve\n",
        "plt.figure(figsize=(8, 6))\n",
        "plt.plot(recalls, precisions, marker='.')\n",
        "plt.xlabel('Recall')\n",
        "plt.ylabel('Precision')\n",
        "plt.title('Precision-Recall Curve')\n",
        "plt.grid(True)\n",
        "plt.show()\n"
      ],
      "metadata": {
        "colab": {
          "base_uri": "https://localhost:8080/",
          "height": 564
        },
        "id": "Nt_FR9aUiw-6",
        "outputId": "bf317707-2d0f-448a-986a-68fd97be2db9"
      },
      "execution_count": 50,
      "outputs": [
        {
          "output_type": "display_data",
          "data": {
            "text/plain": [
              "<Figure size 800x600 with 1 Axes>"
            ],
            "image/png": "[encoded data removed]"
          },
          "metadata": {}
        }
      ]
    },
    {
      "cell_type": "code",
      "source": [
        "conf_matrix = calculate_confusion_matrix(y_test, y_test_pred_knn)\n",
        "print(\"KNN Confusion Matrix:\")\n",
        "for row in conf_matrix:\n",
        "    print(row)"
      ],
      "metadata": {
        "colab": {
          "base_uri": "https://localhost:8080/"
        },
        "id": "F-fU4DVyiw2s",
        "outputId": "69beb688-df3b-4bb5-a632-3fc397953963"
      },
      "execution_count": 51,
      "outputs": [
        {
          "output_type": "stream",
          "name": "stdout",
          "text": [
            "KNN Confusion Matrix:\n",
            "[7, 2]\n",
            "[1, 4]\n"
          ]
        }
      ]
    },
    {
      "cell_type": "markdown",
      "source": [
        "# Hyperparameter tuning using validation set for Naive Bayes"
      ],
      "metadata": {
        "id": "TScn5Dbje1mc"
      }
    },
    {
      "cell_type": "code",
      "source": [
        "from sklearn.naive_bayes import GaussianNB\n",
        "\n",
        "best_accuracy_nb = 0\n",
        "best_var_smoothing = 0\n",
        "\n",
        "var_smoothing_values = [1e-9, 1e-8, 1e-7, 1e-6]\n",
        "\n",
        "for var_smoothing in var_smoothing_values:\n",
        "    nb_classifier = GaussianNB(var_smoothing=var_smoothing)\n",
        "    nb_classifier.fit(X_train_scaled, y_train)\n",
        "    y_val_pred_nb = nb_classifier.predict(X_val_scaled)\n",
        "    accuracy_nb = calculate_accuracy(y_val, y_val_pred_nb)\n",
        "    print(f\"Var_smoothing={var_smoothing}, accuracy={accuracy_nb}\")\n",
        "\n",
        "    if accuracy_nb > best_accuracy_nb:\n",
        "        best_accuracy_nb = accuracy_nb\n",
        "        best_var_smoothing = var_smoothing\n",
        "\n",
        "print(\"Best variance_smoothing for Gaussian Naive Bayes:\", best_var_smoothing)\n",
        "print(\"Best validation accuracy for Gaussian Naive Bayes:\", best_accuracy_nb)\n"
      ],
      "metadata": {
        "colab": {
          "base_uri": "https://localhost:8080/"
        },
        "id": "ASKej0v0e2yB",
        "outputId": "8dfc8702-db7c-4260-819f-679eb09dcb36"
      },
      "execution_count": 52,
      "outputs": [
        {
          "output_type": "stream",
          "name": "stdout",
          "text": [
            "Var_smoothing=1e-09, accuracy=0.7692307692307693\n",
            "Var_smoothing=1e-08, accuracy=0.7692307692307693\n",
            "Var_smoothing=1e-07, accuracy=0.7692307692307693\n",
            "Var_smoothing=1e-06, accuracy=0.7692307692307693\n",
            "Best variance_smoothing for Gaussian Naive Bayes: 1e-09\n",
            "Best validation accuracy for Gaussian Naive Bayes: 0.7692307692307693\n"
          ]
        }
      ]
    },
    {
      "cell_type": "code",
      "source": [
        "final_nb_classifier = GaussianNB(var_smoothing=best_var_smoothing)\n",
        "final_nb_classifier.fit(X_train_scaled, y_train)\n",
        "y_test_pred_nb = final_nb_classifier.predict(X_test_scaled)\n",
        "test_accuracy_nb = calculate_accuracy(y_test, y_test_pred_nb)\n",
        "print(\"naive Bayes Test accuracy : \", test_accuracy_nb)\n"
      ],
      "metadata": {
        "colab": {
          "base_uri": "https://localhost:8080/"
        },
        "id": "l3Dw-xqWjPZX",
        "outputId": "fe64caef-92a0-4f9d-ba84-bf2eb0a5fe82"
      },
      "execution_count": 53,
      "outputs": [
        {
          "output_type": "stream",
          "name": "stdout",
          "text": [
            "naive Bayes Test accuracy :  0.9285714285714286\n"
          ]
        }
      ]
    },
    {
      "cell_type": "code",
      "source": [
        "# Initialize empty lists to store Precision, Recall, and F1-score for each class\n",
        "precisions = []\n",
        "recalls = []\n",
        "f1_scores = []\n",
        "unique_labels = set(y_test) | set(y_test_pred_nb)\n",
        "for label in unique_labels:\n",
        "    precision = calculate_precision(y_test, y_test_pred_nb, label)\n",
        "    recall = calculate_recall(y_test, y_test_pred_nb, label)\n",
        "    f1_score = calculate_f1_score(precision, recall)\n",
        "    precisions.append(precision)\n",
        "    recalls.append(recall)\n",
        "    f1_scores.append(f1_score)\n",
        "for i, label in enumerate(unique_labels):\n",
        "    print(f\"Class {label}:\")\n",
        "    print(f\"Precision: {precisions[i]}\")\n",
        "    print(f\"Recall: {recalls[i]}\")\n",
        "    print(f\"F1-score: {f1_scores[i]}\")\n"
      ],
      "metadata": {
        "colab": {
          "base_uri": "https://localhost:8080/"
        },
        "id": "DaK5AwUBjPQt",
        "outputId": "fa25ac03-43f3-48b7-c81b-29199ec1270e"
      },
      "execution_count": 54,
      "outputs": [
        {
          "output_type": "stream",
          "name": "stdout",
          "text": [
            "Class 0.0:\n",
            "Precision: 1.0\n",
            "Recall: 0.8888888888888888\n",
            "F1-score: 0.9411764705882353\n",
            "Class 1.0:\n",
            "Precision: 0.8333333333333334\n",
            "Recall: 1.0\n",
            "F1-score: 0.9090909090909091\n"
          ]
        }
      ]
    },
    {
      "cell_type": "code",
      "source": [
        "\n",
        "for label in unique_labels:\n",
        "    true_positives = sum((y_test == label) & (y_test_pred_nb == label))\n",
        "    predicted_positives = sum(y_test_pred_nb == label)\n",
        "    actual_positives = sum(y_test == label)\n",
        "\n",
        "    if predicted_positives > 0:\n",
        "        precision = true_positives / predicted_positives\n",
        "    else:\n",
        "        precision = 0\n",
        "\n",
        "    if actual_positives > 0:\n",
        "        recall = true_positives / actual_positives\n",
        "    else:\n",
        "        recall = 0\n",
        "\n",
        "    precisions.append(precision)\n",
        "    recalls.append(recall)\n",
        "\n",
        "# Plot Precision-Recall curve\n",
        "plt.figure(figsize=(8, 6))\n",
        "plt.plot(recalls, precisions, marker='.')\n",
        "plt.xlabel('Recall')\n",
        "plt.ylabel('Precision')\n",
        "plt.title('Precision-Recall Curve')\n",
        "plt.grid(True)\n",
        "plt.show()\n"
      ],
      "metadata": {
        "colab": {
          "base_uri": "https://localhost:8080/",
          "height": 564
        },
        "id": "-iyd7LCEjPNr",
        "outputId": "7cd88bf5-3228-43c5-e4cf-eacfa0ba7c19"
      },
      "execution_count": 55,
      "outputs": [
        {
          "output_type": "display_data",
          "data": {
            "text/plain": [
              "<Figure size 800x600 with 1 Axes>"
            ],
            "image/png": "[encoded data removed]"
          },
          "metadata": {}
        }
      ]
    },
    {
      "cell_type": "code",
      "source": [
        "conf_matrix = calculate_confusion_matrix(y_test, y_test_pred_nb)\n",
        "print(\"Decision tree Confusion Matrix:\")\n",
        "for row in conf_matrix:\n",
        "    print(row)"
      ],
      "metadata": {
        "colab": {
          "base_uri": "https://localhost:8080/"
        },
        "id": "3pXFLh1kjPE1",
        "outputId": "ae84af30-4e42-43ce-cc2c-e32a835027f7"
      },
      "execution_count": 56,
      "outputs": [
        {
          "output_type": "stream",
          "name": "stdout",
          "text": [
            "Decision tree Confusion Matrix:\n",
            "[8, 1]\n",
            "[0, 5]\n"
          ]
        }
      ]
    },
    {
      "cell_type": "markdown",
      "source": [
        "# Export Dataset"
      ],
      "metadata": {
        "id": "NYnzWGCDj8Ej"
      }
    },
    {
      "cell_type": "code",
      "source": [
        "file_path = '/content/gdrive/MyDrive/data/Assignment5_processed_dataset_brain_cancer.xlsx'\n",
        "df.to_excel(file_path, index=False)"
      ],
      "metadata": {
        "id": "4-CoxHOkj-hI"
      },
      "execution_count": 57,
      "outputs": []
    }
  ]
}